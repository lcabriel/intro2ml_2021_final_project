{
 "cells": [
  {
   "cell_type": "code",
   "execution_count": 1,
   "id": "5a6b9583-3b48-47a2-9922-e4f85127ca99",
   "metadata": {},
   "outputs": [
    {
     "name": "stdout",
     "output_type": "stream",
     "text": [
      "                       id language  retweet        date      time  \\\n",
      "0     1485744412172950000       en    False  24/01/2022  23:40:46   \n",
      "1     1485721208616270000       en    False  24/01/2022  22:08:34   \n",
      "2     1485712796457340000       en    False  24/01/2022  21:35:08   \n",
      "3     1485696815081160000       en    False  24/01/2022  20:31:38   \n",
      "4     1485676215142920000       en    False  24/01/2022  19:09:46   \n",
      "...                   ...      ...      ...         ...       ...   \n",
      "1995   576616860638158000       en    False  14/03/2015  06:32:27   \n",
      "1996   576378534635155000       en    False  13/03/2015  14:45:25   \n",
      "1997   576323800913997000       en    False  13/03/2015  11:07:56   \n",
      "1998   576027220013031000       en    False  12/03/2015  15:29:25   \n",
      "1999   576003023455068000       en    False  12/03/2015  13:53:17   \n",
      "\n",
      "                                                  tweet  \\\n",
      "0     just sliced an acorn squash and it wasnt even ...   \n",
      "1     Acorn squash, lacinato kale, parsnip and duck ...   \n",
      "2     @SmrtAleks Sounds great Aleks. I love sweet po...   \n",
      "3       and i’m gonna roast an acorn squash to go w it!   \n",
      "4                        Stuffed acorn squash tonight 🥰   \n",
      "...                                                 ...   \n",
      "1995  Bacon Burgers and Cheese Fries.  http://t.co/X...   \n",
      "1996  Friday the 13th might be an unlucky day, but w...   \n",
      "1997                        I prefer your love to bacon   \n",
      "1998                      Is it possible to marry bacon   \n",
      "1999  Bacon Burgers and Cheese Fries. ^  http://t.co...   \n",
      "\n",
      "                                               mentions  \\\n",
      "0                                                    []   \n",
      "1     [{'screen_name': 'farmfreshtoyou', 'name': 'fa...   \n",
      "2                                                    []   \n",
      "3                                                    []   \n",
      "4                                                    []   \n",
      "...                                                 ...   \n",
      "1995                                                 []   \n",
      "1996                                                 []   \n",
      "1997                                                 []   \n",
      "1998                                                 []   \n",
      "1999                                                 []   \n",
      "\n",
      "                                                   urls  \\\n",
      "0                                                    []   \n",
      "1     ['https://www.instagram.com/p/CZIJpF8vpWl/?utm...   \n",
      "2                                                    []   \n",
      "3                                                    []   \n",
      "4                                                    []   \n",
      "...                                                 ...   \n",
      "1995                                                 []   \n",
      "1996                                                 []   \n",
      "1997                                                 []   \n",
      "1998                                                 []   \n",
      "1999                                                 []   \n",
      "\n",
      "                                                 photos hashtags quote_url  \\\n",
      "0                                                    []       []       NaN   \n",
      "1                                                    []       []       NaN   \n",
      "2                                                    []       []       NaN   \n",
      "3                                                    []       []       NaN   \n",
      "4                                                    []       []       NaN   \n",
      "...                                                 ...      ...       ...   \n",
      "1995  ['https://pbs.twimg.com/media/CACN-soWMAABWO0....       []       NaN   \n",
      "1996                                                 []       []       NaN   \n",
      "1997                                                 []       []       NaN   \n",
      "1998                                                 []       []       NaN   \n",
      "1999  ['https://pbs.twimg.com/media/Bz2LzKuIEAEEO69....       []       NaN   \n",
      "\n",
      "      video  replies_count  likes_count  retweets_count  \n",
      "0         0              0            5               0  \n",
      "1         0              1            1               0  \n",
      "2         0              1            1               0  \n",
      "3         0              0            2               0  \n",
      "4         0              0            0               0  \n",
      "...     ...            ...          ...             ...  \n",
      "1995      1             94         2166            2765  \n",
      "1996      0             14         2796            1773  \n",
      "1997      0            292         5009            3194  \n",
      "1998      0            401         3219            1290  \n",
      "1999      1            109         2517            3268  \n",
      "\n",
      "[2000 rows x 15 columns]\n"
     ]
    }
   ],
   "source": [
    "import matplotlib.pyplot as mpl\n",
    "import numpy as np\n",
    "import pandas as pd\n",
    "df = pd.read_csv(r'C:\\Users\\loren\\Documents\\GitHub\\intro2ml_2021_final_project\\Data\\dataset_2k.csv')\n",
    "print(df)"
   ]
  },
  {
   "cell_type": "code",
   "execution_count": 2,
   "id": "9d46d648-7b88-4e80-ab6b-f5f74302a2e8",
   "metadata": {},
   "outputs": [],
   "source": [
    "texts = df[\"tweet\"]\n",
    "lunghezze = [0 for x in texts]\n",
    "for i in range(len(texts)):\n",
    "    lunghezze[i]=len(texts[i])"
   ]
  },
  {
   "cell_type": "code",
   "execution_count": 3,
   "id": "35da3fbb-76d0-4ad7-90ac-42d051667b48",
   "metadata": {},
   "outputs": [],
   "source": [
    "rt = df[\"retweets_count\"]\n",
    "retweets = [np.int64(0) for x in rt]\n",
    "for i in range(len(rt)):\n",
    "    retweets[i] = rt[i]"
   ]
  },
  {
   "cell_type": "code",
   "execution_count": 4,
   "id": "fc564261-2831-48ae-9cb2-79d06e7e6b3e",
   "metadata": {},
   "outputs": [
    {
     "name": "stdout",
     "output_type": "stream",
     "text": [
      "[[0]\n",
      " [0]\n",
      " [0]\n",
      " ...\n",
      " [1]\n",
      " [1]\n",
      " [1]]\n"
     ]
    },
    {
     "data": {
      "text/plain": [
       "numpy.ndarray"
      ]
     },
     "execution_count": 4,
     "metadata": {},
     "output_type": "execute_result"
    }
   ],
   "source": [
    "popular = np.zeros((len(lunghezze),1),dtype=np.int32)\n",
    "for i in range(len(lunghezze)):\n",
    "    if retweets[i]>=1000:\n",
    "        popular[i]=1\n",
    "print(popular)\n",
    "type(popular)"
   ]
  },
  {
   "cell_type": "code",
   "execution_count": 5,
   "id": "2c2f3a14-bc8d-4190-a3ce-b97611fc7625",
   "metadata": {},
   "outputs": [],
   "source": [
    "from sklearn import svm"
   ]
  },
  {
   "cell_type": "code",
   "execution_count": 6,
   "id": "de06e904-9157-4426-8f92-c64f270d0369",
   "metadata": {},
   "outputs": [],
   "source": [
    "lung2D = np.zeros((len(lunghezze),2),dtype=np.int32)\n",
    "for i in range(len(lunghezze)):\n",
    "    lung2D[i][0]=lunghezze[i]"
   ]
  },
  {
   "cell_type": "code",
   "execution_count": 7,
   "id": "053fd3d2-8c0a-4cb8-a6c6-03c4925232c3",
   "metadata": {},
   "outputs": [
    {
     "data": {
      "text/plain": [
       "SVC()"
      ]
     },
     "execution_count": 7,
     "metadata": {},
     "output_type": "execute_result"
    }
   ],
   "source": [
    "regr = svm.SVC()\n",
    "regr.fit(lung2D,popular.ravel())"
   ]
  },
  {
   "cell_type": "code",
   "execution_count": 8,
   "id": "e9b788d2-1f85-472c-92f8-3bc7a071e51d",
   "metadata": {},
   "outputs": [
    {
     "data": {
      "text/plain": [
       "1"
      ]
     },
     "execution_count": 8,
     "metadata": {},
     "output_type": "execute_result"
    }
   ],
   "source": [
    "regr.predict([[70,0]])[0]"
   ]
  },
  {
   "cell_type": "code",
   "execution_count": 9,
   "id": "4c0d000c-d951-4ec3-bcf4-fb73ad9de65f",
   "metadata": {},
   "outputs": [
    {
     "data": {
      "text/plain": [
       "<matplotlib.collections.PathCollection at 0x21e4d21df70>"
      ]
     },
     "execution_count": 9,
     "metadata": {},
     "output_type": "execute_result"
    },
    {
     "data": {
      "image/png": "[encoded data removed]",
      "text/plain": [
       "<Figure size 432x288 with 1 Axes>"
      ]
     },
     "metadata": {
      "needs_background": "light"
     },
     "output_type": "display_data"
    }
   ],
   "source": [
    "predpoints = np.zeros((len(lunghezze),1),dtype=np.int32)\n",
    "for i in range(len(lunghezze)):\n",
    "    predpoints[i] = regr.predict([[lunghezze[i],0]])[0]\n",
    "mpl.scatter(lunghezze,predpoints)"
   ]
  },
  {
   "cell_type": "code",
   "execution_count": 10,
   "id": "37f036c0-fc92-4bd0-b72b-76763f98fe17",
   "metadata": {},
   "outputs": [
    {
     "name": "stdout",
     "output_type": "stream",
     "text": [
      "[1]\n",
      "841\n",
      "0.4205\n"
     ]
    },
    {
     "data": {
      "image/png": "[encoded data removed]",
      "text/plain": [
       "<Figure size 432x288 with 1 Axes>"
      ]
     },
     "metadata": {
      "needs_background": "light"
     },
     "output_type": "display_data"
    }
   ],
   "source": [
    "errori = np.zeros((len(lunghezze),1),dtype=np.int32)\n",
    "count=0\n",
    "for i in range(len(lunghezze)):\n",
    "    errori[i]=abs(popular[i]-predpoints[i])\n",
    "    if(errori[i]==1):\n",
    "        count+=1 \n",
    "mpl.scatter(lunghezze,errori)\n",
    "print(errori[0])\n",
    "print(count)\n",
    "print(count/len(lunghezze))"
   ]
  },
  {
   "cell_type": "code",
   "execution_count": 11,
   "id": "6e7fd73d-f161-4e46-a974-5b606b848f88",
   "metadata": {},
   "outputs": [
    {
     "name": "stdout",
     "output_type": "stream",
     "text": [
      "[0]\n",
      "324\n",
      "0.324\n"
     ]
    },
    {
     "data": {
      "text/plain": [
       "<matplotlib.collections.PathCollection at 0x21e4da4a370>"
      ]
     },
     "execution_count": 11,
     "metadata": {},
     "output_type": "execute_result"
    },
    {
     "data": {
      "image/png": "[encoded data removed]",
      "text/plain": [
       "<Figure size 432x288 with 1 Axes>"
      ]
     },
     "metadata": {
      "needs_background": "light"
     },
     "output_type": "display_data"
    }
   ],
   "source": [
    "erroripop = np.zeros((len(lunghezze),1),dtype=np.int32)\n",
    "count=0\n",
    "for i in range(len(lunghezze)):\n",
    "    if(popular[i]==1):\n",
    "        erroripop[i]=abs(popular[i]-predpoints[i])+1\n",
    "        if(erroripop[i]==2):\n",
    "            count+=1\n",
    "print(erroripop[0])\n",
    "print(count)\n",
    "print(count/1000)\n",
    "mpl.scatter(lunghezze,erroripop)"
   ]
  },
  {
   "cell_type": "code",
   "execution_count": 12,
   "id": "b395c72c-2f2d-44b4-b196-5a5ac7f78a57",
   "metadata": {},
   "outputs": [
    {
     "name": "stdout",
     "output_type": "stream",
     "text": [
      "[2]\n",
      "517\n",
      "0.517\n"
     ]
    },
    {
     "data": {
      "text/plain": [
       "<matplotlib.collections.PathCollection at 0x21e4dab2730>"
      ]
     },
     "execution_count": 12,
     "metadata": {},
     "output_type": "execute_result"
    },
    {
     "data": {
      "image/png": "[encoded data removed]",
      "text/plain": [
       "<Figure size 432x288 with 1 Axes>"
      ]
     },
     "metadata": {
      "needs_background": "light"
     },
     "output_type": "display_data"
    }
   ],
   "source": [
    "errorinpop = np.zeros((len(lunghezze),1),dtype=np.int32)\n",
    "count=0\n",
    "for i in range(len(lunghezze)):\n",
    "    if(popular[i]==0):\n",
    "        errorinpop[i]=abs(popular[i]-predpoints[i])+1\n",
    "        if(errorinpop[i]==2):\n",
    "            count+=1\n",
    "print(errorinpop[0])\n",
    "print(count)\n",
    "print(count/1000)\n",
    "mpl.scatter(lunghezze,errorinpop)"
   ]
  },
  {
   "cell_type": "markdown",
   "id": "e224e430-9ad4-46a1-bb51-b2dbae9eacde",
   "metadata": {},
   "source": [
    " "
   ]
  },
  {
   "cell_type": "markdown",
   "id": "84633899-d4e5-4aaf-8764-20b3ae0d8bc5",
   "metadata": {},
   "source": [
    "################################################################################################################################################"
   ]
  },
  {
   "cell_type": "markdown",
   "id": "e6c3fb4a-58c1-4a68-ab04-221767d9e095",
   "metadata": {},
   "source": [
    " "
   ]
  },
  {
   "cell_type": "code",
   "execution_count": 13,
   "id": "67430554-fbc7-48c5-a200-5c389aa44b97",
   "metadata": {},
   "outputs": [],
   "source": [
    "photos = df[\"photos\"]"
   ]
  },
  {
   "cell_type": "code",
   "execution_count": 14,
   "id": "a6a44ece-a335-4ae8-b046-d7ec0e9266d9",
   "metadata": {},
   "outputs": [],
   "source": [
    "numphoto = np.zeros((len(photos),1),dtype=np.int32)\n",
    "for i in range(len(photos)):\n",
    "    if(photos[i]!=photos[0]):\n",
    "        numphoto[i]=len(photos[i].split(','))"
   ]
  },
  {
   "cell_type": "code",
   "execution_count": 46,
   "id": "6af15afd-1ae4-4744-abe2-f96b37ebcde2",
   "metadata": {},
   "outputs": [
    {
     "name": "stdout",
     "output_type": "stream",
     "text": [
      "[[0 0]\n",
      " [0 0]\n",
      " [0 0]\n",
      " ...\n",
      " [0 0]\n",
      " [0 0]\n",
      " [0 1]]\n"
     ]
    }
   ],
   "source": [
    "X = np.zeros((len(lunghezze),2),dtype=np.int32)\n",
    "for i in range(len(lunghezze)):\n",
    "    #X[i][0]=lunghezze[i]\n",
    "    X[i][0]=0\n",
    "    X[i][1]=numphoto[i]\n",
    "print(X)"
   ]
  },
  {
   "cell_type": "code",
   "execution_count": 47,
   "id": "911df6b1-6475-480d-94a7-db2889ad699a",
   "metadata": {},
   "outputs": [
    {
     "data": {
      "text/plain": [
       "SVC()"
      ]
     },
     "execution_count": 47,
     "metadata": {},
     "output_type": "execute_result"
    }
   ],
   "source": [
    "regr = svm.SVC()\n",
    "regr.fit(X,popular.ravel())"
   ]
  },
  {
   "cell_type": "code",
   "execution_count": 48,
   "id": "e2d7d341-6cef-4e17-90e2-84de4334ecb7",
   "metadata": {},
   "outputs": [
    {
     "data": {
      "text/plain": [
       "1"
      ]
     },
     "execution_count": 48,
     "metadata": {},
     "output_type": "execute_result"
    }
   ],
   "source": [
    "regr.predict([[70,1]])[0]"
   ]
  },
  {
   "cell_type": "code",
   "execution_count": 49,
   "id": "7d0787f9-1ab5-49e9-8c48-12c8640694fc",
   "metadata": {},
   "outputs": [
    {
     "data": {
      "text/plain": [
       "<matplotlib.collections.PathCollection at 0x1f9fe1653a0>"
      ]
     },
     "execution_count": 49,
     "metadata": {},
     "output_type": "execute_result"
    },
    {
     "data": {
      "image/png": "[encoded data removed]",
      "text/plain": [
       "<Figure size 432x288 with 1 Axes>"
      ]
     },
     "metadata": {
      "needs_background": "light"
     },
     "output_type": "display_data"
    }
   ],
   "source": [
    "predpoints = np.zeros((len(lunghezze),1),dtype=np.int32)\n",
    "for i in range(len(lunghezze)):\n",
    "    predpoints[i] = regr.predict([[lunghezze[i],numphoto[i]]])[0]\n",
    "mpl.scatter(lunghezze,predpoints)"
   ]
  },
  {
   "cell_type": "code",
   "execution_count": 50,
   "id": "0f5355a2-ae68-4f1d-8990-2782accea6f1",
   "metadata": {},
   "outputs": [
    {
     "data": {
      "text/plain": [
       "<matplotlib.collections.PathCollection at 0x1f9fe19ceb0>"
      ]
     },
     "execution_count": 50,
     "metadata": {},
     "output_type": "execute_result"
    },
    {
     "data": {
      "image/png": "[encoded data removed]",
      "text/plain": [
       "<Figure size 432x288 with 1 Axes>"
      ]
     },
     "metadata": {
      "needs_background": "light"
     },
     "output_type": "display_data"
    }
   ],
   "source": [
    "mpl.scatter(numphoto,predpoints)"
   ]
  },
  {
   "cell_type": "code",
   "execution_count": 51,
   "id": "7d0b2583-fc64-40c0-8a7c-a99a458a1b74",
   "metadata": {},
   "outputs": [
    {
     "name": "stdout",
     "output_type": "stream",
     "text": [
      "[1]\n",
      "1000\n",
      "0.5\n"
     ]
    },
    {
     "data": {
      "image/png": "[encoded data removed]",
      "text/plain": [
       "<Figure size 432x288 with 1 Axes>"
      ]
     },
     "metadata": {
      "needs_background": "light"
     },
     "output_type": "display_data"
    }
   ],
   "source": [
    "errori = np.zeros((len(lunghezze),1),dtype=np.int32)\n",
    "count=0\n",
    "for i in range(len(lunghezze)):\n",
    "    errori[i]=abs(popular[i]-predpoints[i])\n",
    "    if(errori[i]==1):\n",
    "        count+=1 \n",
    "mpl.scatter(lunghezze,errori)\n",
    "print(errori[0])\n",
    "print(count)\n",
    "print(count/len(lunghezze))"
   ]
  },
  {
   "cell_type": "code",
   "execution_count": 52,
   "id": "d735bb84-a5b4-416f-80c5-bf82ff8e6240",
   "metadata": {},
   "outputs": [
    {
     "name": "stdout",
     "output_type": "stream",
     "text": [
      "[0]\n",
      "0\n",
      "0.0\n"
     ]
    },
    {
     "data": {
      "text/plain": [
       "<matplotlib.collections.PathCollection at 0x1f9fe248df0>"
      ]
     },
     "execution_count": 52,
     "metadata": {},
     "output_type": "execute_result"
    },
    {
     "data": {
      "image/png": "[encoded data removed]",
      "text/plain": [
       "<Figure size 432x288 with 1 Axes>"
      ]
     },
     "metadata": {
      "needs_background": "light"
     },
     "output_type": "display_data"
    }
   ],
   "source": [
    "erroripop = np.zeros((len(lunghezze),1),dtype=np.int32)\n",
    "count=0\n",
    "for i in range(len(lunghezze)):\n",
    "    if(popular[i]==1):\n",
    "        erroripop[i]=abs(popular[i]-predpoints[i])+1\n",
    "        if(erroripop[i]==2):\n",
    "            count+=1\n",
    "print(erroripop[0])\n",
    "print(count)\n",
    "print(count/1000)\n",
    "mpl.scatter(lunghezze,erroripop)"
   ]
  },
  {
   "cell_type": "code",
   "execution_count": 53,
   "id": "42606459-f973-4352-ad08-0bbe27b03eb8",
   "metadata": {},
   "outputs": [
    {
     "name": "stdout",
     "output_type": "stream",
     "text": [
      "[2]\n",
      "1000\n",
      "1.0\n"
     ]
    },
    {
     "data": {
      "text/plain": [
       "<matplotlib.collections.PathCollection at 0x1f9fd0ed100>"
      ]
     },
     "execution_count": 53,
     "metadata": {},
     "output_type": "execute_result"
    },
    {
     "data": {
      "image/png": "[encoded data removed]",
      "text/plain": [
       "<Figure size 432x288 with 1 Axes>"
      ]
     },
     "metadata": {
      "needs_background": "light"
     },
     "output_type": "display_data"
    }
   ],
   "source": [
    "errorinpop = np.zeros((len(lunghezze),1),dtype=np.int32)\n",
    "count=0\n",
    "for i in range(len(lunghezze)):\n",
    "    if(popular[i]==0):\n",
    "        errorinpop[i]=abs(popular[i]-predpoints[i])+1\n",
    "        if(errorinpop[i]==2):\n",
    "            count+=1\n",
    "print(errorinpop[0])\n",
    "print(count)\n",
    "print(count/1000)\n",
    "mpl.scatter(lunghezze,errorinpop)"
   ]
  },
  {
   "cell_type": "markdown",
   "id": "159f468e-1cfb-45a3-a8e5-5cad8acb5065",
   "metadata": {},
   "source": [
    "################################################################################################################################################"
   ]
  },
  {
   "cell_type": "code",
   "execution_count": 54,
   "id": "36f948dc-7c85-4914-b3fe-67bdee8f65d8",
   "metadata": {},
   "outputs": [],
   "source": [
    "ht = df[\"hashtags\"]"
   ]
  },
  {
   "cell_type": "code",
   "execution_count": 55,
   "id": "cf61f195-c319-423e-9595-e9797e4ebf03",
   "metadata": {},
   "outputs": [
    {
     "name": "stdout",
     "output_type": "stream",
     "text": [
      "[[0]\n",
      " [0]\n",
      " [0]\n",
      " ...\n",
      " [0]\n",
      " [0]\n",
      " [0]]\n"
     ]
    }
   ],
   "source": [
    "nhash = np.zeros((len(ht),1),dtype=np.int32)\n",
    "for i in range(len(ht)):\n",
    "    if(ht[i]!=ht[0]):\n",
    "        nhash[i]=len(ht[i].split(','))\n",
    "print(nhash)"
   ]
  },
  {
   "cell_type": "markdown",
   "id": "2b629b5e-5be4-4cc6-a8be-f8a6221fdc7a",
   "metadata": {},
   "source": [
    "################################################# SOLO HASHTAG E LUNGHEZZE ##############################################################"
   ]
  },
  {
   "cell_type": "code",
   "execution_count": 57,
   "id": "5e9ccf04-06da-45cd-ba6f-eef1f945c64b",
   "metadata": {},
   "outputs": [
    {
     "name": "stdout",
     "output_type": "stream",
     "text": [
      "[[0 0]\n",
      " [0 0]\n",
      " [0 0]\n",
      " ...\n",
      " [0 0]\n",
      " [0 0]\n",
      " [0 0]]\n"
     ]
    }
   ],
   "source": [
    "X = np.zeros((len(lunghezze),2),dtype=np.int32)\n",
    "for i in range(len(lunghezze)):\n",
    "    #X[i][0]=lunghezze[i]\n",
    "    X[i][0]=0\n",
    "    X[i][1]=nhash[i]\n",
    "print(X)"
   ]
  },
  {
   "cell_type": "markdown",
   "id": "3c986d2d-bf8c-4735-b154-60628ea7db3c",
   "metadata": {},
   "source": [
    "####################################### SOLO HASHTAG E NUMERO DI FOTO ######################################################################"
   ]
  },
  {
   "cell_type": "code",
   "execution_count": 67,
   "id": "e3432c57-dfbb-4ed9-92f1-90a01183d94a",
   "metadata": {},
   "outputs": [
    {
     "name": "stdout",
     "output_type": "stream",
     "text": [
      "[[0 0]\n",
      " [0 0]\n",
      " [0 0]\n",
      " ...\n",
      " [0 0]\n",
      " [0 0]\n",
      " [1 0]]\n"
     ]
    }
   ],
   "source": [
    "X = np.zeros((len(lunghezze),2),dtype=np.int32)\n",
    "for i in range(len(lunghezze)):\n",
    "    X[i][0]=numphoto[i]\n",
    "    X[i][1]=nhash[i]\n",
    "print(X)"
   ]
  },
  {
   "cell_type": "markdown",
   "id": "117d7a43-3b7e-4634-8be1-79b764443566",
   "metadata": {},
   "source": [
    "######################################### PROVA UTILIZZANDO TUTTI E TRE ################################################################"
   ]
  },
  {
   "cell_type": "code",
   "execution_count": 75,
   "id": "cf8f43cc-e678-431c-8e23-8e8aa04a7723",
   "metadata": {},
   "outputs": [
    {
     "name": "stdout",
     "output_type": "stream",
     "text": [
      "[[0 0 0]\n",
      " [0 0 0]\n",
      " [0 0 0]\n",
      " ...\n",
      " [0 0 0]\n",
      " [0 0 0]\n",
      " [0 0 1]]\n"
     ]
    }
   ],
   "source": [
    "X = np.zeros((len(lunghezze),3),dtype=np.int32)\n",
    "for i in range(len(lunghezze)):\n",
    "    #X[i][0]=lunghezze[i]\n",
    "    X[i][0]=0\n",
    "    X[i][1]=nhash[i]\n",
    "    X[i][2]=numphoto[i]\n",
    "print(X)"
   ]
  },
  {
   "cell_type": "markdown",
   "id": "2d671f52-714d-4a64-9c84-f0e2c7aa3c74",
   "metadata": {},
   "source": [
    "########################################## OUTPUT ########################################################################################"
   ]
  },
  {
   "cell_type": "code",
   "execution_count": 76,
   "id": "185c6cef-1026-403a-a59f-a69528ddacd2",
   "metadata": {},
   "outputs": [
    {
     "data": {
      "text/plain": [
       "SVC()"
      ]
     },
     "execution_count": 76,
     "metadata": {},
     "output_type": "execute_result"
    }
   ],
   "source": [
    "regr = svm.SVC()\n",
    "regr.fit(X,popular.ravel())"
   ]
  },
  {
   "cell_type": "code",
   "execution_count": 77,
   "id": "16a3e845-e5eb-4400-ade7-9beb00eea2cd",
   "metadata": {},
   "outputs": [
    {
     "data": {
      "text/plain": [
       "0"
      ]
     },
     "execution_count": 77,
     "metadata": {},
     "output_type": "execute_result"
    }
   ],
   "source": [
    "regr.predict([[70,1,1]])[0]"
   ]
  },
  {
   "cell_type": "code",
   "execution_count": 78,
   "id": "6c0f049d-6686-4cc9-a1f4-9164c8c75966",
   "metadata": {},
   "outputs": [
    {
     "data": {
      "text/plain": [
       "<matplotlib.collections.PathCollection at 0x1f9fe22d850>"
      ]
     },
     "execution_count": 78,
     "metadata": {},
     "output_type": "execute_result"
    },
    {
     "data": {
      "image/png": "[encoded data removed]",
      "text/plain": [
       "<Figure size 432x288 with 1 Axes>"
      ]
     },
     "metadata": {
      "needs_background": "light"
     },
     "output_type": "display_data"
    }
   ],
   "source": [
    "predpoints = np.zeros((len(lunghezze),1),dtype=np.int32)\n",
    "for i in range(len(lunghezze)):\n",
    "    predpoints[i] = regr.predict([[X[i][0],X[i][1],X[i][2]]])[0]\n",
    "mpl.scatter(X[:,0],predpoints)"
   ]
  },
  {
   "cell_type": "code",
   "execution_count": 79,
   "id": "df66725f-2c65-4290-b4cd-e3dd183a58f6",
   "metadata": {},
   "outputs": [
    {
     "data": {
      "text/plain": [
       "<matplotlib.collections.PathCollection at 0x1f9fe213670>"
      ]
     },
     "execution_count": 79,
     "metadata": {},
     "output_type": "execute_result"
    },
    {
     "data": {
      "image/png": "[encoded data removed]",
      "text/plain": [
       "<Figure size 432x288 with 1 Axes>"
      ]
     },
     "metadata": {
      "needs_background": "light"
     },
     "output_type": "display_data"
    }
   ],
   "source": [
    "mpl.scatter(X[:,1],predpoints)"
   ]
  },
  {
   "cell_type": "code",
   "execution_count": 80,
   "id": "06d29a16-b77d-4706-883c-e690f4a204d2",
   "metadata": {},
   "outputs": [
    {
     "name": "stdout",
     "output_type": "stream",
     "text": [
      "[1]\n",
      "876\n",
      "0.438\n"
     ]
    },
    {
     "data": {
      "image/png": "[encoded data removed]",
      "text/plain": [
       "<Figure size 432x288 with 1 Axes>"
      ]
     },
     "metadata": {
      "needs_background": "light"
     },
     "output_type": "display_data"
    }
   ],
   "source": [
    "errori = np.zeros((len(lunghezze),1),dtype=np.int32)\n",
    "count=0\n",
    "for i in range(len(lunghezze)):\n",
    "    errori[i]=abs(popular[i]-predpoints[i])\n",
    "    if(errori[i]==1):\n",
    "        count+=1 \n",
    "mpl.scatter(X[:,0],errori)\n",
    "print(errori[0])\n",
    "print(count)\n",
    "print(count/len(lunghezze))"
   ]
  },
  {
   "cell_type": "code",
   "execution_count": 81,
   "id": "23cb21d3-941d-4a8a-8b65-fa21cf70b0d6",
   "metadata": {},
   "outputs": [
    {
     "name": "stdout",
     "output_type": "stream",
     "text": [
      "[0]\n",
      "184\n",
      "0.184\n"
     ]
    },
    {
     "data": {
      "text/plain": [
       "<matplotlib.collections.PathCollection at 0x1f9fcb95550>"
      ]
     },
     "execution_count": 81,
     "metadata": {},
     "output_type": "execute_result"
    },
    {
     "data": {
      "image/png": "[encoded data removed]",
      "text/plain": [
       "<Figure size 432x288 with 1 Axes>"
      ]
     },
     "metadata": {
      "needs_background": "light"
     },
     "output_type": "display_data"
    }
   ],
   "source": [
    "erroripop = np.zeros((len(lunghezze),1),dtype=np.int32)\n",
    "count=0\n",
    "for i in range(len(lunghezze)):\n",
    "    if(popular[i]==1):\n",
    "        erroripop[i]=abs(popular[i]-predpoints[i])+1\n",
    "        if(erroripop[i]==2):\n",
    "            count+=1\n",
    "print(erroripop[0])\n",
    "print(count)\n",
    "print(count/1000)\n",
    "mpl.scatter(X[:,0],erroripop)"
   ]
  },
  {
   "cell_type": "code",
   "execution_count": 82,
   "id": "1056e09b-0458-4c2c-a1e2-03d38a5709f2",
   "metadata": {},
   "outputs": [
    {
     "name": "stdout",
     "output_type": "stream",
     "text": [
      "[2]\n",
      "692\n",
      "0.692\n"
     ]
    },
    {
     "data": {
      "text/plain": [
       "<matplotlib.collections.PathCollection at 0x1f9ff782a30>"
      ]
     },
     "execution_count": 82,
     "metadata": {},
     "output_type": "execute_result"
    },
    {
     "data": {
      "image/png": "[encoded data removed]",
      "text/plain": [
       "<Figure size 432x288 with 1 Axes>"
      ]
     },
     "metadata": {
      "needs_background": "light"
     },
     "output_type": "display_data"
    }
   ],
   "source": [
    "errorinpop = np.zeros((len(lunghezze),1),dtype=np.int32)\n",
    "count=0\n",
    "for i in range(len(lunghezze)):\n",
    "    if(popular[i]==0):\n",
    "        errorinpop[i]=abs(popular[i]-predpoints[i])+1\n",
    "        if(errorinpop[i]==2):\n",
    "            count+=1\n",
    "print(errorinpop[0])\n",
    "print(count)\n",
    "print(count/1000)\n",
    "mpl.scatter(X[:,0],errorinpop)"
   ]
  },
  {
   "cell_type": "markdown",
   "id": "a5498228-1501-4d2b-a859-7313c0f37fdf",
   "metadata": {},
   "source": [
    "######################################################################################################################################"
   ]
  },
  {
   "cell_type": "code",
   "execution_count": 83,
   "id": "cfe14a59-9a71-4c6e-b6fb-86cad03a4715",
   "metadata": {},
   "outputs": [
    {
     "name": "stdout",
     "output_type": "stream",
     "text": [
      "[[0]\n",
      " [0]\n",
      " [0]\n",
      " ...\n",
      " [0]\n",
      " [0]\n",
      " [1]]\n"
     ]
    }
   ],
   "source": [
    "vt = df[\"video\"]\n",
    "nvideo = np.zeros((len(vt),1),dtype=np.int32)\n",
    "for i in range(len(vt)):\n",
    "    if(vt[i]!=ht[0]):\n",
    "        nvideo[i]=vt[i]\n",
    "print(nvideo)"
   ]
  },
  {
   "cell_type": "code",
   "execution_count": 84,
   "id": "ffb677e6-6696-483d-8474-f0aeb5ad79d9",
   "metadata": {},
   "outputs": [
    {
     "name": "stdout",
     "output_type": "stream",
     "text": [
      "[[0 0 0 0]\n",
      " [0 0 0 0]\n",
      " [0 0 0 0]\n",
      " ...\n",
      " [0 0 0 0]\n",
      " [0 0 0 0]\n",
      " [0 0 1 1]]\n"
     ]
    },
    {
     "data": {
      "text/plain": [
       "<matplotlib.collections.PathCollection at 0x1f9ff890970>"
      ]
     },
     "execution_count": 84,
     "metadata": {},
     "output_type": "execute_result"
    },
    {
     "data": {
      "image/png": "[encoded data removed]",
      "text/plain": [
       "<Figure size 432x288 with 1 Axes>"
      ]
     },
     "metadata": {
      "needs_background": "light"
     },
     "output_type": "display_data"
    }
   ],
   "source": [
    "X = np.zeros((len(lunghezze),4),dtype=np.int32)\n",
    "for i in range(len(lunghezze)):\n",
    "    #X[i][0]=lunghezze[i]\n",
    "    X[i][0]=0\n",
    "    X[i][1]=nhash[i]\n",
    "    X[i][2]=numphoto[i]\n",
    "    X[i][3]=nvideo[i]\n",
    "print(X)\n",
    "regr = svm.SVC()\n",
    "regr.fit(X,popular.ravel())\n",
    "predpoints = np.zeros((len(lunghezze),1),dtype=np.int32)\n",
    "for i in range(len(lunghezze)):\n",
    "    predpoints[i] = regr.predict([[X[i][0],X[i][1],X[i][2],X[i][3]]])[0]\n",
    "mpl.scatter(X[:,0],predpoints)\n",
    "mpl.scatter(X[:,1],predpoints)"
   ]
  },
  {
   "cell_type": "code",
   "execution_count": 85,
   "id": "f03db217-fa37-492c-abe8-93271b93b5f5",
   "metadata": {},
   "outputs": [],
   "source": [
    "def errs():\n",
    "    errori = np.zeros((len(lunghezze),1),dtype=np.int32)\n",
    "    count=0\n",
    "    for i in range(len(lunghezze)):\n",
    "        errori[i]=abs(popular[i]-predpoints[i])\n",
    "        if(errori[i]==1):\n",
    "            count+=1 \n",
    "    mpl.scatter(X[:,0],errori)\n",
    "    print(errori[0])\n",
    "    print(count)\n",
    "    print(count/len(lunghezze))\n",
    "    erroripop = np.zeros((len(lunghezze),1),dtype=np.int32)\n",
    "    count=0\n",
    "    for i in range(len(lunghezze)):\n",
    "        if(popular[i]==1):\n",
    "            erroripop[i]=abs(popular[i]-predpoints[i])+1\n",
    "            if(erroripop[i]==2):\n",
    "                count+=1\n",
    "    print(erroripop[0])\n",
    "    print(count)\n",
    "    print(count/1000)\n",
    "    mpl.scatter(X[:,0],erroripop)\n",
    "    errorinpop = np.zeros((len(lunghezze),1),dtype=np.int32)\n",
    "    count=0\n",
    "    for i in range(len(lunghezze)):\n",
    "        if(popular[i]==0):\n",
    "            errorinpop[i]=abs(popular[i]-predpoints[i])+1\n",
    "            if(errorinpop[i]==2):\n",
    "                count+=1\n",
    "    print(errorinpop[0])\n",
    "    print(count)\n",
    "    print(count/1000)\n",
    "    mpl.scatter(X[:,0],errorinpop)"
   ]
  },
  {
   "cell_type": "code",
   "execution_count": 86,
   "id": "604d5231-bf10-4c1b-9e82-829f3fe5b5b7",
   "metadata": {},
   "outputs": [
    {
     "name": "stdout",
     "output_type": "stream",
     "text": [
      "[1]\n",
      "871\n",
      "0.4355\n",
      "[0]\n",
      "188\n",
      "0.188\n",
      "[2]\n",
      "683\n",
      "0.683\n"
     ]
    },
    {
     "data": {
      "image/png": "[encoded data removed]",
      "text/plain": [
       "<Figure size 432x288 with 1 Axes>"
      ]
     },
     "metadata": {
      "needs_background": "light"
     },
     "output_type": "display_data"
    }
   ],
   "source": [
    "errs()"
   ]
  },
  {
   "cell_type": "markdown",
   "id": "c16a4734-acee-4b13-b97b-1ee704b12165",
   "metadata": {},
   "source": [
    "####################################################################################################################################"
   ]
  },
  {
   "cell_type": "code",
   "execution_count": 87,
   "id": "d21a1558-91af-4c45-9b06-b1780e6866e8",
   "metadata": {},
   "outputs": [
    {
     "name": "stdout",
     "output_type": "stream",
     "text": [
      "      Unnamed: 0  anger  anticipation  disgust  fear  joy  sadness  surprise  \\\n",
      "0              1      0             2        0     0    0        0         0   \n",
      "1              2      0             0        0     0    0        0         0   \n",
      "2              3      0             2        0     0    3        0         2   \n",
      "3              4      0             0        0     0    0        0         0   \n",
      "4              5      0             0        0     0    0        0         0   \n",
      "...          ...    ...           ...      ...   ...  ...      ...       ...   \n",
      "1995        1996      0             0        0     0    0        0         0   \n",
      "1996        1997      1             0        1     1    1        1         1   \n",
      "1997        1998      0             0        0     0    1        0         0   \n",
      "1998        1999      0             1        0     1    1        0         1   \n",
      "1999        2000      0             0        0     0    0        0         0   \n",
      "\n",
      "      trust  negative  positive  \n",
      "0         0         0         0  \n",
      "1         0         0         0  \n",
      "2         2         0         3  \n",
      "3         0         0         0  \n",
      "4         0         0         0  \n",
      "...     ...       ...       ...  \n",
      "1995      0         0         0  \n",
      "1996      0         1         2  \n",
      "1997      1         0         2  \n",
      "1998      1         0         1  \n",
      "1999      0         0         0  \n",
      "\n",
      "[2000 rows x 11 columns]\n"
     ]
    }
   ],
   "source": [
    "sf = pd.read_csv(r'C:\\Users\\loren\\Documents\\GitHub\\intro2ml_2021_final_project\\Data\\sentiment_by_sentence.csv')\n",
    "print(sf)"
   ]
  },
  {
   "cell_type": "code",
   "execution_count": 88,
   "id": "4925e17c-4c53-4a8a-85fe-d7b5637f9811",
   "metadata": {},
   "outputs": [
    {
     "name": "stdout",
     "output_type": "stream",
     "text": [
      "[[0 0 0 ... 0 0 0]\n",
      " [0 0 0 ... 0 0 0]\n",
      " [0 0 0 ... 2 0 3]\n",
      " ...\n",
      " [0 0 0 ... 1 0 2]\n",
      " [0 0 0 ... 1 0 1]\n",
      " [0 0 1 ... 0 0 0]]\n"
     ]
    }
   ],
   "source": [
    "X = np.zeros((len(lunghezze),14),dtype=np.int32)\n",
    "for i in range(len(lunghezze)):\n",
    "    #X[i][0]=lunghezze[i]\n",
    "    X[i][0]=0\n",
    "    X[i][1]=nhash[i]\n",
    "    X[i][2]=numphoto[i]\n",
    "    X[i][3]=nvideo[i]\n",
    "    X[i][4]=sf[\"anger\"][i]\n",
    "    X[i][5]=sf[\"anticipation\"][i]\n",
    "    X[i][6]=sf[\"disgust\"][i]\n",
    "    X[i][7]=sf[\"fear\"][i]\n",
    "    X[i][8]=sf[\"joy\"][i]\n",
    "    X[i][9]=sf[\"sadness\"][i]\n",
    "    X[i][10]=sf[\"surprise\"][i]\n",
    "    X[i][11]=sf[\"trust\"][i]\n",
    "    X[i][12]=sf[\"negative\"][i]\n",
    "    X[i][13]=sf[\"positive\"][i]\n",
    "print(X)\n",
    "regr = svm.SVC()\n",
    "regr.fit(X,popular.ravel())\n",
    "predpoints = np.zeros((len(lunghezze),1),dtype=np.int32)\n",
    "for i in range(len(lunghezze)):\n",
    "    predpoints[i] = regr.predict([[X[i][0],X[i][1],X[i][2],X[i][3],X[i][4],X[i][5],X[i][6],X[i][7],X[i][8],X[i][9],X[i][10],X[i][11],X[i][12],X[i][13]]])[0]"
   ]
  },
  {
   "cell_type": "code",
   "execution_count": 89,
   "id": "75e582e1-11fc-41b7-971c-c007a256cab6",
   "metadata": {},
   "outputs": [
    {
     "name": "stdout",
     "output_type": "stream",
     "text": [
      "[1]\n",
      "678\n",
      "0.339\n",
      "[0]\n",
      "430\n",
      "0.43\n",
      "[2]\n",
      "248\n",
      "0.248\n"
     ]
    },
    {
     "data": {
      "image/png": "[encoded data removed]",
      "text/plain": [
       "<Figure size 432x288 with 1 Axes>"
      ]
     },
     "metadata": {
      "needs_background": "light"
     },
     "output_type": "display_data"
    }
   ],
   "source": [
    "errs()"
   ]
  },
  {
   "cell_type": "markdown",
   "id": "30d33294-c0fe-4e7b-af7e-e784e27a26af",
   "metadata": {},
   "source": [
    "###################################################################################################################################################\n",
    "ANALIZZANDO I CASI SOPRA RIPORTATI SI PUò NOTARE COME LA SVM RISULTI ESSERE NON IDONEA A RISOLVERE LA TIPOLOGIA DI PROBLEMA DA NOI POSTO.\n",
    "INFATTI I PARAMETRI SONO PER LORO NATURA SCARSAMENTE DETERMINANTI E NON DESCRIVONO LO SPAZIO DELLE FASI IN MANIERA TALE CHE SIA POSSIBILE\n",
    "DIVIDERLO TRAMITE UNA RETTA. ULTERIORI INDAGINI SI POSSONO SVOLGERE ANDANDO MAGARI A STUDIARE MEGLIO IL FUNZIONAMENTO DELLA SVM NELLA\n",
    "LIBRARY. SI PUò INOLTRE NOTARE COME ESCLUDERE LA LUNGHEZZA DEL TWEET MIGLIORI IN REALTA' IL FIT RAGGIUNGENDO, CON LE EMOZIONI UN ERRORE\n",
    "MEDIO DEL 34%. SI NOTI INOLTRE COME LA SVM NON RISULTA ESSERE MOLTO BILANCIATA TRA I FALSI POSITIVI E FALSI NEGATIVI.\n",
    "###################################################################################################################################################"
   ]
  }
 ],
 "metadata": {
  "kernelspec": {
   "display_name": "Python 3 (ipykernel)",
   "language": "python",
   "name": "python3"
  },
  "language_info": {
   "codemirror_mode": {
    "name": "ipython",
    "version": 3
   },
   "file_extension": ".py",
   "mimetype": "text/x-python",
   "name": "python",
   "nbconvert_exporter": "python",
   "pygments_lexer": "ipython3",
   "version": "3.9.7"
  }
 },
 "nbformat": 4,
 "nbformat_minor": 5
}
