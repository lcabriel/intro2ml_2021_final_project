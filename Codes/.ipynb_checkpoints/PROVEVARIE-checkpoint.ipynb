{
 "cells": [
  {
   "cell_type": "markdown",
   "id": "208c9c2f-ea82-43e4-baba-9e8662a294a7",
   "metadata": {},
   "source": [
    "IMPORTAZIONE DEL FILE CSV"
   ]
  },
  {
   "cell_type": "code",
   "execution_count": 1,
   "id": "00616ee1-72cf-4e8f-a725-4fe80e7d660f",
   "metadata": {},
   "outputs": [
    {
     "name": "stdout",
     "output_type": "stream",
     "text": [
      "                         id language  retweet        date      time  \\\n",
      "0       1317825082555850000       en    False  18/10/2020  15:49:18   \n",
      "1       1423070320588500000       en    False  05/08/2021  01:56:18   \n",
      "2       1159520925878010000       en    False  08/08/2019  19:45:06   \n",
      "3       1011814667302280000       en    False  27/06/2018  05:33:09   \n",
      "4        957611666245644000       en    False  28/01/2018  14:49:47   \n",
      "...                     ...      ...      ...         ...       ...   \n",
      "129360  1302757998578760000       en    False  07/09/2020  01:58:05   \n",
      "129361  1282718395100790000       en    False  13/07/2020  18:47:51   \n",
      "129362  1262435426356330000       en    False  18/05/2020  19:30:35   \n",
      "129363   962153369442836000       en    False  10/02/2018  03:36:53   \n",
      "129364   595957151677358000       en    False  06/05/2015  16:23:51   \n",
      "\n",
      "                                                    tweet mentions  \\\n",
      "0       When the moon hits your dish And you mispronou...       []   \n",
      "1       This is Alfalfa. He’s had a little sprout on h...       []   \n",
      "2       Here are some of the most climate-vulnerable f...       []   \n",
      "3          hey guys alfalfa here  https://t.co/BtweqDoaRn       []   \n",
      "4       @lrozen At the Alfalfa dinner, Franco came up ...       []   \n",
      "...                                                   ...      ...   \n",
      "129360  i think we need to acknowledge how talented li...       []   \n",
      "129361  I’ve watched this 187 times just to hear the g...       []   \n",
      "129362  im always intrigued by close friends stories.....       []   \n",
      "129363  So, my little niece has them hands and just pl...       []   \n",
      "129364  two corgis afraid of large zucchini  http://t....       []   \n",
      "\n",
      "                              urls  \\\n",
      "0                               []   \n",
      "1                               []   \n",
      "2       ['https://bit.ly/33l4Eyx']   \n",
      "3                               []   \n",
      "4                               []   \n",
      "...                            ...   \n",
      "129360                          []   \n",
      "129361                          []   \n",
      "129362                          []   \n",
      "129363                          []   \n",
      "129364                          []   \n",
      "\n",
      "                                                   photos hashtags quote_url  \\\n",
      "0                                                      []       []       NaN   \n",
      "1       ['https://pbs.twimg.com/media/E7_C54wUcAEjqtB....       []       NaN   \n",
      "2                                                      []       []       NaN   \n",
      "3       ['https://pbs.twimg.com/media/DgqwE1fU8AAo8Td....       []       NaN   \n",
      "4                                                      []       []       NaN   \n",
      "...                                                   ...      ...       ...   \n",
      "129360  ['https://pbs.twimg.com/media/EhRTOQ7WsAEiNiM....       []       NaN   \n",
      "129361                                                 []       []       NaN   \n",
      "129362                                                 []       []       NaN   \n",
      "129363                                                 []       []       NaN   \n",
      "129364  ['https://pbs.twimg.com/media/CEVD3xlWgAIHq67....       []       NaN   \n",
      "\n",
      "        video  replies_count  likes_count  retweets_count  \n",
      "0           0            124        37095            4444  \n",
      "1           1            546       134080           10435  \n",
      "2           0            593         8478            4372  \n",
      "3           1           1035        13264            1569  \n",
      "4           0            112         6069            1765  \n",
      "...       ...            ...          ...             ...  \n",
      "129360      1            368       223723           24891  \n",
      "129361      1             58        33984            7406  \n",
      "129362      0            214       268563           36611  \n",
      "129363      1            823       251153           47105  \n",
      "129364      1            203         8188            5025  \n",
      "\n",
      "[129365 rows x 15 columns]\n"
     ]
    }
   ],
   "source": [
    "import matplotlib.pyplot as mpl\n",
    "import numpy as np\n",
    "import pandas as pd\n",
    "df = pd.read_csv(r'C:\\Users\\loren\\Documents\\GitHub\\intro2ml_2021_final_project\\Data\\all_tweets_viral.csv')\n",
    "print(df)"
   ]
  },
  {
   "cell_type": "markdown",
   "id": "33a962fd-8177-42c2-8a30-167729290a2e",
   "metadata": {},
   "source": [
    "ESTRARRE UNA COLONNA"
   ]
  },
  {
   "cell_type": "code",
   "execution_count": 2,
   "id": "5b9ef4fa-a00d-42d8-855b-94b0fdc08e8a",
   "metadata": {},
   "outputs": [
    {
     "name": "stdout",
     "output_type": "stream",
     "text": [
      "0         When the moon hits your dish And you mispronou...\n",
      "1         This is Alfalfa. He’s had a little sprout on h...\n",
      "2         Here are some of the most climate-vulnerable f...\n",
      "3            hey guys alfalfa here  https://t.co/BtweqDoaRn\n",
      "4         @lrozen At the Alfalfa dinner, Franco came up ...\n",
      "                                ...                        \n",
      "129360    i think we need to acknowledge how talented li...\n",
      "129361    I’ve watched this 187 times just to hear the g...\n",
      "129362    im always intrigued by close friends stories.....\n",
      "129363    So, my little niece has them hands and just pl...\n",
      "129364    two corgis afraid of large zucchini  http://t....\n",
      "Name: tweet, Length: 129365, dtype: object\n"
     ]
    },
    {
     "data": {
      "text/plain": [
       "pandas.core.series.Series"
      ]
     },
     "execution_count": 2,
     "metadata": {},
     "output_type": "execute_result"
    }
   ],
   "source": [
    "texts = df[\"tweet\"]\n",
    "print(texts)\n",
    "type(texts)"
   ]
  },
  {
   "cell_type": "code",
   "execution_count": 3,
   "id": "7fa44bb5-e879-4d90-937b-e96f486ccc9f",
   "metadata": {},
   "outputs": [
    {
     "name": "stdout",
     "output_type": "stream",
     "text": [
      "When the moon hits your dish And you mispronounce fish Albacore\n"
     ]
    },
    {
     "data": {
      "text/plain": [
       "63"
      ]
     },
     "execution_count": 3,
     "metadata": {},
     "output_type": "execute_result"
    }
   ],
   "source": [
    "es = texts[0]\n",
    "print(es)\n",
    "type(es)\n",
    "len(es)"
   ]
  },
  {
   "cell_type": "markdown",
   "id": "c4a343e7-5de3-4bcb-be3a-0664d731c47d",
   "metadata": {},
   "source": [
    "ESTRAIAMO LE LUNGHEZZE DEI TWEETS"
   ]
  },
  {
   "cell_type": "code",
   "execution_count": 4,
   "id": "642bcb99-cc60-4ebe-bb88-cebc17bc01f5",
   "metadata": {},
   "outputs": [],
   "source": [
    "lunghezze = [0 for x in texts]\n",
    "for i in range(len(texts)):\n",
    "    lunghezze[i]=len(texts[i])"
   ]
  },
  {
   "cell_type": "code",
   "execution_count": 5,
   "id": "7713f4e4-3229-4113-8459-b8504e02da49",
   "metadata": {},
   "outputs": [
    {
     "data": {
      "text/plain": [
       "(array([4.660e+02, 1.478e+03, 2.523e+03, 5.348e+03, 8.310e+03, 8.195e+03,\n",
       "        8.140e+03, 7.950e+03, 7.321e+03, 7.385e+03, 6.318e+03, 6.543e+03,\n",
       "        7.175e+03, 8.676e+03, 3.403e+03, 3.557e+03, 2.519e+03, 2.249e+03,\n",
       "        2.240e+03, 1.974e+03, 1.945e+03, 1.941e+03, 2.128e+03, 1.969e+03,\n",
       "        2.321e+03, 2.700e+03, 6.390e+03, 4.017e+03, 1.624e+03, 2.308e+03,\n",
       "        2.370e+02, 1.100e+01, 2.000e+00, 0.000e+00, 0.000e+00, 1.000e+00,\n",
       "        0.000e+00, 0.000e+00, 0.000e+00, 0.000e+00, 0.000e+00, 0.000e+00,\n",
       "        0.000e+00, 0.000e+00, 0.000e+00, 0.000e+00, 0.000e+00, 0.000e+00,\n",
       "        0.000e+00, 0.000e+00, 0.000e+00, 0.000e+00, 0.000e+00, 0.000e+00,\n",
       "        0.000e+00, 0.000e+00, 0.000e+00, 0.000e+00, 0.000e+00, 0.000e+00,\n",
       "        0.000e+00, 0.000e+00, 0.000e+00, 0.000e+00, 0.000e+00, 0.000e+00,\n",
       "        0.000e+00, 0.000e+00, 0.000e+00, 0.000e+00, 0.000e+00, 0.000e+00,\n",
       "        0.000e+00, 0.000e+00, 0.000e+00, 0.000e+00, 0.000e+00, 0.000e+00,\n",
       "        0.000e+00, 0.000e+00, 0.000e+00, 0.000e+00, 0.000e+00, 0.000e+00,\n",
       "        0.000e+00, 0.000e+00, 0.000e+00, 0.000e+00, 0.000e+00, 0.000e+00,\n",
       "        0.000e+00, 0.000e+00, 0.000e+00, 0.000e+00, 0.000e+00, 0.000e+00,\n",
       "        0.000e+00, 0.000e+00, 0.000e+00, 1.000e+00]),\n",
       " array([   4.  ,   14.22,   24.44,   34.66,   44.88,   55.1 ,   65.32,\n",
       "          75.54,   85.76,   95.98,  106.2 ,  116.42,  126.64,  136.86,\n",
       "         147.08,  157.3 ,  167.52,  177.74,  187.96,  198.18,  208.4 ,\n",
       "         218.62,  228.84,  239.06,  249.28,  259.5 ,  269.72,  279.94,\n",
       "         290.16,  300.38,  310.6 ,  320.82,  331.04,  341.26,  351.48,\n",
       "         361.7 ,  371.92,  382.14,  392.36,  402.58,  412.8 ,  423.02,\n",
       "         433.24,  443.46,  453.68,  463.9 ,  474.12,  484.34,  494.56,\n",
       "         504.78,  515.  ,  525.22,  535.44,  545.66,  555.88,  566.1 ,\n",
       "         576.32,  586.54,  596.76,  606.98,  617.2 ,  627.42,  637.64,\n",
       "         647.86,  658.08,  668.3 ,  678.52,  688.74,  698.96,  709.18,\n",
       "         719.4 ,  729.62,  739.84,  750.06,  760.28,  770.5 ,  780.72,\n",
       "         790.94,  801.16,  811.38,  821.6 ,  831.82,  842.04,  852.26,\n",
       "         862.48,  872.7 ,  882.92,  893.14,  903.36,  913.58,  923.8 ,\n",
       "         934.02,  944.24,  954.46,  964.68,  974.9 ,  985.12,  995.34,\n",
       "        1005.56, 1015.78, 1026.  ]),\n",
       " <BarContainer object of 100 artists>)"
      ]
     },
     "execution_count": 5,
     "metadata": {},
     "output_type": "execute_result"
    },
    {
     "data": {
      "image/png": "[encoded data removed]",
      "text/plain": [
       "<Figure size 432x288 with 1 Axes>"
      ]
     },
     "metadata": {
      "needs_background": "light"
     },
     "output_type": "display_data"
    }
   ],
   "source": [
    "n_bins=100\n",
    "fig, axs = mpl.subplots(1, 1, sharey=True, tight_layout=True)\n",
    "axs.hist(lunghezze, bins=n_bins)"
   ]
  },
  {
   "cell_type": "markdown",
   "id": "168294bf-5a61-41a3-9fb6-afdc802658cd",
   "metadata": {},
   "source": [
    "ESTRAIAMO I RETWEETS"
   ]
  },
  {
   "cell_type": "code",
   "execution_count": 6,
   "id": "32a932bd-5342-4468-b96c-181ff4ff4b2e",
   "metadata": {},
   "outputs": [],
   "source": [
    "rt = df[\"retweets_count\"]\n",
    "retweets = [np.int64(0) for x in rt]\n",
    "for i in range(len(rt)):\n",
    "    retweets[i] = rt[i]"
   ]
  },
  {
   "cell_type": "code",
   "execution_count": 7,
   "id": "142c3fbe-103b-488d-afa7-1f75f523f46b",
   "metadata": {},
   "outputs": [
    {
     "data": {
      "text/plain": [
       "(array([1.10127e+05, 1.01070e+04, 3.58800e+03, 1.84700e+03, 1.04900e+03,\n",
       "        7.09000e+02, 4.70000e+02, 3.12000e+02, 2.13000e+02, 1.64000e+02,\n",
       "        1.24000e+02, 1.08000e+02, 6.80000e+01, 6.90000e+01, 5.00000e+01,\n",
       "        4.90000e+01, 3.00000e+01, 3.90000e+01, 2.40000e+01, 3.00000e+01,\n",
       "        2.50000e+01, 1.40000e+01, 1.10000e+01, 1.20000e+01, 6.00000e+00,\n",
       "        6.00000e+00, 4.00000e+00, 6.00000e+00, 4.00000e+00, 5.00000e+00,\n",
       "        4.00000e+00, 8.00000e+00, 3.00000e+00, 3.00000e+00, 5.00000e+00,\n",
       "        6.00000e+00, 3.00000e+00, 2.00000e+00, 3.00000e+00, 1.00000e+00,\n",
       "        1.00000e+00, 3.00000e+00, 2.00000e+00, 3.00000e+00, 3.00000e+00,\n",
       "        2.00000e+00, 2.00000e+00, 3.00000e+00, 1.00000e+00, 2.00000e+00,\n",
       "        1.00000e+00, 1.00000e+00, 1.00000e+00, 3.00000e+00, 0.00000e+00,\n",
       "        1.00000e+00, 2.00000e+00, 2.00000e+00, 1.00000e+00, 0.00000e+00,\n",
       "        2.00000e+00, 3.00000e+00, 0.00000e+00, 0.00000e+00, 2.00000e+00,\n",
       "        1.00000e+00, 0.00000e+00, 1.00000e+00, 1.00000e+00, 3.00000e+00,\n",
       "        1.00000e+00, 1.00000e+00, 0.00000e+00, 0.00000e+00, 1.00000e+00,\n",
       "        0.00000e+00, 0.00000e+00, 0.00000e+00, 0.00000e+00, 0.00000e+00,\n",
       "        0.00000e+00, 1.00000e+00, 0.00000e+00, 1.00000e+00, 0.00000e+00,\n",
       "        2.00000e+00, 0.00000e+00, 0.00000e+00, 0.00000e+00, 0.00000e+00,\n",
       "        0.00000e+00, 0.00000e+00, 0.00000e+00, 1.00000e+00, 0.00000e+00,\n",
       "        0.00000e+00, 1.00000e+00, 0.00000e+00, 0.00000e+00, 1.00000e+00]),\n",
       " array([  1001.  ,   8388.13,  15775.26,  23162.39,  30549.52,  37936.65,\n",
       "         45323.78,  52710.91,  60098.04,  67485.17,  74872.3 ,  82259.43,\n",
       "         89646.56,  97033.69, 104420.82, 111807.95, 119195.08, 126582.21,\n",
       "        133969.34, 141356.47, 148743.6 , 156130.73, 163517.86, 170904.99,\n",
       "        178292.12, 185679.25, 193066.38, 200453.51, 207840.64, 215227.77,\n",
       "        222614.9 , 230002.03, 237389.16, 244776.29, 252163.42, 259550.55,\n",
       "        266937.68, 274324.81, 281711.94, 289099.07, 296486.2 , 303873.33,\n",
       "        311260.46, 318647.59, 326034.72, 333421.85, 340808.98, 348196.11,\n",
       "        355583.24, 362970.37, 370357.5 , 377744.63, 385131.76, 392518.89,\n",
       "        399906.02, 407293.15, 414680.28, 422067.41, 429454.54, 436841.67,\n",
       "        444228.8 , 451615.93, 459003.06, 466390.19, 473777.32, 481164.45,\n",
       "        488551.58, 495938.71, 503325.84, 510712.97, 518100.1 , 525487.23,\n",
       "        532874.36, 540261.49, 547648.62, 555035.75, 562422.88, 569810.01,\n",
       "        577197.14, 584584.27, 591971.4 , 599358.53, 606745.66, 614132.79,\n",
       "        621519.92, 628907.05, 636294.18, 643681.31, 651068.44, 658455.57,\n",
       "        665842.7 , 673229.83, 680616.96, 688004.09, 695391.22, 702778.35,\n",
       "        710165.48, 717552.61, 724939.74, 732326.87, 739714.  ]),\n",
       " <BarContainer object of 100 artists>)"
      ]
     },
     "execution_count": 7,
     "metadata": {},
     "output_type": "execute_result"
    },
    {
     "data": {
      "image/png": "[encoded data removed]",
      "text/plain": [
       "<Figure size 432x288 with 1 Axes>"
      ]
     },
     "metadata": {
      "needs_background": "light"
     },
     "output_type": "display_data"
    }
   ],
   "source": [
    "n_bins=100\n",
    "fig, axs = mpl.subplots(1, 1, sharey=True, tight_layout=True)\n",
    "axs.hist(retweets, bins=n_bins)"
   ]
  },
  {
   "cell_type": "code",
   "execution_count": 8,
   "id": "0cdc8fe3-8773-4573-989b-2971af078405",
   "metadata": {},
   "outputs": [
    {
     "data": {
      "text/plain": [
       "<matplotlib.collections.PathCollection at 0x1ebb3b16940>"
      ]
     },
     "execution_count": 8,
     "metadata": {},
     "output_type": "execute_result"
    },
    {
     "data": {
      "image/png": "[encoded data removed]",
      "text/plain": [
       "<Figure size 432x288 with 1 Axes>"
      ]
     },
     "metadata": {
      "needs_background": "light"
     },
     "output_type": "display_data"
    }
   ],
   "source": [
    "mpl.scatter(lunghezze,retweets)"
   ]
  },
  {
   "cell_type": "markdown",
   "id": "3e2888ce-531b-4107-ac02-c09b46894052",
   "metadata": {},
   "source": [
    "TEST COMANDI RANDOMFOREST"
   ]
  },
  {
   "cell_type": "code",
   "execution_count": 9,
   "id": "6de5b943-0aff-4ef7-a839-fad192f1bcff",
   "metadata": {},
   "outputs": [],
   "source": [
    "from sklearn.ensemble import RandomForestRegressor\n",
    "from sklearn.datasets import make_regression"
   ]
  },
  {
   "cell_type": "code",
   "execution_count": 10,
   "id": "914b38f9-fa6e-41e6-8a01-24edebfc2696",
   "metadata": {},
   "outputs": [],
   "source": [
    "lung2D = np.zeros((len(lunghezze),2),dtype=np.int32)\n",
    "for i in range(len(lunghezze)):\n",
    "    lung2D[i][0]=lunghezze[i]"
   ]
  },
  {
   "cell_type": "code",
   "execution_count": 11,
   "id": "6fc7ceac-5a61-4a60-ac46-d8f4bab6e11f",
   "metadata": {},
   "outputs": [
    {
     "name": "stdout",
     "output_type": "stream",
     "text": [
      "4\n",
      "1026\n",
      "1001\n",
      "739714\n"
     ]
    },
    {
     "data": {
      "text/plain": [
       "RandomForestRegressor(max_depth=20, n_estimators=250, random_state=0)"
      ]
     },
     "execution_count": 11,
     "metadata": {},
     "output_type": "execute_result"
    }
   ],
   "source": [
    "#lunghezze, retweets = make_regression(n_samples=len(texts),n_features=1, n_informative=1, random_state=0, shuffle=True)\n",
    "print(min(lunghezze))\n",
    "print(max(lunghezze))\n",
    "print(min(retweets))\n",
    "print(max(retweets))\n",
    "\n",
    "regr = RandomForestRegressor(n_estimators=250,max_depth=20, random_state=0)\n",
    "regr.fit(lung2D,retweets)"
   ]
  },
  {
   "cell_type": "code",
   "execution_count": 12,
   "id": "584cd2ae-fcfb-4e97-937d-071c50107e52",
   "metadata": {},
   "outputs": [
    {
     "name": "stdout",
     "output_type": "stream",
     "text": [
      "[5865.15673467]\n"
     ]
    }
   ],
   "source": [
    "print(regr.predict([[160,0]]))"
   ]
  },
  {
   "cell_type": "code",
   "execution_count": 14,
   "id": "b075be05-220b-4d55-b1b1-e13c529df30d",
   "metadata": {},
   "outputs": [
    {
     "data": {
      "text/plain": [
       "<matplotlib.collections.PathCollection at 0x1ebb86894c0>"
      ]
     },
     "execution_count": 14,
     "metadata": {},
     "output_type": "execute_result"
    },
    {
     "data": {
      "image/png": "[encoded data removed]",
      "text/plain": [
       "<Figure size 432x288 with 1 Axes>"
      ]
     },
     "metadata": {
      "needs_background": "light"
     },
     "output_type": "display_data"
    }
   ],
   "source": [
    "predpoints = np.zeros((len(lunghezze),1),dtype=float)\n",
    "for i in range(len(lunghezze)):\n",
    "    predpoints[i] = regr.predict([[lunghezze[i],0]])\n",
    "mpl.scatter(lunghezze,predpoints)"
   ]
  },
  {
   "cell_type": "code",
   "execution_count": 17,
   "id": "90eb6b78-5770-4a1c-8df1-df7b19de6c9a",
   "metadata": {},
   "outputs": [
    {
     "data": {
      "text/plain": [
       "<matplotlib.collections.PathCollection at 0x1ebb8727400>"
      ]
     },
     "execution_count": 17,
     "metadata": {},
     "output_type": "execute_result"
    },
    {
     "data": {
      "image/png": "[encoded data removed]",
      "text/plain": [
       "<Figure size 432x288 with 1 Axes>"
      ]
     },
     "metadata": {
      "needs_background": "light"
     },
     "output_type": "display_data"
    }
   ],
   "source": [
    "diff = np.zeros((len(lunghezze),1),dtype=float)\n",
    "for i in range(len(lunghezze)):\n",
    "    diff[i] = retweets[i]-predpoints[i]\n",
    "mpl.scatter(lunghezze,diff)"
   ]
  }
 ],
 "metadata": {
  "kernelspec": {
   "display_name": "Python 3 (ipykernel)",
   "language": "python",
   "name": "python3"
  },
  "language_info": {
   "codemirror_mode": {
    "name": "ipython",
    "version": 3
   },
   "file_extension": ".py",
   "mimetype": "text/x-python",
   "name": "python",
   "nbconvert_exporter": "python",
   "pygments_lexer": "ipython3",
   "version": "3.9.7"
  }
 },
 "nbformat": 4,
 "nbformat_minor": 5
}
