{
 "cells": [
  {
   "cell_type": "markdown",
   "id": "208c9c2f-ea82-43e4-baba-9e8662a294a7",
   "metadata": {},
   "source": [
    "IMPORTAZIONE DEL FILE CSV"
   ]
  },
  {
   "cell_type": "code",
   "execution_count": 11,
   "id": "00616ee1-72cf-4e8f-a725-4fe80e7d660f",
   "metadata": {},
   "outputs": [
    {
     "name": "stdout",
     "output_type": "stream",
     "text": [
      "        Unnamed: 0                   id language  retweet        date  \\\n",
      "0                0  1317825082555850752       en    False  2020-10-18   \n",
      "1                3  1423070320588509185       en    False  2021-08-05   \n",
      "2                8  1159520925878018049       en    False  2019-08-08   \n",
      "3               11  1011814667302285312       en    False  2018-06-27   \n",
      "4               12   957611666245644288       en    False  2018-01-28   \n",
      "...            ...                  ...      ...      ...         ...   \n",
      "129397      195955  1302757998578761728       en    False  2020-09-07   \n",
      "129398      195958  1282718395100798976       en    False  2020-07-13   \n",
      "129399      195959  1262435426356338689       en    False  2020-05-18   \n",
      "129400      195962   962153369442836481       en    False  2018-02-10   \n",
      "129401      195968   595957151677358081       en    False  2015-05-06   \n",
      "\n",
      "            time                                              tweet mentions  \\\n",
      "0       15:49:18  When the moon hits your dish And you mispronou...       []   \n",
      "1       01:56:18  This is Alfalfa. He’s had a little sprout on h...       []   \n",
      "2       19:45:06  Here are some of the most climate-vulnerable f...       []   \n",
      "3       05:33:09     hey guys alfalfa here  https://t.co/BtweqDoaRn       []   \n",
      "4       14:49:47  @lrozen At the Alfalfa dinner, Franco came up ...       []   \n",
      "...          ...                                                ...      ...   \n",
      "129397  01:58:05  i think we need to acknowledge how talented li...       []   \n",
      "129398  18:47:51  I’ve watched this 187 times just to hear the g...       []   \n",
      "129399  19:30:35  im always intrigued by close friends stories.....       []   \n",
      "129400  03:36:53  So, my little niece has them hands and just pl...       []   \n",
      "129401  16:23:51  two corgis afraid of large zucchini  http://t....       []   \n",
      "\n",
      "                              urls  \\\n",
      "0                               []   \n",
      "1                               []   \n",
      "2       ['https://bit.ly/33l4Eyx']   \n",
      "3                               []   \n",
      "4                               []   \n",
      "...                            ...   \n",
      "129397                          []   \n",
      "129398                          []   \n",
      "129399                          []   \n",
      "129400                          []   \n",
      "129401                          []   \n",
      "\n",
      "                                                   photos hashtags quote_url  \\\n",
      "0                                                      []       []       NaN   \n",
      "1       ['https://pbs.twimg.com/media/E7_C54wUcAEjqtB....       []       NaN   \n",
      "2                                                      []       []       NaN   \n",
      "3       ['https://pbs.twimg.com/media/DgqwE1fU8AAo8Td....       []       NaN   \n",
      "4                                                      []       []       NaN   \n",
      "...                                                   ...      ...       ...   \n",
      "129397  ['https://pbs.twimg.com/media/EhRTOQ7WsAEiNiM....       []       NaN   \n",
      "129398                                                 []       []       NaN   \n",
      "129399                                                 []       []       NaN   \n",
      "129400                                                 []       []       NaN   \n",
      "129401  ['https://pbs.twimg.com/media/CEVD3xlWgAIHq67....       []       NaN   \n",
      "\n",
      "        video  replies_count  likes_count  retweets_count  \n",
      "0           0            124        37095            4444  \n",
      "1           1            546       134080           10435  \n",
      "2           0            593         8478            4372  \n",
      "3           1           1035        13264            1569  \n",
      "4           0            112         6069            1765  \n",
      "...       ...            ...          ...             ...  \n",
      "129397      1            368       223723           24891  \n",
      "129398      1             58        33984            7406  \n",
      "129399      0            214       268563           36611  \n",
      "129400      1            823       251153           47105  \n",
      "129401      1            203         8188            5025  \n",
      "\n",
      "[129402 rows x 16 columns]\n"
     ]
    }
   ],
   "source": [
    "import matplotlib.pyplot as mpl\n",
    "import numpy as np\n",
    "import pandas as pd\n",
    "df = pd.read_csv(r'C:\\Users\\loren\\Documents\\GitHub\\intro2ml_2021_final_project\\Data\\all_tweets_viral.csv')\n",
    "print(df)"
   ]
  },
  {
   "cell_type": "markdown",
   "id": "33a962fd-8177-42c2-8a30-167729290a2e",
   "metadata": {},
   "source": [
    "ESTRARRE UNA COLONNA"
   ]
  },
  {
   "cell_type": "code",
   "execution_count": 8,
   "id": "5b9ef4fa-a00d-42d8-855b-94b0fdc08e8a",
   "metadata": {},
   "outputs": [
    {
     "name": "stdout",
     "output_type": "stream",
     "text": [
      "0         When the moon hits your dish And you mispronou...\n",
      "1         This is Alfalfa. He’s had a little sprout on h...\n",
      "2         Here are some of the most climate-vulnerable f...\n",
      "3            hey guys alfalfa here  https://t.co/BtweqDoaRn\n",
      "4         @lrozen At the Alfalfa dinner, Franco came up ...\n",
      "                                ...                        \n",
      "129397    i think we need to acknowledge how talented li...\n",
      "129398    I’ve watched this 187 times just to hear the g...\n",
      "129399    im always intrigued by close friends stories.....\n",
      "129400    So, my little niece has them hands and just pl...\n",
      "129401    two corgis afraid of large zucchini  http://t....\n",
      "Name: tweet, Length: 129402, dtype: object\n"
     ]
    },
    {
     "data": {
      "text/plain": [
       "pandas.core.series.Series"
      ]
     },
     "execution_count": 8,
     "metadata": {},
     "output_type": "execute_result"
    }
   ],
   "source": [
    "texts = df[\"tweet\"]\n",
    "print(texts)\n",
    "type(texts)"
   ]
  },
  {
   "cell_type": "code",
   "execution_count": 9,
   "id": "7fa44bb5-e879-4d90-937b-e96f486ccc9f",
   "metadata": {},
   "outputs": [
    {
     "name": "stdout",
     "output_type": "stream",
     "text": [
      "When the moon hits your dish And you mispronounce fish Albacore\n"
     ]
    },
    {
     "data": {
      "text/plain": [
       "63"
      ]
     },
     "execution_count": 9,
     "metadata": {},
     "output_type": "execute_result"
    }
   ],
   "source": [
    "es = texts[0]\n",
    "print(es)\n",
    "type(es)\n",
    "len(es)"
   ]
  },
  {
   "cell_type": "markdown",
   "id": "c4a343e7-5de3-4bcb-be3a-0664d731c47d",
   "metadata": {},
   "source": [
    "ESTRAIAMO LE LUNGHEZZE DEI TWEETS"
   ]
  },
  {
   "cell_type": "code",
   "execution_count": 4,
   "id": "642bcb99-cc60-4ebe-bb88-cebc17bc01f5",
   "metadata": {},
   "outputs": [],
   "source": [
    "lunghezze = [0 for x in texts]\n",
    "for i in range(len(texts)):\n",
    "    lunghezze[i]=len(texts[i])"
   ]
  },
  {
   "cell_type": "code",
   "execution_count": 5,
   "id": "7713f4e4-3229-4113-8459-b8504e02da49",
   "metadata": {},
   "outputs": [
    {
     "data": {
      "text/plain": [
       "(array([4.450e+02, 1.481e+03, 2.525e+03, 5.350e+03, 8.312e+03, 8.203e+03,\n",
       "        8.148e+03, 7.953e+03, 7.324e+03, 7.388e+03, 6.323e+03, 6.544e+03,\n",
       "        7.179e+03, 8.679e+03, 3.404e+03, 3.557e+03, 2.519e+03, 2.250e+03,\n",
       "        2.241e+03, 1.975e+03, 1.945e+03, 1.941e+03, 2.124e+03, 1.948e+03,\n",
       "        2.230e+03, 2.716e+03, 6.413e+03, 4.054e+03, 1.650e+03, 2.315e+03,\n",
       "        2.430e+02, 1.400e+01, 2.000e+00, 0.000e+00, 1.000e+00, 1.000e+00,\n",
       "        2.000e+00, 0.000e+00, 0.000e+00, 0.000e+00, 0.000e+00, 0.000e+00,\n",
       "        2.000e+00, 0.000e+00, 0.000e+00, 0.000e+00, 0.000e+00, 0.000e+00,\n",
       "        0.000e+00, 0.000e+00, 0.000e+00, 0.000e+00, 0.000e+00, 0.000e+00,\n",
       "        0.000e+00, 0.000e+00, 0.000e+00, 0.000e+00, 0.000e+00, 0.000e+00,\n",
       "        0.000e+00, 0.000e+00, 0.000e+00, 0.000e+00, 0.000e+00, 0.000e+00,\n",
       "        0.000e+00, 0.000e+00, 0.000e+00, 0.000e+00, 0.000e+00, 0.000e+00,\n",
       "        0.000e+00, 0.000e+00, 0.000e+00, 0.000e+00, 0.000e+00, 0.000e+00,\n",
       "        0.000e+00, 0.000e+00, 0.000e+00, 0.000e+00, 0.000e+00, 0.000e+00,\n",
       "        0.000e+00, 0.000e+00, 0.000e+00, 0.000e+00, 0.000e+00, 0.000e+00,\n",
       "        0.000e+00, 0.000e+00, 0.000e+00, 0.000e+00, 0.000e+00, 0.000e+00,\n",
       "        0.000e+00, 0.000e+00, 0.000e+00, 1.000e+00]),\n",
       " array([   4.  ,   14.22,   24.44,   34.66,   44.88,   55.1 ,   65.32,\n",
       "          75.54,   85.76,   95.98,  106.2 ,  116.42,  126.64,  136.86,\n",
       "         147.08,  157.3 ,  167.52,  177.74,  187.96,  198.18,  208.4 ,\n",
       "         218.62,  228.84,  239.06,  249.28,  259.5 ,  269.72,  279.94,\n",
       "         290.16,  300.38,  310.6 ,  320.82,  331.04,  341.26,  351.48,\n",
       "         361.7 ,  371.92,  382.14,  392.36,  402.58,  412.8 ,  423.02,\n",
       "         433.24,  443.46,  453.68,  463.9 ,  474.12,  484.34,  494.56,\n",
       "         504.78,  515.  ,  525.22,  535.44,  545.66,  555.88,  566.1 ,\n",
       "         576.32,  586.54,  596.76,  606.98,  617.2 ,  627.42,  637.64,\n",
       "         647.86,  658.08,  668.3 ,  678.52,  688.74,  698.96,  709.18,\n",
       "         719.4 ,  729.62,  739.84,  750.06,  760.28,  770.5 ,  780.72,\n",
       "         790.94,  801.16,  811.38,  821.6 ,  831.82,  842.04,  852.26,\n",
       "         862.48,  872.7 ,  882.92,  893.14,  903.36,  913.58,  923.8 ,\n",
       "         934.02,  944.24,  954.46,  964.68,  974.9 ,  985.12,  995.34,\n",
       "        1005.56, 1015.78, 1026.  ]),\n",
       " <BarContainer object of 100 artists>)"
      ]
     },
     "execution_count": 5,
     "metadata": {},
     "output_type": "execute_result"
    },
    {
     "data": {
      "image/png": "[encoded data removed]",
      "text/plain": [
       "<Figure size 432x288 with 1 Axes>"
      ]
     },
     "metadata": {
      "needs_background": "light"
     },
     "output_type": "display_data"
    }
   ],
   "source": [
    "n_bins=100\n",
    "fig, axs = mpl.subplots(1, 1, sharey=True, tight_layout=True)\n",
    "axs.hist(lunghezze, bins=n_bins)"
   ]
  },
  {
   "cell_type": "markdown",
   "id": "168294bf-5a61-41a3-9fb6-afdc802658cd",
   "metadata": {},
   "source": [
    "ESTRAIAMO I RETWEETS"
   ]
  },
  {
   "cell_type": "code",
   "execution_count": 15,
   "id": "32a932bd-5342-4468-b96c-181ff4ff4b2e",
   "metadata": {},
   "outputs": [],
   "source": [
    "rt = df[\"retweets_count\"]\n",
    "retweets = [np.int64(0) for x in rt]\n",
    "for i in range(len(rt)):\n",
    "    retweets[i] = rt[i]"
   ]
  },
  {
   "cell_type": "code",
   "execution_count": null,
   "id": "42396d6a-12da-4e2c-8b33-15da41e21d1a",
   "metadata": {},
   "outputs": [],
   "source": []
  }
 ],
 "metadata": {
  "kernelspec": {
   "display_name": "Python 3 (ipykernel)",
   "language": "python",
   "name": "python3"
  },
  "language_info": {
   "codemirror_mode": {
    "name": "ipython",
    "version": 3
   },
   "file_extension": ".py",
   "mimetype": "text/x-python",
   "name": "python",
   "nbconvert_exporter": "python",
   "pygments_lexer": "ipython3",
   "version": "3.9.7"
  }
 },
 "nbformat": 4,
 "nbformat_minor": 5
}
