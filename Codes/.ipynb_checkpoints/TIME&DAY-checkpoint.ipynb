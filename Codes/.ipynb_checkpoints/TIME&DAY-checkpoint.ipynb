{
 "cells": [
  {
   "cell_type": "code",
   "execution_count": 4,
   "id": "20187169-9ef2-452b-839f-1a7d2ff8e47c",
   "metadata": {},
   "outputs": [
    {
     "name": "stdout",
     "output_type": "stream",
     "text": [
      "       weekday  hour  tweet_length  mentions_count  urls_count  photos_count  \\\n",
      "0       Monday    23            85               2           2             2   \n",
      "1       Monday    22           160             156          63             2   \n",
      "2       Monday    21           126               2           2             2   \n",
      "3       Monday    20            47               2           2             2   \n",
      "4       Monday    19            30               2           2             2   \n",
      "...        ...   ...           ...             ...         ...           ...   \n",
      "1995  Saturday     6            55               2           2            51   \n",
      "1996    Friday    14           140               2           2             2   \n",
      "1997    Friday    11            27               2           2             2   \n",
      "1998  Thursday    15            29               2           2             2   \n",
      "1999  Thursday    13            57               2           2            51   \n",
      "\n",
      "      hashtags_count  quote_url_count  video_count  retweets_count  anger  \\\n",
      "0                  2              NaN            0               0      0   \n",
      "1                  2              NaN            0               0      0   \n",
      "2                  2              NaN            0               0      0   \n",
      "3                  2              NaN            0               0      0   \n",
      "4                  2              NaN            0               0      0   \n",
      "...              ...              ...          ...             ...    ...   \n",
      "1995               2              NaN            1               1      0   \n",
      "1996               2              NaN            0               1      1   \n",
      "1997               2              NaN            0               1      0   \n",
      "1998               2              NaN            0               1      0   \n",
      "1999               2              NaN            1               1      0   \n",
      "\n",
      "      anticipation  disgust  fear  joy  sadness  surprise  trust  negative  \\\n",
      "0                2        0     0    0        0         0      0         0   \n",
      "1                0        0     0    0        0         0      0         0   \n",
      "2                2        0     0    3        0         2      2         0   \n",
      "3                0        0     0    0        0         0      0         0   \n",
      "4                0        0     0    0        0         0      0         0   \n",
      "...            ...      ...   ...  ...      ...       ...    ...       ...   \n",
      "1995             0        0     0    0        0         0      0         0   \n",
      "1996             0        1     1    1        1         1      0         1   \n",
      "1997             0        0     0    1        0         0      1         0   \n",
      "1998             1        0     1    1        0         1      1         0   \n",
      "1999             0        0     0    0        0         0      0         0   \n",
      "\n",
      "      positive  \n",
      "0            0  \n",
      "1            0  \n",
      "2            3  \n",
      "3            0  \n",
      "4            0  \n",
      "...        ...  \n",
      "1995         0  \n",
      "1996         2  \n",
      "1997         2  \n",
      "1998         1  \n",
      "1999         0  \n",
      "\n",
      "[2000 rows x 20 columns]\n"
     ]
    }
   ],
   "source": [
    "import matplotlib.pyplot as mpl\n",
    "import numpy as np\n",
    "import pandas as pd\n",
    "df = pd.read_csv(r'C:\\Users\\loren\\Documents\\GitHub\\intro2ml_2021_final_project\\Data\\2k_sample_processed.csv')\n",
    "print(df)"
   ]
  },
  {
   "cell_type": "code",
   "execution_count": 5,
   "id": "9c86883e-9c6d-41af-9495-d09903409888",
   "metadata": {},
   "outputs": [],
   "source": [
    "y = df[\"retweets_count\"]"
   ]
  },
  {
   "cell_type": "code",
   "execution_count": 7,
   "id": "21633e6a-ece9-43e2-bdfb-d6539474d650",
   "metadata": {},
   "outputs": [],
   "source": [
    "def switch(day):\n",
    "    if(day==\"Monday\"):\n",
    "        return 1\n",
    "    if(day==\"Tuesday\"):\n",
    "        return 2\n",
    "    if(day==\"Wednesday\"):\n",
    "        return 3\n",
    "    if(day==\"Thursday\"):\n",
    "        return 4\n",
    "    if(day==\"Friday\"):\n",
    "        return 5\n",
    "    if(day==\"Saturday\"):\n",
    "        return 6\n",
    "    if(day==\"Sunday\"):\n",
    "        return 7\n",
    "    else:\n",
    "        print(\"ERRORE\")"
   ]
  },
  {
   "cell_type": "code",
   "execution_count": 9,
   "id": "fbd8208d-5a28-4796-a4d8-af28e27e8e58",
   "metadata": {},
   "outputs": [],
   "source": [
    "days=np.zeros((len(y),1),dtype=np.int32)\n",
    "for i in range(len(days)):\n",
    "    days[i]=switch(df[\"weekday\"][i])"
   ]
  },
  {
   "cell_type": "code",
   "execution_count": 10,
   "id": "2a643655-f320-4105-b94c-58db86535fb2",
   "metadata": {},
   "outputs": [],
   "source": [
    "X=np.zeros((len(y),3))\n",
    "for i in range(len(X)):\n",
    "    X[i][0]=df[\"tweet_length\"][i]\n",
    "    X[i][1]=df[\"hour\"][i]\n",
    "    X[i][2]=days[i]"
   ]
  },
  {
   "cell_type": "code",
   "execution_count": 11,
   "id": "fcc3f6a1-72e6-4280-a10b-8ccf21232f6a",
   "metadata": {},
   "outputs": [],
   "source": [
    "from sklearn.ensemble import RandomForestClassifier"
   ]
  },
  {
   "cell_type": "code",
   "execution_count": 13,
   "id": "5d9c5622-4c50-4903-b054-4282b3547bf0",
   "metadata": {},
   "outputs": [
    {
     "data": {
      "text/plain": [
       "RandomForestClassifier(max_depth=20, n_estimators=250, random_state=0)"
      ]
     },
     "execution_count": 13,
     "metadata": {},
     "output_type": "execute_result"
    }
   ],
   "source": [
    "regr = RandomForestClassifier(n_estimators=250,max_depth=20, random_state=0)\n",
    "regr.fit(X,y)"
   ]
  },
  {
   "cell_type": "code",
   "execution_count": 15,
   "id": "71c57632-6185-4fce-b37a-53fdfbd64016",
   "metadata": {},
   "outputs": [],
   "source": [
    "predpoints = np.zeros((len(y),1),dtype=np.int32)\n",
    "for i in range(len(y)):\n",
    "    predpoints[i] = regr.predict([[X[i][0],X[i][1],X[i][2]]])[0]"
   ]
  },
  {
   "cell_type": "code",
   "execution_count": 18,
   "id": "b8993432-1d3a-4c6d-833f-474c9d80b5ef",
   "metadata": {},
   "outputs": [],
   "source": [
    "def errs():\n",
    "    errori = np.zeros((len(y),1),dtype=np.int32)\n",
    "    count=0\n",
    "    for i in range(len(y)):\n",
    "        errori[i]=abs(y[i]-predpoints[i])\n",
    "        if(errori[i]==1):\n",
    "            count+=1 \n",
    "    mpl.scatter(X[:,0],errori)\n",
    "    print(errori[0])\n",
    "    print(count)\n",
    "    print(count/len(y))\n",
    "    erroripop = np.zeros((len(y),1),dtype=np.int32)\n",
    "    count=0\n",
    "    for i in range(len(y)):\n",
    "        if(y[i]==1):\n",
    "            erroripop[i]=abs(y[i]-predpoints[i])+1\n",
    "            if(erroripop[i]==2):\n",
    "                count+=1\n",
    "    print(erroripop[0])\n",
    "    print(count)\n",
    "    print(count/1000)\n",
    "    mpl.scatter(X[:,0],erroripop)\n",
    "    errorinpop = np.zeros((len(y),1),dtype=np.int32)\n",
    "    count=0\n",
    "    for i in range(len(y)):\n",
    "        if(y[i]==0):\n",
    "            errorinpop[i]=abs(y[i]-predpoints[i])+1\n",
    "            if(errorinpop[i]==2):\n",
    "                count+=1\n",
    "    print(errorinpop[0])\n",
    "    print(count)\n",
    "    print(count/1000)\n",
    "    mpl.scatter(X[:,0],errorinpop)"
   ]
  },
  {
   "cell_type": "code",
   "execution_count": 19,
   "id": "f7f5fdb6-8a54-4ffa-8620-6cb1d547ed3e",
   "metadata": {},
   "outputs": [
    {
     "name": "stdout",
     "output_type": "stream",
     "text": [
      "[0]\n",
      "13\n",
      "0.0065\n",
      "[0]\n",
      "7\n",
      "0.007\n",
      "[1]\n",
      "6\n",
      "0.006\n"
     ]
    },
    {
     "data": {
      "image/png": "[encoded data removed]",
      "text/plain": [
       "<Figure size 432x288 with 1 Axes>"
      ]
     },
     "metadata": {
      "needs_background": "light"
     },
     "output_type": "display_data"
    }
   ],
   "source": [
    "errs()"
   ]
  },
  {
   "cell_type": "code",
   "execution_count": null,
   "id": "22ee12f4-e134-4088-a3ff-820760e1381b",
   "metadata": {},
   "outputs": [],
   "source": [
    "X=np.zeros((len(y),3))\n",
    "for i in range(len(X)):\n",
    "    X[i][0]=df[\"tweet_length\"][i]\n",
    "    X[i][1]=df[\"hour\"][i]\n",
    "    X[i][2]=days[i]\n",
    "    X[i][3]=df[\"mentions_count\"][i]\n",
    "    X[i][4]=df[\"urls_count\"][i]\n",
    "    X[i][5]=df[\"photos_count\"][i]\n",
    "    X[i][6]=df[\"hashtags_count\"][i]\n",
    "    X[i][7]=df[\"video_count\"][i]\n",
    "    X[i][8]=df[\"anger\"][i]\n",
    "    X[i][9]=df[\"anticipation\"][i]\n",
    "    X[i][10]=df[\"disgust\"][i]\n",
    "    X[i][11]=df[\"fear\"][i]\n",
    "    X[i][12]=df[\"joy\"][i]\n",
    "    X[i][13]=df[\"sadness\"][i]\n",
    "    X[i][14]=df[\"surprise\"][i]\n",
    "    X[i][15]=df[\"trust\"][i]\n",
    "    X[i][16]=df[\"positive\"][i]\n",
    "    X[i][17]=df[\"negative\"][i]"
   ]
  }
 ],
 "metadata": {
  "kernelspec": {
   "display_name": "Python 3 (ipykernel)",
   "language": "python",
   "name": "python3"
  },
  "language_info": {
   "codemirror_mode": {
    "name": "ipython",
    "version": 3
   },
   "file_extension": ".py",
   "mimetype": "text/x-python",
   "name": "python",
   "nbconvert_exporter": "python",
   "pygments_lexer": "ipython3",
   "version": "3.9.7"
  }
 },
 "nbformat": 4,
 "nbformat_minor": 5
}
