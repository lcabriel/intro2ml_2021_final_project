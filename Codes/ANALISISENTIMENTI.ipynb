{
 "cells": [
  {
   "cell_type": "markdown",
   "id": "c1485404-63d1-4162-93c9-eac49cd7c18c",
   "metadata": {},
   "source": [
    "COMMENTI PRODOTTI CON IL FILE 2K E BY_SENTENCE"
   ]
  },
  {
   "cell_type": "code",
   "execution_count": 1,
   "id": "ed82e70a-872b-48e8-8bcd-7a8ee8b77807",
   "metadata": {},
   "outputs": [
    {
     "name": "stdout",
     "output_type": "stream",
     "text": [
      "                       id language  retweet        date      time  \\\n",
      "0     1485744412172950000       en    False  24/01/2022  23:40:46   \n",
      "1     1485721208616270000       en    False  24/01/2022  22:08:34   \n",
      "2     1485712796457340000       en    False  24/01/2022  21:35:08   \n",
      "3     1485696815081160000       en    False  24/01/2022  20:31:38   \n",
      "4     1485676215142920000       en    False  24/01/2022  19:09:46   \n",
      "...                   ...      ...      ...         ...       ...   \n",
      "1995   576616860638158000       en    False  14/03/2015  06:32:27   \n",
      "1996   576378534635155000       en    False  13/03/2015  14:45:25   \n",
      "1997   576323800913997000       en    False  13/03/2015  11:07:56   \n",
      "1998   576027220013031000       en    False  12/03/2015  15:29:25   \n",
      "1999   576003023455068000       en    False  12/03/2015  13:53:17   \n",
      "\n",
      "                                                  tweet  \\\n",
      "0     just sliced an acorn squash and it wasnt even ...   \n",
      "1     Acorn squash, lacinato kale, parsnip and duck ...   \n",
      "2     @SmrtAleks Sounds great Aleks. I love sweet po...   \n",
      "3       and i’m gonna roast an acorn squash to go w it!   \n",
      "4                        Stuffed acorn squash tonight 🥰   \n",
      "...                                                 ...   \n",
      "1995  Bacon Burgers and Cheese Fries.  http://t.co/X...   \n",
      "1996  Friday the 13th might be an unlucky day, but w...   \n",
      "1997                        I prefer your love to bacon   \n",
      "1998                      Is it possible to marry bacon   \n",
      "1999  Bacon Burgers and Cheese Fries. ^  http://t.co...   \n",
      "\n",
      "                                               mentions  \\\n",
      "0                                                    []   \n",
      "1     [{'screen_name': 'farmfreshtoyou', 'name': 'fa...   \n",
      "2                                                    []   \n",
      "3                                                    []   \n",
      "4                                                    []   \n",
      "...                                                 ...   \n",
      "1995                                                 []   \n",
      "1996                                                 []   \n",
      "1997                                                 []   \n",
      "1998                                                 []   \n",
      "1999                                                 []   \n",
      "\n",
      "                                                   urls  \\\n",
      "0                                                    []   \n",
      "1     ['https://www.instagram.com/p/CZIJpF8vpWl/?utm...   \n",
      "2                                                    []   \n",
      "3                                                    []   \n",
      "4                                                    []   \n",
      "...                                                 ...   \n",
      "1995                                                 []   \n",
      "1996                                                 []   \n",
      "1997                                                 []   \n",
      "1998                                                 []   \n",
      "1999                                                 []   \n",
      "\n",
      "                                                 photos hashtags quote_url  \\\n",
      "0                                                    []       []       NaN   \n",
      "1                                                    []       []       NaN   \n",
      "2                                                    []       []       NaN   \n",
      "3                                                    []       []       NaN   \n",
      "4                                                    []       []       NaN   \n",
      "...                                                 ...      ...       ...   \n",
      "1995  ['https://pbs.twimg.com/media/CACN-soWMAABWO0....       []       NaN   \n",
      "1996                                                 []       []       NaN   \n",
      "1997                                                 []       []       NaN   \n",
      "1998                                                 []       []       NaN   \n",
      "1999  ['https://pbs.twimg.com/media/Bz2LzKuIEAEEO69....       []       NaN   \n",
      "\n",
      "      video  replies_count  likes_count  retweets_count  \n",
      "0         0              0            5               0  \n",
      "1         0              1            1               0  \n",
      "2         0              1            1               0  \n",
      "3         0              0            2               0  \n",
      "4         0              0            0               0  \n",
      "...     ...            ...          ...             ...  \n",
      "1995      1             94         2166            2765  \n",
      "1996      0             14         2796            1773  \n",
      "1997      0            292         5009            3194  \n",
      "1998      0            401         3219            1290  \n",
      "1999      1            109         2517            3268  \n",
      "\n",
      "[2000 rows x 15 columns]\n"
     ]
    }
   ],
   "source": [
    "import matplotlib.pyplot as mpl\n",
    "import numpy as np\n",
    "import pandas as pd\n",
    "df = pd.read_csv(r'C:\\Users\\loren\\Documents\\GitHub\\intro2ml_2021_final_project\\Data\\dataset_2k.csv')\n",
    "print(df)"
   ]
  },
  {
   "cell_type": "code",
   "execution_count": 2,
   "id": "470cfb8d-8b67-4596-84cb-c2adcdb993b9",
   "metadata": {},
   "outputs": [
    {
     "name": "stdout",
     "output_type": "stream",
     "text": [
      "      Unnamed: 0  anger  anticipation  disgust  fear  joy  sadness  surprise  \\\n",
      "0              1      0             2        0     0    0        0         0   \n",
      "1              2      0             0        0     0    0        0         0   \n",
      "2              3      0             2        0     0    3        0         2   \n",
      "3              4      0             0        0     0    0        0         0   \n",
      "4              5      0             0        0     0    0        0         0   \n",
      "...          ...    ...           ...      ...   ...  ...      ...       ...   \n",
      "1995        1996      0             0        0     0    0        0         0   \n",
      "1996        1997      1             0        1     1    1        1         1   \n",
      "1997        1998      0             0        0     0    1        0         0   \n",
      "1998        1999      0             1        0     1    1        0         1   \n",
      "1999        2000      0             0        0     0    0        0         0   \n",
      "\n",
      "      trust  negative  positive  \n",
      "0         0         0         0  \n",
      "1         0         0         0  \n",
      "2         2         0         3  \n",
      "3         0         0         0  \n",
      "4         0         0         0  \n",
      "...     ...       ...       ...  \n",
      "1995      0         0         0  \n",
      "1996      0         1         2  \n",
      "1997      1         0         2  \n",
      "1998      1         0         1  \n",
      "1999      0         0         0  \n",
      "\n",
      "[2000 rows x 11 columns]\n"
     ]
    }
   ],
   "source": [
    "sf = pd.read_csv(r'C:\\Users\\loren\\Documents\\GitHub\\intro2ml_2021_final_project\\Data\\sentiment_by_sentence.csv')\n",
    "print(sf)"
   ]
  },
  {
   "cell_type": "code",
   "execution_count": 3,
   "id": "1ae8a164-4841-4c8b-a6a3-9fb80e4c2b04",
   "metadata": {},
   "outputs": [],
   "source": [
    "rt = df[\"retweets_count\"]\n",
    "retweets = [np.int64(0) for x in rt]\n",
    "for i in range(len(rt)):\n",
    "    retweets[i] = rt[i]"
   ]
  },
  {
   "cell_type": "code",
   "execution_count": 4,
   "id": "63de0566-12f2-4bf2-8068-a32b692d7569",
   "metadata": {},
   "outputs": [
    {
     "name": "stdout",
     "output_type": "stream",
     "text": [
      "[[0]\n",
      " [0]\n",
      " [0]\n",
      " ...\n",
      " [1]\n",
      " [1]\n",
      " [1]]\n"
     ]
    },
    {
     "data": {
      "text/plain": [
       "numpy.ndarray"
      ]
     },
     "execution_count": 4,
     "metadata": {},
     "output_type": "execute_result"
    }
   ],
   "source": [
    "popular = np.zeros((len(rt),1),dtype=np.int32)\n",
    "for i in range(len(rt)):\n",
    "    if retweets[i]>=1000:\n",
    "        popular[i]=1\n",
    "print(popular)\n",
    "type(popular)"
   ]
  },
  {
   "cell_type": "markdown",
   "id": "c03ad42d-3242-4b25-b572-038ed4337421",
   "metadata": {},
   "source": [
    "################################################ ANGER ##############################################################################"
   ]
  },
  {
   "cell_type": "code",
   "execution_count": 14,
   "id": "0440347d-ab27-4cbf-ab00-1697f8c287fe",
   "metadata": {},
   "outputs": [
    {
     "data": {
      "text/plain": [
       "(array([1.585e+03, 0.000e+00, 0.000e+00, 3.390e+02, 0.000e+00, 0.000e+00,\n",
       "        5.900e+01, 0.000e+00, 0.000e+00, 0.000e+00, 9.000e+00, 0.000e+00,\n",
       "        0.000e+00, 5.000e+00, 0.000e+00, 0.000e+00, 2.000e+00, 0.000e+00,\n",
       "        0.000e+00, 1.000e+00]),\n",
       " array([0. , 0.3, 0.6, 0.9, 1.2, 1.5, 1.8, 2.1, 2.4, 2.7, 3. , 3.3, 3.6,\n",
       "        3.9, 4.2, 4.5, 4.8, 5.1, 5.4, 5.7, 6. ]),\n",
       " <BarContainer object of 20 artists>)"
      ]
     },
     "execution_count": 14,
     "metadata": {},
     "output_type": "execute_result"
    },
    {
     "data": {
      "image/png": "[encoded data removed]",
      "text/plain": [
       "<Figure size 432x288 with 1 Axes>"
      ]
     },
     "metadata": {
      "needs_background": "light"
     },
     "output_type": "display_data"
    }
   ],
   "source": [
    "n_bins=20\n",
    "fig, axs = mpl.subplots(1, 1, sharey=True, tight_layout=True)\n",
    "axs.hist(sf[\"anger\"], bins=n_bins)"
   ]
  },
  {
   "cell_type": "code",
   "execution_count": 8,
   "id": "dfd8e6fe-3074-48df-9956-062df9955d68",
   "metadata": {},
   "outputs": [],
   "source": [
    "v = np.zeros((1000,1),dtype=np.int32)\n",
    "j=0\n",
    "for i in range(len(popular)):\n",
    "    if popular[i]==1:\n",
    "        v[j]=sf[\"anger\"][i]\n",
    "        j+=1"
   ]
  },
  {
   "cell_type": "code",
   "execution_count": 9,
   "id": "7911bf03-814a-4ee1-a2c1-6ca8d5f926cf",
   "metadata": {},
   "outputs": [
    {
     "data": {
      "text/plain": [
       "(array([766.,   0.,   0., 182.,   0.,   0.,  37.,   0.,   0.,   0.,   7.,\n",
       "          0.,   0.,   5.,   0.,   0.,   2.,   0.,   0.,   1.]),\n",
       " array([0. , 0.3, 0.6, 0.9, 1.2, 1.5, 1.8, 2.1, 2.4, 2.7, 3. , 3.3, 3.6,\n",
       "        3.9, 4.2, 4.5, 4.8, 5.1, 5.4, 5.7, 6. ]),\n",
       " <BarContainer object of 20 artists>)"
      ]
     },
     "execution_count": 9,
     "metadata": {},
     "output_type": "execute_result"
    },
    {
     "data": {
      "image/png": "[encoded data removed]",
      "text/plain": [
       "<Figure size 432x288 with 1 Axes>"
      ]
     },
     "metadata": {
      "needs_background": "light"
     },
     "output_type": "display_data"
    }
   ],
   "source": [
    "n_bins=20\n",
    "fig, axs = mpl.subplots(1, 1, sharey=True, tight_layout=True)\n",
    "axs.hist(v, bins=n_bins)"
   ]
  },
  {
   "cell_type": "code",
   "execution_count": 10,
   "id": "f81f9913-3662-42b1-b0e5-c541508615ae",
   "metadata": {},
   "outputs": [],
   "source": [
    "v = np.zeros((1000,1),dtype=np.int32)\n",
    "j=0\n",
    "for i in range(len(popular)):\n",
    "    if popular[i]==0:\n",
    "        v[j]=sf[\"anger\"][i]\n",
    "        j+=1"
   ]
  },
  {
   "cell_type": "code",
   "execution_count": 13,
   "id": "c04ed058-3f15-4ef7-b510-a2bb02b81af8",
   "metadata": {},
   "outputs": [
    {
     "data": {
      "text/plain": [
       "(array([819.,   0.,   0.,   0.,   0.,   0., 157.,   0.,   0.,   0.,   0.,\n",
       "          0.,   0.,  22.,   0.,   0.,   0.,   0.,   0.,   2.]),\n",
       " array([0.  , 0.15, 0.3 , 0.45, 0.6 , 0.75, 0.9 , 1.05, 1.2 , 1.35, 1.5 ,\n",
       "        1.65, 1.8 , 1.95, 2.1 , 2.25, 2.4 , 2.55, 2.7 , 2.85, 3.  ]),\n",
       " <BarContainer object of 20 artists>)"
      ]
     },
     "execution_count": 13,
     "metadata": {},
     "output_type": "execute_result"
    },
    {
     "data": {
      "image/png": "[encoded data removed]",
      "text/plain": [
       "<Figure size 432x288 with 1 Axes>"
      ]
     },
     "metadata": {
      "needs_background": "light"
     },
     "output_type": "display_data"
    }
   ],
   "source": [
    "n_bins=20\n",
    "fig, axs = mpl.subplots(1, 1, sharey=True, tight_layout=True)\n",
    "axs.hist(v, bins=n_bins)"
   ]
  },
  {
   "cell_type": "markdown",
   "id": "49c5580a-a344-469e-ac41-ce070338800e",
   "metadata": {},
   "source": [
    "SI PUO' OSSERVARE COME NON ESISTANO ELEMENTI NON POPOLARI CHE ABBIANO UNA CONTA DI PAROLE DI RABBIA MAGGIORE DI 3. INOLTRE LA COLONNA DI ZERO PAROLE, SEPPUR SIMILE SEMBREREBBE ESSERE PIU' BASSA PER I POPOLARI CORROBORANDO COSI' L'IPOTESI CHE IL NUMERO DI PAROLE DI RABBIA SEMBREREBBE ESSERE UN FATTORE DETERMINANTE"
   ]
  },
  {
   "cell_type": "markdown",
   "id": "cc14f0c1-cd25-4954-8c03-8e4244898ae4",
   "metadata": {},
   "source": [
    "############################################### ANTICIPATION #######################################################################"
   ]
  },
  {
   "cell_type": "code",
   "execution_count": 15,
   "id": "fa4810dd-6906-47ec-a285-387bd6fce8c7",
   "metadata": {},
   "outputs": [
    {
     "data": {
      "text/plain": [
       "(array([1244.,    0.,    0.,    0.,  552.,    0.,    0.,    0.,  154.,\n",
       "           0.,    0.,    0.,   38.,    0.,    0.,    0.,    8.,    0.,\n",
       "           0.,    4.]),\n",
       " array([0.  , 0.25, 0.5 , 0.75, 1.  , 1.25, 1.5 , 1.75, 2.  , 2.25, 2.5 ,\n",
       "        2.75, 3.  , 3.25, 3.5 , 3.75, 4.  , 4.25, 4.5 , 4.75, 5.  ]),\n",
       " <BarContainer object of 20 artists>)"
      ]
     },
     "execution_count": 15,
     "metadata": {},
     "output_type": "execute_result"
    },
    {
     "data": {
      "image/png": "[encoded data removed]",
      "text/plain": [
       "<Figure size 432x288 with 1 Axes>"
      ]
     },
     "metadata": {
      "needs_background": "light"
     },
     "output_type": "display_data"
    }
   ],
   "source": [
    "n_bins=20\n",
    "fig, axs = mpl.subplots(1, 1, sharey=True, tight_layout=True)\n",
    "axs.hist(sf[\"anticipation\"], bins=n_bins)"
   ]
  },
  {
   "cell_type": "code",
   "execution_count": 16,
   "id": "ba205f61-6376-4d00-afce-1b94d34e16cd",
   "metadata": {},
   "outputs": [],
   "source": [
    "v = np.zeros((1000,1),dtype=np.int32)\n",
    "j=0\n",
    "for i in range(len(popular)):\n",
    "    if popular[i]==1:\n",
    "        v[j]=sf[\"anticipation\"][i]\n",
    "        j+=1"
   ]
  },
  {
   "cell_type": "code",
   "execution_count": 17,
   "id": "258c8e70-0879-455d-9871-74efb8382444",
   "metadata": {},
   "outputs": [
    {
     "data": {
      "text/plain": [
       "(array([618.,   0.,   0.,   0., 274.,   0.,   0.,   0.,  85.,   0.,   0.,\n",
       "          0.,  18.,   0.,   0.,   0.,   3.,   0.,   0.,   2.]),\n",
       " array([0.  , 0.25, 0.5 , 0.75, 1.  , 1.25, 1.5 , 1.75, 2.  , 2.25, 2.5 ,\n",
       "        2.75, 3.  , 3.25, 3.5 , 3.75, 4.  , 4.25, 4.5 , 4.75, 5.  ]),\n",
       " <BarContainer object of 20 artists>)"
      ]
     },
     "execution_count": 17,
     "metadata": {},
     "output_type": "execute_result"
    },
    {
     "data": {
      "image/png": "[encoded data removed]",
      "text/plain": [
       "<Figure size 432x288 with 1 Axes>"
      ]
     },
     "metadata": {
      "needs_background": "light"
     },
     "output_type": "display_data"
    }
   ],
   "source": [
    "n_bins=20\n",
    "fig, axs = mpl.subplots(1, 1, sharey=True, tight_layout=True)\n",
    "axs.hist(v, bins=n_bins)"
   ]
  },
  {
   "cell_type": "code",
   "execution_count": 18,
   "id": "e66f459b-e9ed-4dee-8195-85edf57d10f0",
   "metadata": {},
   "outputs": [],
   "source": [
    "v = np.zeros((1000,1),dtype=np.int32)\n",
    "j=0\n",
    "for i in range(len(popular)):\n",
    "    if popular[i]==0:\n",
    "        v[j]=sf[\"anticipation\"][i]\n",
    "        j+=1"
   ]
  },
  {
   "cell_type": "code",
   "execution_count": 19,
   "id": "7dfae0d9-658e-45f4-a4b3-d596e73849ef",
   "metadata": {},
   "outputs": [
    {
     "data": {
      "text/plain": [
       "(array([626.,   0.,   0.,   0., 278.,   0.,   0.,   0.,  69.,   0.,   0.,\n",
       "          0.,  20.,   0.,   0.,   0.,   5.,   0.,   0.,   2.]),\n",
       " array([0.  , 0.25, 0.5 , 0.75, 1.  , 1.25, 1.5 , 1.75, 2.  , 2.25, 2.5 ,\n",
       "        2.75, 3.  , 3.25, 3.5 , 3.75, 4.  , 4.25, 4.5 , 4.75, 5.  ]),\n",
       " <BarContainer object of 20 artists>)"
      ]
     },
     "execution_count": 19,
     "metadata": {},
     "output_type": "execute_result"
    },
    {
     "data": {
      "image/png": "[encoded data removed]",
      "text/plain": [
       "<Figure size 432x288 with 1 Axes>"
      ]
     },
     "metadata": {
      "needs_background": "light"
     },
     "output_type": "display_data"
    }
   ],
   "source": [
    "n_bins=20\n",
    "fig, axs = mpl.subplots(1, 1, sharey=True, tight_layout=True)\n",
    "axs.hist(v, bins=n_bins)"
   ]
  },
  {
   "cell_type": "markdown",
   "id": "fc5ec6bd-e10a-4c42-ad38-48ebd741d94d",
   "metadata": {},
   "source": [
    "NELLA ANALISI DELLA RANDOMFOREST ANTICIPATION SEMBRAVA PIU' DETERMINANTE RISPETTO A QUANTO APPARE QUI DAI GRAFICI"
   ]
  },
  {
   "cell_type": "markdown",
   "id": "3c0f2256-8b82-47e8-bedd-d51947243766",
   "metadata": {},
   "source": [
    "############################################ DISGUST ###############################################################################"
   ]
  },
  {
   "cell_type": "code",
   "execution_count": 21,
   "id": "a41ff17b-3cb4-4954-ab53-488fd3675dd5",
   "metadata": {},
   "outputs": [
    {
     "data": {
      "text/plain": [
       "(array([1596.,    0.,    0.,    0.,    0.,  336.,    0.,    0.,    0.,\n",
       "           0.,   55.,    0.,    0.,    0.,    0.,   11.,    0.,    0.,\n",
       "           0.,    2.]),\n",
       " array([0. , 0.2, 0.4, 0.6, 0.8, 1. , 1.2, 1.4, 1.6, 1.8, 2. , 2.2, 2.4,\n",
       "        2.6, 2.8, 3. , 3.2, 3.4, 3.6, 3.8, 4. ]),\n",
       " <BarContainer object of 20 artists>)"
      ]
     },
     "execution_count": 21,
     "metadata": {},
     "output_type": "execute_result"
    },
    {
     "data": {
      "image/png": "[encoded data removed]",
      "text/plain": [
       "<Figure size 432x288 with 1 Axes>"
      ]
     },
     "metadata": {
      "needs_background": "light"
     },
     "output_type": "display_data"
    }
   ],
   "source": [
    "n_bins=20\n",
    "fig, axs = mpl.subplots(1, 1, sharey=True, tight_layout=True)\n",
    "axs.hist(sf[\"disgust\"], bins=n_bins)"
   ]
  },
  {
   "cell_type": "code",
   "execution_count": 23,
   "id": "6a486c26-c43c-4507-9e52-831cbcc56ae6",
   "metadata": {},
   "outputs": [
    {
     "data": {
      "text/plain": [
       "(array([774.,   0.,   0.,   0.,   0., 180.,   0.,   0.,   0.,   0.,  39.,\n",
       "          0.,   0.,   0.,   0.,   5.,   0.,   0.,   0.,   2.]),\n",
       " array([0. , 0.2, 0.4, 0.6, 0.8, 1. , 1.2, 1.4, 1.6, 1.8, 2. , 2.2, 2.4,\n",
       "        2.6, 2.8, 3. , 3.2, 3.4, 3.6, 3.8, 4. ]),\n",
       " <BarContainer object of 20 artists>)"
      ]
     },
     "execution_count": 23,
     "metadata": {},
     "output_type": "execute_result"
    },
    {
     "data": {
      "image/png": "[encoded data removed]",
      "text/plain": [
       "<Figure size 432x288 with 1 Axes>"
      ]
     },
     "metadata": {
      "needs_background": "light"
     },
     "output_type": "display_data"
    }
   ],
   "source": [
    "v = np.zeros((1000,1),dtype=np.int32)\n",
    "j=0\n",
    "for i in range(len(popular)):\n",
    "    if popular[i]==1:\n",
    "        v[j]=sf[\"disgust\"][i]\n",
    "        j+=1\n",
    "n_bins=20\n",
    "fig, axs = mpl.subplots(1, 1, sharey=True, tight_layout=True)\n",
    "axs.hist(v, bins=n_bins)"
   ]
  },
  {
   "cell_type": "code",
   "execution_count": 24,
   "id": "58ff2a71-032d-42ba-80ff-eb917a909463",
   "metadata": {},
   "outputs": [
    {
     "data": {
      "text/plain": [
       "(array([822.,   0.,   0.,   0.,   0.,   0., 156.,   0.,   0.,   0.,   0.,\n",
       "          0.,   0.,  16.,   0.,   0.,   0.,   0.,   0.,   6.]),\n",
       " array([0.  , 0.15, 0.3 , 0.45, 0.6 , 0.75, 0.9 , 1.05, 1.2 , 1.35, 1.5 ,\n",
       "        1.65, 1.8 , 1.95, 2.1 , 2.25, 2.4 , 2.55, 2.7 , 2.85, 3.  ]),\n",
       " <BarContainer object of 20 artists>)"
      ]
     },
     "execution_count": 24,
     "metadata": {},
     "output_type": "execute_result"
    },
    {
     "data": {
      "image/png": "[encoded data removed]",
      "text/plain": [
       "<Figure size 432x288 with 1 Axes>"
      ]
     },
     "metadata": {
      "needs_background": "light"
     },
     "output_type": "display_data"
    }
   ],
   "source": [
    "v = np.zeros((1000,1),dtype=np.int32)\n",
    "j=0\n",
    "for i in range(len(popular)):\n",
    "    if popular[i]==0:\n",
    "        v[j]=sf[\"disgust\"][i]\n",
    "        j+=1\n",
    "n_bins=20\n",
    "fig, axs = mpl.subplots(1, 1, sharey=True, tight_layout=True)\n",
    "axs.hist(v, bins=n_bins)"
   ]
  },
  {
   "cell_type": "markdown",
   "id": "54ef3ada-0e52-46ae-9aee-edc2eb8e2f61",
   "metadata": {},
   "source": [
    "RISULTATO SIMILE A QUELLO OTTENUTO CON ANGER"
   ]
  },
  {
   "cell_type": "markdown",
   "id": "dd7c3e75-25b4-4c6a-95b2-70da8f365731",
   "metadata": {},
   "source": [
    "####################################### FEAR #########################################################################################"
   ]
  },
  {
   "cell_type": "code",
   "execution_count": 25,
   "id": "3092b32d-da80-49fa-9cd1-e290fd28ee03",
   "metadata": {},
   "outputs": [
    {
     "data": {
      "text/plain": [
       "(array([1.567e+03, 0.000e+00, 0.000e+00, 3.400e+02, 0.000e+00, 0.000e+00,\n",
       "        6.600e+01, 0.000e+00, 0.000e+00, 0.000e+00, 2.100e+01, 0.000e+00,\n",
       "        0.000e+00, 5.000e+00, 0.000e+00, 0.000e+00, 0.000e+00, 0.000e+00,\n",
       "        0.000e+00, 1.000e+00]),\n",
       " array([0. , 0.3, 0.6, 0.9, 1.2, 1.5, 1.8, 2.1, 2.4, 2.7, 3. , 3.3, 3.6,\n",
       "        3.9, 4.2, 4.5, 4.8, 5.1, 5.4, 5.7, 6. ]),\n",
       " <BarContainer object of 20 artists>)"
      ]
     },
     "execution_count": 25,
     "metadata": {},
     "output_type": "execute_result"
    },
    {
     "data": {
      "image/png": "[encoded data removed]",
      "text/plain": [
       "<Figure size 432x288 with 1 Axes>"
      ]
     },
     "metadata": {
      "needs_background": "light"
     },
     "output_type": "display_data"
    }
   ],
   "source": [
    "n_bins=20\n",
    "fig, axs = mpl.subplots(1, 1, sharey=True, tight_layout=True)\n",
    "axs.hist(sf[\"fear\"], bins=n_bins)"
   ]
  },
  {
   "cell_type": "code",
   "execution_count": 26,
   "id": "263ff93d-7dd4-4d69-96ca-de55efb3bc06",
   "metadata": {},
   "outputs": [
    {
     "data": {
      "text/plain": [
       "(array([743.,   0.,   0., 190.,   0.,   0.,  42.,   0.,   0.,   0.,  20.,\n",
       "          0.,   0.,   4.,   0.,   0.,   0.,   0.,   0.,   1.]),\n",
       " array([0. , 0.3, 0.6, 0.9, 1.2, 1.5, 1.8, 2.1, 2.4, 2.7, 3. , 3.3, 3.6,\n",
       "        3.9, 4.2, 4.5, 4.8, 5.1, 5.4, 5.7, 6. ]),\n",
       " <BarContainer object of 20 artists>)"
      ]
     },
     "execution_count": 26,
     "metadata": {},
     "output_type": "execute_result"
    },
    {
     "data": {
      "image/png": "[encoded data removed]",
      "text/plain": [
       "<Figure size 432x288 with 1 Axes>"
      ]
     },
     "metadata": {
      "needs_background": "light"
     },
     "output_type": "display_data"
    }
   ],
   "source": [
    "v = np.zeros((1000,1),dtype=np.int32)\n",
    "j=0\n",
    "for i in range(len(popular)):\n",
    "    if popular[i]==1:\n",
    "        v[j]=sf[\"fear\"][i]\n",
    "        j+=1\n",
    "n_bins=20\n",
    "fig, axs = mpl.subplots(1, 1, sharey=True, tight_layout=True)\n",
    "axs.hist(v, bins=n_bins)"
   ]
  },
  {
   "cell_type": "code",
   "execution_count": 27,
   "id": "98f78a24-c06c-4270-9511-1b961087e372",
   "metadata": {},
   "outputs": [
    {
     "data": {
      "text/plain": [
       "(array([824.,   0.,   0.,   0.,   0., 150.,   0.,   0.,   0.,   0.,  24.,\n",
       "          0.,   0.,   0.,   0.,   1.,   0.,   0.,   0.,   1.]),\n",
       " array([0. , 0.2, 0.4, 0.6, 0.8, 1. , 1.2, 1.4, 1.6, 1.8, 2. , 2.2, 2.4,\n",
       "        2.6, 2.8, 3. , 3.2, 3.4, 3.6, 3.8, 4. ]),\n",
       " <BarContainer object of 20 artists>)"
      ]
     },
     "execution_count": 27,
     "metadata": {},
     "output_type": "execute_result"
    },
    {
     "data": {
      "image/png": "[encoded data removed]",
      "text/plain": [
       "<Figure size 432x288 with 1 Axes>"
      ]
     },
     "metadata": {
      "needs_background": "light"
     },
     "output_type": "display_data"
    }
   ],
   "source": [
    "v = np.zeros((1000,1),dtype=np.int32)\n",
    "j=0\n",
    "for i in range(len(popular)):\n",
    "    if popular[i]==0:\n",
    "        v[j]=sf[\"fear\"][i]\n",
    "        j+=1\n",
    "n_bins=20\n",
    "fig, axs = mpl.subplots(1, 1, sharey=True, tight_layout=True)\n",
    "axs.hist(v, bins=n_bins)"
   ]
  },
  {
   "cell_type": "markdown",
   "id": "d526a05e-1a00-4a3c-ba8c-2d4fed901ffc",
   "metadata": {},
   "source": [
    "PIU' O MENO COME NEL CASO PRECEDENTE TUTTAVIA QUA SI VEDE CHE PER VALORI DI FEAR PARI A 5 O 6 E' SEMPRE POPULAR"
   ]
  },
  {
   "cell_type": "markdown",
   "id": "641e58cb-ce83-4247-9c10-b2f718d05c25",
   "metadata": {},
   "source": [
    "######################################### JOY ########################################################################################"
   ]
  },
  {
   "cell_type": "code",
   "execution_count": 29,
   "id": "a180f24e-b179-4b74-a1f4-77fc22f1cf70",
   "metadata": {},
   "outputs": [
    {
     "data": {
      "text/plain": [
       "(array([1.11e+03, 0.00e+00, 5.55e+02, 0.00e+00, 0.00e+00, 2.37e+02,\n",
       "        0.00e+00, 0.00e+00, 6.70e+01, 0.00e+00, 0.00e+00, 1.90e+01,\n",
       "        0.00e+00, 0.00e+00, 8.00e+00, 0.00e+00, 0.00e+00, 3.00e+00,\n",
       "        0.00e+00, 1.00e+00]),\n",
       " array([0.  , 0.35, 0.7 , 1.05, 1.4 , 1.75, 2.1 , 2.45, 2.8 , 3.15, 3.5 ,\n",
       "        3.85, 4.2 , 4.55, 4.9 , 5.25, 5.6 , 5.95, 6.3 , 6.65, 7.  ]),\n",
       " <BarContainer object of 20 artists>)"
      ]
     },
     "execution_count": 29,
     "metadata": {},
     "output_type": "execute_result"
    },
    {
     "data": {
      "image/png": "[encoded data removed]",
      "text/plain": [
       "<Figure size 432x288 with 1 Axes>"
      ]
     },
     "metadata": {
      "needs_background": "light"
     },
     "output_type": "display_data"
    }
   ],
   "source": [
    "n_bins=20\n",
    "fig, axs = mpl.subplots(1, 1, sharey=True, tight_layout=True)\n",
    "axs.hist(sf[\"joy\"], bins=n_bins)"
   ]
  },
  {
   "cell_type": "code",
   "execution_count": 30,
   "id": "1de6f637-f421-4f73-addc-0158a7849088",
   "metadata": {},
   "outputs": [
    {
     "data": {
      "text/plain": [
       "(array([582.,   0.,   0., 285.,   0.,   0., 107.,   0.,   0.,   0.,  17.,\n",
       "          0.,   0.,   4.,   0.,   0.,   4.,   0.,   0.,   1.]),\n",
       " array([0. , 0.3, 0.6, 0.9, 1.2, 1.5, 1.8, 2.1, 2.4, 2.7, 3. , 3.3, 3.6,\n",
       "        3.9, 4.2, 4.5, 4.8, 5.1, 5.4, 5.7, 6. ]),\n",
       " <BarContainer object of 20 artists>)"
      ]
     },
     "execution_count": 30,
     "metadata": {},
     "output_type": "execute_result"
    },
    {
     "data": {
      "image/png": "[encoded data removed]",
      "text/plain": [
       "<Figure size 432x288 with 1 Axes>"
      ]
     },
     "metadata": {
      "needs_background": "light"
     },
     "output_type": "display_data"
    }
   ],
   "source": [
    "v = np.zeros((1000,1),dtype=np.int32)\n",
    "j=0\n",
    "for i in range(len(popular)):\n",
    "    if popular[i]==1:\n",
    "        v[j]=sf[\"joy\"][i]\n",
    "        j+=1\n",
    "n_bins=20\n",
    "fig, axs = mpl.subplots(1, 1, sharey=True, tight_layout=True)\n",
    "axs.hist(v, bins=n_bins)"
   ]
  },
  {
   "cell_type": "code",
   "execution_count": 31,
   "id": "d2a74bea-39a2-407e-a8e7-a5d196e183c9",
   "metadata": {},
   "outputs": [
    {
     "data": {
      "text/plain": [
       "(array([528.,   0., 270.,   0.,   0., 130.,   0.,   0.,  50.,   0.,   0.,\n",
       "         15.,   0.,   0.,   4.,   0.,   0.,   2.,   0.,   1.]),\n",
       " array([0.  , 0.35, 0.7 , 1.05, 1.4 , 1.75, 2.1 , 2.45, 2.8 , 3.15, 3.5 ,\n",
       "        3.85, 4.2 , 4.55, 4.9 , 5.25, 5.6 , 5.95, 6.3 , 6.65, 7.  ]),\n",
       " <BarContainer object of 20 artists>)"
      ]
     },
     "execution_count": 31,
     "metadata": {},
     "output_type": "execute_result"
    },
    {
     "data": {
      "image/png": "[encoded data removed]",
      "text/plain": [
       "<Figure size 432x288 with 1 Axes>"
      ]
     },
     "metadata": {
      "needs_background": "light"
     },
     "output_type": "display_data"
    }
   ],
   "source": [
    "v = np.zeros((1000,1),dtype=np.int32)\n",
    "j=0\n",
    "for i in range(len(popular)):\n",
    "    if popular[i]==0:\n",
    "        v[j]=sf[\"joy\"][i]\n",
    "        j+=1\n",
    "n_bins=20\n",
    "fig, axs = mpl.subplots(1, 1, sharey=True, tight_layout=True)\n",
    "axs.hist(v, bins=n_bins)"
   ]
  },
  {
   "cell_type": "markdown",
   "id": "40d40ecc-537f-4171-ade1-241b44547f5d",
   "metadata": {},
   "source": [
    "INASPETTATAMENTE SI NOTA COME I POST GIOIOSI SIANO MENO POPOLARI DEGLI ALTRI TIPI. QUESTA EMOZIONE QUINDI SELEZIONA IN PARTE AL \"CONTRARIO\""
   ]
  },
  {
   "cell_type": "markdown",
   "id": "c52879c4-9f1e-402d-8177-9722539352b4",
   "metadata": {},
   "source": [
    "############################################ SADNESS #######################################################################################"
   ]
  },
  {
   "cell_type": "code",
   "execution_count": 32,
   "id": "88a41f3a-8495-46e7-bb65-4c8a6398a274",
   "metadata": {},
   "outputs": [
    {
     "data": {
      "text/plain": [
       "(array([1.56e+03, 0.00e+00, 0.00e+00, 0.00e+00, 3.46e+02, 0.00e+00,\n",
       "        0.00e+00, 0.00e+00, 7.80e+01, 0.00e+00, 0.00e+00, 0.00e+00,\n",
       "        1.30e+01, 0.00e+00, 0.00e+00, 0.00e+00, 2.00e+00, 0.00e+00,\n",
       "        0.00e+00, 1.00e+00]),\n",
       " array([0.  , 0.25, 0.5 , 0.75, 1.  , 1.25, 1.5 , 1.75, 2.  , 2.25, 2.5 ,\n",
       "        2.75, 3.  , 3.25, 3.5 , 3.75, 4.  , 4.25, 4.5 , 4.75, 5.  ]),\n",
       " <BarContainer object of 20 artists>)"
      ]
     },
     "execution_count": 32,
     "metadata": {},
     "output_type": "execute_result"
    },
    {
     "data": {
      "image/png": "[encoded data removed]",
      "text/plain": [
       "<Figure size 432x288 with 1 Axes>"
      ]
     },
     "metadata": {
      "needs_background": "light"
     },
     "output_type": "display_data"
    }
   ],
   "source": [
    "n_bins=20\n",
    "fig, axs = mpl.subplots(1, 1, sharey=True, tight_layout=True)\n",
    "axs.hist(sf[\"sadness\"], bins=n_bins)"
   ]
  },
  {
   "cell_type": "code",
   "execution_count": 33,
   "id": "2c78886d-95e5-4367-915f-8f56e3a47cb9",
   "metadata": {},
   "outputs": [
    {
     "data": {
      "text/plain": [
       "(array([747.,   0.,   0.,   0., 193.,   0.,   0.,   0.,  45.,   0.,   0.,\n",
       "          0.,  12.,   0.,   0.,   0.,   2.,   0.,   0.,   1.]),\n",
       " array([0.  , 0.25, 0.5 , 0.75, 1.  , 1.25, 1.5 , 1.75, 2.  , 2.25, 2.5 ,\n",
       "        2.75, 3.  , 3.25, 3.5 , 3.75, 4.  , 4.25, 4.5 , 4.75, 5.  ]),\n",
       " <BarContainer object of 20 artists>)"
      ]
     },
     "execution_count": 33,
     "metadata": {},
     "output_type": "execute_result"
    },
    {
     "data": {
      "image/png": "[encoded data removed]",
      "text/plain": [
       "<Figure size 432x288 with 1 Axes>"
      ]
     },
     "metadata": {
      "needs_background": "light"
     },
     "output_type": "display_data"
    }
   ],
   "source": [
    "v = np.zeros((1000,1),dtype=np.int32)\n",
    "j=0\n",
    "for i in range(len(popular)):\n",
    "    if popular[i]==1:\n",
    "        v[j]=sf[\"sadness\"][i]\n",
    "        j+=1\n",
    "n_bins=20\n",
    "fig, axs = mpl.subplots(1, 1, sharey=True, tight_layout=True)\n",
    "axs.hist(v, bins=n_bins)"
   ]
  },
  {
   "cell_type": "code",
   "execution_count": 34,
   "id": "b555313f-88da-44fe-a94e-08042838bd0a",
   "metadata": {},
   "outputs": [
    {
     "data": {
      "text/plain": [
       "(array([813.,   0.,   0.,   0.,   0.,   0., 153.,   0.,   0.,   0.,   0.,\n",
       "          0.,   0.,  33.,   0.,   0.,   0.,   0.,   0.,   1.]),\n",
       " array([0.  , 0.15, 0.3 , 0.45, 0.6 , 0.75, 0.9 , 1.05, 1.2 , 1.35, 1.5 ,\n",
       "        1.65, 1.8 , 1.95, 2.1 , 2.25, 2.4 , 2.55, 2.7 , 2.85, 3.  ]),\n",
       " <BarContainer object of 20 artists>)"
      ]
     },
     "execution_count": 34,
     "metadata": {},
     "output_type": "execute_result"
    },
    {
     "data": {
      "image/png": "[encoded data removed]",
      "text/plain": [
       "<Figure size 432x288 with 1 Axes>"
      ]
     },
     "metadata": {
      "needs_background": "light"
     },
     "output_type": "display_data"
    }
   ],
   "source": [
    "v = np.zeros((1000,1),dtype=np.int32)\n",
    "j=0\n",
    "for i in range(len(popular)):\n",
    "    if popular[i]==0:\n",
    "        v[j]=sf[\"sadness\"][i]\n",
    "        j+=1\n",
    "n_bins=20\n",
    "fig, axs = mpl.subplots(1, 1, sharey=True, tight_layout=True)\n",
    "axs.hist(v, bins=n_bins)"
   ]
  },
  {
   "cell_type": "markdown",
   "id": "4f86ef68-0a6a-493d-b6cc-55261589d111",
   "metadata": {},
   "source": [
    "CASO SIMILE A QUELLI OSSERVATI IN MAGGIORANZA FIN ORA"
   ]
  },
  {
   "cell_type": "markdown",
   "id": "bd4c4469-ad90-41a7-aaa5-04c8a5c9642c",
   "metadata": {},
   "source": [
    "############################################## SURPRISE ################################################################################"
   ]
  },
  {
   "cell_type": "code",
   "execution_count": 35,
   "id": "1d679215-4d9b-480b-aa8a-ee49c9c15f4c",
   "metadata": {},
   "outputs": [
    {
     "data": {
      "text/plain": [
       "(array([1538.,    0.,    0.,    0.,    0.,    0.,  398.,    0.,    0.,\n",
       "           0.,    0.,    0.,    0.,   59.,    0.,    0.,    0.,    0.,\n",
       "           0.,    5.]),\n",
       " array([0.  , 0.15, 0.3 , 0.45, 0.6 , 0.75, 0.9 , 1.05, 1.2 , 1.35, 1.5 ,\n",
       "        1.65, 1.8 , 1.95, 2.1 , 2.25, 2.4 , 2.55, 2.7 , 2.85, 3.  ]),\n",
       " <BarContainer object of 20 artists>)"
      ]
     },
     "execution_count": 35,
     "metadata": {},
     "output_type": "execute_result"
    },
    {
     "data": {
      "image/png": "[encoded data removed]",
      "text/plain": [
       "<Figure size 432x288 with 1 Axes>"
      ]
     },
     "metadata": {
      "needs_background": "light"
     },
     "output_type": "display_data"
    }
   ],
   "source": [
    "n_bins=20\n",
    "fig, axs = mpl.subplots(1, 1, sharey=True, tight_layout=True)\n",
    "axs.hist(sf[\"surprise\"], bins=n_bins)"
   ]
  },
  {
   "cell_type": "code",
   "execution_count": 36,
   "id": "1ffc70dd-1c82-4b97-adfb-35377dc33d1c",
   "metadata": {},
   "outputs": [
    {
     "data": {
      "text/plain": [
       "(array([775.,   0.,   0.,   0.,   0.,   0., 197.,   0.,   0.,   0.,   0.,\n",
       "          0.,   0.,  23.,   0.,   0.,   0.,   0.,   0.,   5.]),\n",
       " array([0.  , 0.15, 0.3 , 0.45, 0.6 , 0.75, 0.9 , 1.05, 1.2 , 1.35, 1.5 ,\n",
       "        1.65, 1.8 , 1.95, 2.1 , 2.25, 2.4 , 2.55, 2.7 , 2.85, 3.  ]),\n",
       " <BarContainer object of 20 artists>)"
      ]
     },
     "execution_count": 36,
     "metadata": {},
     "output_type": "execute_result"
    },
    {
     "data": {
      "image/png": "[encoded data removed]",
      "text/plain": [
       "<Figure size 432x288 with 1 Axes>"
      ]
     },
     "metadata": {
      "needs_background": "light"
     },
     "output_type": "display_data"
    }
   ],
   "source": [
    "v = np.zeros((1000,1),dtype=np.int32)\n",
    "j=0\n",
    "for i in range(len(popular)):\n",
    "    if popular[i]==1:\n",
    "        v[j]=sf[\"surprise\"][i]\n",
    "        j+=1\n",
    "n_bins=20\n",
    "fig, axs = mpl.subplots(1, 1, sharey=True, tight_layout=True)\n",
    "axs.hist(v, bins=n_bins)"
   ]
  },
  {
   "cell_type": "code",
   "execution_count": 37,
   "id": "a8241a4e-1eb5-4946-9d34-3e829daaeb49",
   "metadata": {},
   "outputs": [
    {
     "data": {
      "text/plain": [
       "(array([763.,   0.,   0.,   0.,   0.,   0.,   0.,   0.,   0.,   0., 201.,\n",
       "          0.,   0.,   0.,   0.,   0.,   0.,   0.,   0.,  36.]),\n",
       " array([0. , 0.1, 0.2, 0.3, 0.4, 0.5, 0.6, 0.7, 0.8, 0.9, 1. , 1.1, 1.2,\n",
       "        1.3, 1.4, 1.5, 1.6, 1.7, 1.8, 1.9, 2. ]),\n",
       " <BarContainer object of 20 artists>)"
      ]
     },
     "execution_count": 37,
     "metadata": {},
     "output_type": "execute_result"
    },
    {
     "data": {
      "image/png": "[encoded data removed]",
      "text/plain": [
       "<Figure size 432x288 with 1 Axes>"
      ]
     },
     "metadata": {
      "needs_background": "light"
     },
     "output_type": "display_data"
    }
   ],
   "source": [
    "v = np.zeros((1000,1),dtype=np.int32)\n",
    "j=0\n",
    "for i in range(len(popular)):\n",
    "    if popular[i]==0:\n",
    "        v[j]=sf[\"surprise\"][i]\n",
    "        j+=1\n",
    "n_bins=20\n",
    "fig, axs = mpl.subplots(1, 1, sharey=True, tight_layout=True)\n",
    "axs.hist(v, bins=n_bins)"
   ]
  },
  {
   "cell_type": "markdown",
   "id": "0a644c04-1409-4216-93e6-6c26f377b316",
   "metadata": {},
   "source": [
    "UNICA DIFFERENZA SUL 3. NEGLI ALTRI CASI SEMBRA NON ESSERCI GRANDE CAMBIAMENTO"
   ]
  },
  {
   "cell_type": "markdown",
   "id": "1ea01b8b-410a-40c5-bf8c-13eabf41d7f2",
   "metadata": {},
   "source": [
    "############################################# TRUST ######################################################################################"
   ]
  },
  {
   "cell_type": "code",
   "execution_count": 38,
   "id": "b4628323-bf39-452b-8e0d-8a79849547cb",
   "metadata": {},
   "outputs": [
    {
     "data": {
      "text/plain": [
       "(array([1.188e+03, 0.000e+00, 5.470e+02, 0.000e+00, 0.000e+00, 2.010e+02,\n",
       "        0.000e+00, 0.000e+00, 4.500e+01, 0.000e+00, 0.000e+00, 1.400e+01,\n",
       "        0.000e+00, 0.000e+00, 4.000e+00, 0.000e+00, 0.000e+00, 0.000e+00,\n",
       "        0.000e+00, 1.000e+00]),\n",
       " array([0.  , 0.35, 0.7 , 1.05, 1.4 , 1.75, 2.1 , 2.45, 2.8 , 3.15, 3.5 ,\n",
       "        3.85, 4.2 , 4.55, 4.9 , 5.25, 5.6 , 5.95, 6.3 , 6.65, 7.  ]),\n",
       " <BarContainer object of 20 artists>)"
      ]
     },
     "execution_count": 38,
     "metadata": {},
     "output_type": "execute_result"
    },
    {
     "data": {
      "image/png": "[encoded data removed]",
      "text/plain": [
       "<Figure size 432x288 with 1 Axes>"
      ]
     },
     "metadata": {
      "needs_background": "light"
     },
     "output_type": "display_data"
    }
   ],
   "source": [
    "n_bins=20\n",
    "fig, axs = mpl.subplots(1, 1, sharey=True, tight_layout=True)\n",
    "axs.hist(sf[\"trust\"], bins=n_bins)"
   ]
  },
  {
   "cell_type": "code",
   "execution_count": 39,
   "id": "2e71ee86-4bf6-4268-b3f8-e0ad1892d151",
   "metadata": {},
   "outputs": [
    {
     "data": {
      "text/plain": [
       "(array([603.,   0.,   0.,   0., 277.,   0.,   0.,   0.,  86.,   0.,   0.,\n",
       "          0.,  24.,   0.,   0.,   0.,   8.,   0.,   0.,   2.]),\n",
       " array([0.  , 0.25, 0.5 , 0.75, 1.  , 1.25, 1.5 , 1.75, 2.  , 2.25, 2.5 ,\n",
       "        2.75, 3.  , 3.25, 3.5 , 3.75, 4.  , 4.25, 4.5 , 4.75, 5.  ]),\n",
       " <BarContainer object of 20 artists>)"
      ]
     },
     "execution_count": 39,
     "metadata": {},
     "output_type": "execute_result"
    },
    {
     "data": {
      "image/png": "[encoded data removed]",
      "text/plain": [
       "<Figure size 432x288 with 1 Axes>"
      ]
     },
     "metadata": {
      "needs_background": "light"
     },
     "output_type": "display_data"
    }
   ],
   "source": [
    "v = np.zeros((1000,1),dtype=np.int32)\n",
    "j=0\n",
    "for i in range(len(popular)):\n",
    "    if popular[i]==1:\n",
    "        v[j]=sf[\"trust\"][i]\n",
    "        j+=1\n",
    "n_bins=20\n",
    "fig, axs = mpl.subplots(1, 1, sharey=True, tight_layout=True)\n",
    "axs.hist(v, bins=n_bins)"
   ]
  },
  {
   "cell_type": "code",
   "execution_count": 40,
   "id": "851dee55-fb42-4076-a1ac-0a6ea65ac212",
   "metadata": {},
   "outputs": [
    {
     "data": {
      "text/plain": [
       "(array([585.,   0., 270.,   0.,   0., 115.,   0.,   0.,  21.,   0.,   0.,\n",
       "          6.,   0.,   0.,   2.,   0.,   0.,   0.,   0.,   1.]),\n",
       " array([0.  , 0.35, 0.7 , 1.05, 1.4 , 1.75, 2.1 , 2.45, 2.8 , 3.15, 3.5 ,\n",
       "        3.85, 4.2 , 4.55, 4.9 , 5.25, 5.6 , 5.95, 6.3 , 6.65, 7.  ]),\n",
       " <BarContainer object of 20 artists>)"
      ]
     },
     "execution_count": 40,
     "metadata": {},
     "output_type": "execute_result"
    },
    {
     "data": {
      "image/png": "[encoded data removed]",
      "text/plain": [
       "<Figure size 432x288 with 1 Axes>"
      ]
     },
     "metadata": {
      "needs_background": "light"
     },
     "output_type": "display_data"
    }
   ],
   "source": [
    "v = np.zeros((1000,1),dtype=np.int32)\n",
    "j=0\n",
    "for i in range(len(popular)):\n",
    "    if popular[i]==0:\n",
    "        v[j]=sf[\"trust\"][i]\n",
    "        j+=1\n",
    "n_bins=20\n",
    "fig, axs = mpl.subplots(1, 1, sharey=True, tight_layout=True)\n",
    "axs.hist(v, bins=n_bins)"
   ]
  },
  {
   "cell_type": "markdown",
   "id": "bfa7a331-8223-42b6-b4a2-699479535fa6",
   "metadata": {},
   "source": [
    "ANALOGO AL CASO DI JOY"
   ]
  },
  {
   "cell_type": "markdown",
   "id": "03f4efd6-513d-4668-9464-67700e6c6b85",
   "metadata": {},
   "source": [
    "################################################ POSITIVE ###################################################################################"
   ]
  },
  {
   "cell_type": "code",
   "execution_count": 42,
   "id": "6ed382f1-4745-4d8e-9ab3-3e327307a287",
   "metadata": {},
   "outputs": [
    {
     "data": {
      "text/plain": [
       "(array([701.,   0., 599.,   0., 343.,   0., 201.,   0.,  91.,   0.,   0.,\n",
       "         41.,   0.,  15.,   0.,   5.,   0.,   1.,   0.,   3.]),\n",
       " array([0.  , 0.45, 0.9 , 1.35, 1.8 , 2.25, 2.7 , 3.15, 3.6 , 4.05, 4.5 ,\n",
       "        4.95, 5.4 , 5.85, 6.3 , 6.75, 7.2 , 7.65, 8.1 , 8.55, 9.  ]),\n",
       " <BarContainer object of 20 artists>)"
      ]
     },
     "execution_count": 42,
     "metadata": {},
     "output_type": "execute_result"
    },
    {
     "data": {
      "image/png": "[encoded data removed]",
      "text/plain": [
       "<Figure size 432x288 with 1 Axes>"
      ]
     },
     "metadata": {
      "needs_background": "light"
     },
     "output_type": "display_data"
    }
   ],
   "source": [
    "n_bins=20\n",
    "fig, axs = mpl.subplots(1, 1, sharey=True, tight_layout=True)\n",
    "axs.hist(sf[\"positive\"], bins=n_bins)"
   ]
  },
  {
   "cell_type": "code",
   "execution_count": 43,
   "id": "144f8352-5ded-4ed6-b6c1-8e4ee3ac5038",
   "metadata": {},
   "outputs": [
    {
     "data": {
      "text/plain": [
       "(array([381.,   0., 326.,   0., 156.,   0.,  85.,   0.,  30.,   0.,   0.,\n",
       "         14.,   0.,   5.,   0.,   1.,   0.,   0.,   0.,   2.]),\n",
       " array([0.  , 0.45, 0.9 , 1.35, 1.8 , 2.25, 2.7 , 3.15, 3.6 , 4.05, 4.5 ,\n",
       "        4.95, 5.4 , 5.85, 6.3 , 6.75, 7.2 , 7.65, 8.1 , 8.55, 9.  ]),\n",
       " <BarContainer object of 20 artists>)"
      ]
     },
     "execution_count": 43,
     "metadata": {},
     "output_type": "execute_result"
    },
    {
     "data": {
      "image/png": "[encoded data removed]",
      "text/plain": [
       "<Figure size 432x288 with 1 Axes>"
      ]
     },
     "metadata": {
      "needs_background": "light"
     },
     "output_type": "display_data"
    }
   ],
   "source": [
    "v = np.zeros((1000,1),dtype=np.int32)\n",
    "j=0\n",
    "for i in range(len(popular)):\n",
    "    if popular[i]==1:\n",
    "        v[j]=sf[\"positive\"][i]\n",
    "        j+=1\n",
    "n_bins=20\n",
    "fig, axs = mpl.subplots(1, 1, sharey=True, tight_layout=True)\n",
    "axs.hist(v, bins=n_bins)"
   ]
  },
  {
   "cell_type": "code",
   "execution_count": 45,
   "id": "309fdd4b-9d20-4abb-b877-4c5d83dc578b",
   "metadata": {},
   "outputs": [
    {
     "data": {
      "text/plain": [
       "(array([320.,   0., 273.,   0., 187.,   0., 116.,   0.,  61.,   0.,   0.,\n",
       "         27.,   0.,  10.,   0.,   4.,   0.,   1.,   0.,   1.]),\n",
       " array([0.  , 0.45, 0.9 , 1.35, 1.8 , 2.25, 2.7 , 3.15, 3.6 , 4.05, 4.5 ,\n",
       "        4.95, 5.4 , 5.85, 6.3 , 6.75, 7.2 , 7.65, 8.1 , 8.55, 9.  ]),\n",
       " <BarContainer object of 20 artists>)"
      ]
     },
     "execution_count": 45,
     "metadata": {},
     "output_type": "execute_result"
    },
    {
     "data": {
      "image/png": "[encoded data removed]",
      "text/plain": [
       "<Figure size 432x288 with 1 Axes>"
      ]
     },
     "metadata": {
      "needs_background": "light"
     },
     "output_type": "display_data"
    }
   ],
   "source": [
    "v = np.zeros((1000,1),dtype=np.int32)\n",
    "j=0\n",
    "for i in range(len(popular)):\n",
    "    if popular[i]==0:\n",
    "        v[j]=sf[\"positive\"][i]\n",
    "        j+=1\n",
    "n_bins=20\n",
    "fig, axs = mpl.subplots(1, 1, sharey=True, tight_layout=True)\n",
    "axs.hist(v, bins=n_bins)"
   ]
  },
  {
   "cell_type": "markdown",
   "id": "2fb700e2-84c1-4f07-a56e-4a0c8e0e0182",
   "metadata": {},
   "source": [
    "ACCUMULANDO SI VEDE LA DIFFERENZA PER CUI PER EMOZIONI POSITIVE TENDENZIAMENTE MENO CE NE SONO PIU' E' FACILE CHE SIA POPOLARE. OLTRE LE DUE INFATTI SI PUò NOTARE CHE LE NON POPOLARI SONO PIU' FREQUENTI."
   ]
  },
  {
   "cell_type": "markdown",
   "id": "7a8fb1e3-ad95-436a-ba00-6e613d1bdfec",
   "metadata": {},
   "source": [
    "################################################ NEGATIVE #####################################################################################"
   ]
  },
  {
   "cell_type": "code",
   "execution_count": 46,
   "id": "5da1968b-bc1a-4790-a593-a002ee3d61fd",
   "metadata": {},
   "outputs": [
    {
     "data": {
      "text/plain": [
       "(array([1.169e+03, 0.000e+00, 5.330e+02, 0.000e+00, 0.000e+00, 2.010e+02,\n",
       "        0.000e+00, 0.000e+00, 6.600e+01, 0.000e+00, 0.000e+00, 2.100e+01,\n",
       "        0.000e+00, 0.000e+00, 8.000e+00, 0.000e+00, 0.000e+00, 1.000e+00,\n",
       "        0.000e+00, 1.000e+00]),\n",
       " array([0.  , 0.35, 0.7 , 1.05, 1.4 , 1.75, 2.1 , 2.45, 2.8 , 3.15, 3.5 ,\n",
       "        3.85, 4.2 , 4.55, 4.9 , 5.25, 5.6 , 5.95, 6.3 , 6.65, 7.  ]),\n",
       " <BarContainer object of 20 artists>)"
      ]
     },
     "execution_count": 46,
     "metadata": {},
     "output_type": "execute_result"
    },
    {
     "data": {
      "image/png": "[encoded data removed]",
      "text/plain": [
       "<Figure size 432x288 with 1 Axes>"
      ]
     },
     "metadata": {
      "needs_background": "light"
     },
     "output_type": "display_data"
    }
   ],
   "source": [
    "n_bins=20\n",
    "fig, axs = mpl.subplots(1, 1, sharey=True, tight_layout=True)\n",
    "axs.hist(sf[\"negative\"], bins=n_bins)"
   ]
  },
  {
   "cell_type": "code",
   "execution_count": 47,
   "id": "b8634d24-ceb7-4c7f-a7b2-fc445f75f4f7",
   "metadata": {},
   "outputs": [
    {
     "data": {
      "text/plain": [
       "(array([583.,   0., 261.,   0.,   0.,  91.,   0.,   0.,  41.,   0.,   0.,\n",
       "         16.,   0.,   0.,   6.,   0.,   0.,   1.,   0.,   1.]),\n",
       " array([0.  , 0.35, 0.7 , 1.05, 1.4 , 1.75, 2.1 , 2.45, 2.8 , 3.15, 3.5 ,\n",
       "        3.85, 4.2 , 4.55, 4.9 , 5.25, 5.6 , 5.95, 6.3 , 6.65, 7.  ]),\n",
       " <BarContainer object of 20 artists>)"
      ]
     },
     "execution_count": 47,
     "metadata": {},
     "output_type": "execute_result"
    },
    {
     "data": {
      "image/png": "[encoded data removed]",
      "text/plain": [
       "<Figure size 432x288 with 1 Axes>"
      ]
     },
     "metadata": {
      "needs_background": "light"
     },
     "output_type": "display_data"
    }
   ],
   "source": [
    "v = np.zeros((1000,1),dtype=np.int32)\n",
    "j=0\n",
    "for i in range(len(popular)):\n",
    "    if popular[i]==1:\n",
    "        v[j]=sf[\"negative\"][i]\n",
    "        j+=1\n",
    "n_bins=20\n",
    "fig, axs = mpl.subplots(1, 1, sharey=True, tight_layout=True)\n",
    "axs.hist(v, bins=n_bins)"
   ]
  },
  {
   "cell_type": "code",
   "execution_count": 48,
   "id": "49c65cf2-defb-4ce6-9c9a-90d4e92a78ef",
   "metadata": {},
   "outputs": [
    {
     "data": {
      "text/plain": [
       "(array([586.,   0.,   0.,   0., 272.,   0.,   0.,   0., 110.,   0.,   0.,\n",
       "          0.,  25.,   0.,   0.,   0.,   5.,   0.,   0.,   2.]),\n",
       " array([0.  , 0.25, 0.5 , 0.75, 1.  , 1.25, 1.5 , 1.75, 2.  , 2.25, 2.5 ,\n",
       "        2.75, 3.  , 3.25, 3.5 , 3.75, 4.  , 4.25, 4.5 , 4.75, 5.  ]),\n",
       " <BarContainer object of 20 artists>)"
      ]
     },
     "execution_count": 48,
     "metadata": {},
     "output_type": "execute_result"
    },
    {
     "data": {
      "image/png": "[encoded data removed]",
      "text/plain": [
       "<Figure size 432x288 with 1 Axes>"
      ]
     },
     "metadata": {
      "needs_background": "light"
     },
     "output_type": "display_data"
    }
   ],
   "source": [
    "v = np.zeros((1000,1),dtype=np.int32)\n",
    "j=0\n",
    "for i in range(len(popular)):\n",
    "    if popular[i]==0:\n",
    "        v[j]=sf[\"negative\"][i]\n",
    "        j+=1\n",
    "n_bins=20\n",
    "fig, axs = mpl.subplots(1, 1, sharey=True, tight_layout=True)\n",
    "axs.hist(v, bins=n_bins)"
   ]
  },
  {
   "cell_type": "markdown",
   "id": "eae75c85-4684-4440-a327-4095b038fbb8",
   "metadata": {},
   "source": [
    "DI LOGICA SI NOTA COME TWEET CON UN NUMERO DI PAROLE NEGATIVE MAGGIORE DI 3 TENDANO AD ESSERE PIU' POPOLARI. PER QUANTITA' MINORE DI TRE LA PERCENTUALI DI POPOLARI E NON E' SIMILE."
   ]
  },
  {
   "cell_type": "code",
   "execution_count": null,
   "id": "5541a734-a9a8-4b2b-afd8-79d19c8c08ec",
   "metadata": {},
   "outputs": [],
   "source": []
  }
 ],
 "metadata": {
  "kernelspec": {
   "display_name": "Python 3 (ipykernel)",
   "language": "python",
   "name": "python3"
  },
  "language_info": {
   "codemirror_mode": {
    "name": "ipython",
    "version": 3
   },
   "file_extension": ".py",
   "mimetype": "text/x-python",
   "name": "python",
   "nbconvert_exporter": "python",
   "pygments_lexer": "ipython3",
   "version": "3.9.7"
  }
 },
 "nbformat": 4,
 "nbformat_minor": 5
}
