{
 "cells": [
  {
   "cell_type": "markdown",
   "id": "208c9c2f-ea82-43e4-baba-9e8662a294a7",
   "metadata": {},
   "source": [
    "IMPORTAZIONE DEL FILE CSV"
   ]
  },
  {
   "cell_type": "code",
   "execution_count": 1,
   "id": "00616ee1-72cf-4e8f-a725-4fe80e7d660f",
   "metadata": {},
   "outputs": [
    {
     "name": "stdout",
     "output_type": "stream",
     "text": [
      "        Unnamed: 0                   id language  retweet        date  \\\n",
      "0                0  1317825082555850752       en    False  2020-10-18   \n",
      "1                3  1423070320588509185       en    False  2021-08-05   \n",
      "2                8  1159520925878018049       en    False  2019-08-08   \n",
      "3               11  1011814667302285312       en    False  2018-06-27   \n",
      "4               12   957611666245644288       en    False  2018-01-28   \n",
      "...            ...                  ...      ...      ...         ...   \n",
      "129397      195955  1302757998578761728       en    False  2020-09-07   \n",
      "129398      195958  1282718395100798976       en    False  2020-07-13   \n",
      "129399      195959  1262435426356338689       en    False  2020-05-18   \n",
      "129400      195962   962153369442836481       en    False  2018-02-10   \n",
      "129401      195968   595957151677358081       en    False  2015-05-06   \n",
      "\n",
      "            time                                              tweet mentions  \\\n",
      "0       15:49:18  When the moon hits your dish And you mispronou...       []   \n",
      "1       01:56:18  This is Alfalfa. He’s had a little sprout on h...       []   \n",
      "2       19:45:06  Here are some of the most climate-vulnerable f...       []   \n",
      "3       05:33:09     hey guys alfalfa here  https://t.co/BtweqDoaRn       []   \n",
      "4       14:49:47  @lrozen At the Alfalfa dinner, Franco came up ...       []   \n",
      "...          ...                                                ...      ...   \n",
      "129397  01:58:05  i think we need to acknowledge how talented li...       []   \n",
      "129398  18:47:51  I’ve watched this 187 times just to hear the g...       []   \n",
      "129399  19:30:35  im always intrigued by close friends stories.....       []   \n",
      "129400  03:36:53  So, my little niece has them hands and just pl...       []   \n",
      "129401  16:23:51  two corgis afraid of large zucchini  http://t....       []   \n",
      "\n",
      "                              urls  \\\n",
      "0                               []   \n",
      "1                               []   \n",
      "2       ['https://bit.ly/33l4Eyx']   \n",
      "3                               []   \n",
      "4                               []   \n",
      "...                            ...   \n",
      "129397                          []   \n",
      "129398                          []   \n",
      "129399                          []   \n",
      "129400                          []   \n",
      "129401                          []   \n",
      "\n",
      "                                                   photos hashtags quote_url  \\\n",
      "0                                                      []       []       NaN   \n",
      "1       ['https://pbs.twimg.com/media/E7_C54wUcAEjqtB....       []       NaN   \n",
      "2                                                      []       []       NaN   \n",
      "3       ['https://pbs.twimg.com/media/DgqwE1fU8AAo8Td....       []       NaN   \n",
      "4                                                      []       []       NaN   \n",
      "...                                                   ...      ...       ...   \n",
      "129397  ['https://pbs.twimg.com/media/EhRTOQ7WsAEiNiM....       []       NaN   \n",
      "129398                                                 []       []       NaN   \n",
      "129399                                                 []       []       NaN   \n",
      "129400                                                 []       []       NaN   \n",
      "129401  ['https://pbs.twimg.com/media/CEVD3xlWgAIHq67....       []       NaN   \n",
      "\n",
      "        video  replies_count  likes_count  retweets_count  \n",
      "0           0            124        37095            4444  \n",
      "1           1            546       134080           10435  \n",
      "2           0            593         8478            4372  \n",
      "3           1           1035        13264            1569  \n",
      "4           0            112         6069            1765  \n",
      "...       ...            ...          ...             ...  \n",
      "129397      1            368       223723           24891  \n",
      "129398      1             58        33984            7406  \n",
      "129399      0            214       268563           36611  \n",
      "129400      1            823       251153           47105  \n",
      "129401      1            203         8188            5025  \n",
      "\n",
      "[129402 rows x 16 columns]\n"
     ]
    }
   ],
   "source": [
    "import matplotlib.pyplot as mpl\n",
    "import numpy as np\n",
    "import pandas as pd\n",
    "df = pd.read_csv(r'C:\\Users\\loren\\Documents\\GitHub\\intro2ml_2021_final_project\\Data\\all_tweets_viral.csv')\n",
    "print(df)"
   ]
  },
  {
   "cell_type": "markdown",
   "id": "33a962fd-8177-42c2-8a30-167729290a2e",
   "metadata": {},
   "source": [
    "ESTRARRE UNA COLONNA"
   ]
  },
  {
   "cell_type": "code",
   "execution_count": 2,
   "id": "5b9ef4fa-a00d-42d8-855b-94b0fdc08e8a",
   "metadata": {},
   "outputs": [
    {
     "name": "stdout",
     "output_type": "stream",
     "text": [
      "0         When the moon hits your dish And you mispronou...\n",
      "1         This is Alfalfa. He’s had a little sprout on h...\n",
      "2         Here are some of the most climate-vulnerable f...\n",
      "3            hey guys alfalfa here  https://t.co/BtweqDoaRn\n",
      "4         @lrozen At the Alfalfa dinner, Franco came up ...\n",
      "                                ...                        \n",
      "129397    i think we need to acknowledge how talented li...\n",
      "129398    I’ve watched this 187 times just to hear the g...\n",
      "129399    im always intrigued by close friends stories.....\n",
      "129400    So, my little niece has them hands and just pl...\n",
      "129401    two corgis afraid of large zucchini  http://t....\n",
      "Name: tweet, Length: 129402, dtype: object\n"
     ]
    },
    {
     "data": {
      "text/plain": [
       "pandas.core.series.Series"
      ]
     },
     "execution_count": 2,
     "metadata": {},
     "output_type": "execute_result"
    }
   ],
   "source": [
    "texts = df[\"tweet\"]\n",
    "print(texts)\n",
    "type(texts)"
   ]
  },
  {
   "cell_type": "code",
   "execution_count": 3,
   "id": "7fa44bb5-e879-4d90-937b-e96f486ccc9f",
   "metadata": {},
   "outputs": [
    {
     "name": "stdout",
     "output_type": "stream",
     "text": [
      "When the moon hits your dish And you mispronounce fish Albacore\n"
     ]
    },
    {
     "data": {
      "text/plain": [
       "63"
      ]
     },
     "execution_count": 3,
     "metadata": {},
     "output_type": "execute_result"
    }
   ],
   "source": [
    "es = texts[0]\n",
    "print(es)\n",
    "type(es)\n",
    "len(es)"
   ]
  },
  {
   "cell_type": "markdown",
   "id": "c4a343e7-5de3-4bcb-be3a-0664d731c47d",
   "metadata": {},
   "source": [
    "ESTRAIAMO LE LUNGHEZZE DEI TWEETS"
   ]
  },
  {
   "cell_type": "code",
   "execution_count": 4,
   "id": "642bcb99-cc60-4ebe-bb88-cebc17bc01f5",
   "metadata": {},
   "outputs": [],
   "source": [
    "lunghezze = [0 for x in texts]\n",
    "for i in range(len(texts)):\n",
    "    lunghezze[i]=len(texts[i])"
   ]
  },
  {
   "cell_type": "code",
   "execution_count": 5,
   "id": "7713f4e4-3229-4113-8459-b8504e02da49",
   "metadata": {},
   "outputs": [
    {
     "data": {
      "text/plain": [
       "(array([4.450e+02, 1.481e+03, 2.525e+03, 5.350e+03, 8.312e+03, 8.203e+03,\n",
       "        8.148e+03, 7.953e+03, 7.324e+03, 7.388e+03, 6.323e+03, 6.544e+03,\n",
       "        7.179e+03, 8.679e+03, 3.404e+03, 3.557e+03, 2.519e+03, 2.250e+03,\n",
       "        2.241e+03, 1.975e+03, 1.945e+03, 1.941e+03, 2.124e+03, 1.948e+03,\n",
       "        2.230e+03, 2.716e+03, 6.413e+03, 4.054e+03, 1.650e+03, 2.315e+03,\n",
       "        2.430e+02, 1.400e+01, 2.000e+00, 0.000e+00, 1.000e+00, 1.000e+00,\n",
       "        2.000e+00, 0.000e+00, 0.000e+00, 0.000e+00, 0.000e+00, 0.000e+00,\n",
       "        2.000e+00, 0.000e+00, 0.000e+00, 0.000e+00, 0.000e+00, 0.000e+00,\n",
       "        0.000e+00, 0.000e+00, 0.000e+00, 0.000e+00, 0.000e+00, 0.000e+00,\n",
       "        0.000e+00, 0.000e+00, 0.000e+00, 0.000e+00, 0.000e+00, 0.000e+00,\n",
       "        0.000e+00, 0.000e+00, 0.000e+00, 0.000e+00, 0.000e+00, 0.000e+00,\n",
       "        0.000e+00, 0.000e+00, 0.000e+00, 0.000e+00, 0.000e+00, 0.000e+00,\n",
       "        0.000e+00, 0.000e+00, 0.000e+00, 0.000e+00, 0.000e+00, 0.000e+00,\n",
       "        0.000e+00, 0.000e+00, 0.000e+00, 0.000e+00, 0.000e+00, 0.000e+00,\n",
       "        0.000e+00, 0.000e+00, 0.000e+00, 0.000e+00, 0.000e+00, 0.000e+00,\n",
       "        0.000e+00, 0.000e+00, 0.000e+00, 0.000e+00, 0.000e+00, 0.000e+00,\n",
       "        0.000e+00, 0.000e+00, 0.000e+00, 1.000e+00]),\n",
       " array([   4.  ,   14.22,   24.44,   34.66,   44.88,   55.1 ,   65.32,\n",
       "          75.54,   85.76,   95.98,  106.2 ,  116.42,  126.64,  136.86,\n",
       "         147.08,  157.3 ,  167.52,  177.74,  187.96,  198.18,  208.4 ,\n",
       "         218.62,  228.84,  239.06,  249.28,  259.5 ,  269.72,  279.94,\n",
       "         290.16,  300.38,  310.6 ,  320.82,  331.04,  341.26,  351.48,\n",
       "         361.7 ,  371.92,  382.14,  392.36,  402.58,  412.8 ,  423.02,\n",
       "         433.24,  443.46,  453.68,  463.9 ,  474.12,  484.34,  494.56,\n",
       "         504.78,  515.  ,  525.22,  535.44,  545.66,  555.88,  566.1 ,\n",
       "         576.32,  586.54,  596.76,  606.98,  617.2 ,  627.42,  637.64,\n",
       "         647.86,  658.08,  668.3 ,  678.52,  688.74,  698.96,  709.18,\n",
       "         719.4 ,  729.62,  739.84,  750.06,  760.28,  770.5 ,  780.72,\n",
       "         790.94,  801.16,  811.38,  821.6 ,  831.82,  842.04,  852.26,\n",
       "         862.48,  872.7 ,  882.92,  893.14,  903.36,  913.58,  923.8 ,\n",
       "         934.02,  944.24,  954.46,  964.68,  974.9 ,  985.12,  995.34,\n",
       "        1005.56, 1015.78, 1026.  ]),\n",
       " <BarContainer object of 100 artists>)"
      ]
     },
     "execution_count": 5,
     "metadata": {},
     "output_type": "execute_result"
    },
    {
     "data": {
      "image/png": "[encoded data removed]",
      "text/plain": [
       "<Figure size 432x288 with 1 Axes>"
      ]
     },
     "metadata": {
      "needs_background": "light"
     },
     "output_type": "display_data"
    }
   ],
   "source": [
    "n_bins=100\n",
    "fig, axs = mpl.subplots(1, 1, sharey=True, tight_layout=True)\n",
    "axs.hist(lunghezze, bins=n_bins)"
   ]
  },
  {
   "cell_type": "markdown",
   "id": "168294bf-5a61-41a3-9fb6-afdc802658cd",
   "metadata": {},
   "source": [
    "ESTRAIAMO I RETWEETS"
   ]
  },
  {
   "cell_type": "code",
   "execution_count": 6,
   "id": "32a932bd-5342-4468-b96c-181ff4ff4b2e",
   "metadata": {},
   "outputs": [],
   "source": [
    "rt = df[\"retweets_count\"]\n",
    "retweets = [np.int64(0) for x in rt]\n",
    "for i in range(len(rt)):\n",
    "    retweets[i] = rt[i]"
   ]
  },
  {
   "cell_type": "code",
   "execution_count": 7,
   "id": "142c3fbe-103b-488d-afa7-1f75f523f46b",
   "metadata": {},
   "outputs": [
    {
     "data": {
      "text/plain": [
       "(array([1.07169e+05, 1.23990e+04, 3.98000e+03, 1.98000e+03, 1.12700e+03,\n",
       "        7.30000e+02, 5.05000e+02, 3.32000e+02, 2.15000e+02, 1.66000e+02,\n",
       "        1.30000e+02, 1.10000e+02, 7.00000e+01, 6.90000e+01, 5.00000e+01,\n",
       "        5.70000e+01, 3.00000e+01, 3.60000e+01, 2.50000e+01, 3.40000e+01,\n",
       "        2.20000e+01, 1.60000e+01, 9.00000e+00, 1.30000e+01, 7.00000e+00,\n",
       "        6.00000e+00, 4.00000e+00, 7.00000e+00, 4.00000e+00, 4.00000e+00,\n",
       "        5.00000e+00, 8.00000e+00, 2.00000e+00, 4.00000e+00, 5.00000e+00,\n",
       "        5.00000e+00, 4.00000e+00, 2.00000e+00, 3.00000e+00, 1.00000e+00,\n",
       "        1.00000e+00, 3.00000e+00, 2.00000e+00, 3.00000e+00, 2.00000e+00,\n",
       "        3.00000e+00, 2.00000e+00, 3.00000e+00, 1.00000e+00, 2.00000e+00,\n",
       "        1.00000e+00, 1.00000e+00, 1.00000e+00, 3.00000e+00, 0.00000e+00,\n",
       "        0.00000e+00, 3.00000e+00, 1.00000e+00, 2.00000e+00, 0.00000e+00,\n",
       "        2.00000e+00, 2.00000e+00, 1.00000e+00, 0.00000e+00, 2.00000e+00,\n",
       "        1.00000e+00, 0.00000e+00, 1.00000e+00, 1.00000e+00, 3.00000e+00,\n",
       "        1.00000e+00, 1.00000e+00, 0.00000e+00, 0.00000e+00, 1.00000e+00,\n",
       "        0.00000e+00, 0.00000e+00, 0.00000e+00, 0.00000e+00, 0.00000e+00,\n",
       "        0.00000e+00, 1.00000e+00, 0.00000e+00, 1.00000e+00, 0.00000e+00,\n",
       "        2.00000e+00, 0.00000e+00, 0.00000e+00, 0.00000e+00, 0.00000e+00,\n",
       "        0.00000e+00, 0.00000e+00, 0.00000e+00, 1.00000e+00, 0.00000e+00,\n",
       "        0.00000e+00, 1.00000e+00, 0.00000e+00, 0.00000e+00, 1.00000e+00]),\n",
       " array([     0.  ,   7397.14,  14794.28,  22191.42,  29588.56,  36985.7 ,\n",
       "         44382.84,  51779.98,  59177.12,  66574.26,  73971.4 ,  81368.54,\n",
       "         88765.68,  96162.82, 103559.96, 110957.1 , 118354.24, 125751.38,\n",
       "        133148.52, 140545.66, 147942.8 , 155339.94, 162737.08, 170134.22,\n",
       "        177531.36, 184928.5 , 192325.64, 199722.78, 207119.92, 214517.06,\n",
       "        221914.2 , 229311.34, 236708.48, 244105.62, 251502.76, 258899.9 ,\n",
       "        266297.04, 273694.18, 281091.32, 288488.46, 295885.6 , 303282.74,\n",
       "        310679.88, 318077.02, 325474.16, 332871.3 , 340268.44, 347665.58,\n",
       "        355062.72, 362459.86, 369857.  , 377254.14, 384651.28, 392048.42,\n",
       "        399445.56, 406842.7 , 414239.84, 421636.98, 429034.12, 436431.26,\n",
       "        443828.4 , 451225.54, 458622.68, 466019.82, 473416.96, 480814.1 ,\n",
       "        488211.24, 495608.38, 503005.52, 510402.66, 517799.8 , 525196.94,\n",
       "        532594.08, 539991.22, 547388.36, 554785.5 , 562182.64, 569579.78,\n",
       "        576976.92, 584374.06, 591771.2 , 599168.34, 606565.48, 613962.62,\n",
       "        621359.76, 628756.9 , 636154.04, 643551.18, 650948.32, 658345.46,\n",
       "        665742.6 , 673139.74, 680536.88, 687934.02, 695331.16, 702728.3 ,\n",
       "        710125.44, 717522.58, 724919.72, 732316.86, 739714.  ]),\n",
       " <BarContainer object of 100 artists>)"
      ]
     },
     "execution_count": 7,
     "metadata": {},
     "output_type": "execute_result"
    },
    {
     "data": {
      "image/png": "[encoded data removed]",
      "text/plain": [
       "<Figure size 432x288 with 1 Axes>"
      ]
     },
     "metadata": {
      "needs_background": "light"
     },
     "output_type": "display_data"
    }
   ],
   "source": [
    "n_bins=100\n",
    "fig, axs = mpl.subplots(1, 1, sharey=True, tight_layout=True)\n",
    "axs.hist(retweets, bins=n_bins)"
   ]
  },
  {
   "cell_type": "code",
   "execution_count": 26,
   "id": "0cdc8fe3-8773-4573-989b-2971af078405",
   "metadata": {},
   "outputs": [
    {
     "data": {
      "text/plain": [
       "<matplotlib.collections.PathCollection at 0x1d154b78ee0>"
      ]
     },
     "execution_count": 26,
     "metadata": {},
     "output_type": "execute_result"
    },
    {
     "data": {
      "image/png": "[encoded data removed]",
      "text/plain": [
       "<Figure size 432x288 with 1 Axes>"
      ]
     },
     "metadata": {
      "needs_background": "light"
     },
     "output_type": "display_data"
    }
   ],
   "source": [
    "mpl.scatter(lunghezze,retweets)"
   ]
  },
  {
   "cell_type": "markdown",
   "id": "3e2888ce-531b-4107-ac02-c09b46894052",
   "metadata": {},
   "source": [
    "TEST COMANDI RANDOMFOREST"
   ]
  },
  {
   "cell_type": "code",
   "execution_count": 9,
   "id": "6de5b943-0aff-4ef7-a839-fad192f1bcff",
   "metadata": {},
   "outputs": [],
   "source": [
    "from sklearn.ensemble import RandomForestRegressor\n",
    "from sklearn.datasets import make_regression"
   ]
  },
  {
   "cell_type": "code",
   "execution_count": 25,
   "id": "6fc7ceac-5a61-4a60-ac46-d8f4bab6e11f",
   "metadata": {},
   "outputs": [
    {
     "name": "stdout",
     "output_type": "stream",
     "text": [
      "[4.28585564]\n",
      "21.38334230181245\n"
     ]
    },
    {
     "data": {
      "text/plain": [
       "RandomForestRegressor(max_depth=20, n_estimators=250, random_state=0)"
      ]
     },
     "execution_count": 25,
     "metadata": {},
     "output_type": "execute_result"
    }
   ],
   "source": [
    "lunghezze, retweets = make_regression(n_samples=len(texts),n_features=1, n_informative=1, random_state=0, shuffle=True)\n",
    "print(max(lunghezze))\n",
    "print(max(retweets))\n",
    "regr = RandomForestRegressor(n_estimators=250,max_depth=20, random_state=0)\n",
    "regr.fit(lunghezze, retweets)"
   ]
  },
  {
   "cell_type": "code",
   "execution_count": 23,
   "id": "584cd2ae-fcfb-4e97-937d-071c50107e52",
   "metadata": {},
   "outputs": [
    {
     "name": "stdout",
     "output_type": "stream",
     "text": [
      "[81.99627604]\n"
     ]
    }
   ],
   "source": [
    "print(regr.predict([[1.2]]))"
   ]
  },
  {
   "cell_type": "code",
   "execution_count": null,
   "id": "b075be05-220b-4d55-b1b1-e13c529df30d",
   "metadata": {},
   "outputs": [],
   "source": []
  }
 ],
 "metadata": {
  "kernelspec": {
   "display_name": "Python 3 (ipykernel)",
   "language": "python",
   "name": "python3"
  },
  "language_info": {
   "codemirror_mode": {
    "name": "ipython",
    "version": 3
   },
   "file_extension": ".py",
   "mimetype": "text/x-python",
   "name": "python",
   "nbconvert_exporter": "python",
   "pygments_lexer": "ipython3",
   "version": "3.9.7"
  }
 },
 "nbformat": 4,
 "nbformat_minor": 5
}
