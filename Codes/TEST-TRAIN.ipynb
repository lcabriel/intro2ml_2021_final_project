{
 "cells": [
  {
   "cell_type": "code",
   "execution_count": 1,
   "id": "999859bc-299e-4ebe-b25e-4185df40eb3f",
   "metadata": {},
   "outputs": [
    {
     "name": "stdout",
     "output_type": "stream",
     "text": [
      "                       id language  retweet        date      time  \\\n",
      "0     1485744412172950000       en    False  24/01/2022  23:40:46   \n",
      "1     1485721208616270000       en    False  24/01/2022  22:08:34   \n",
      "2     1485712796457340000       en    False  24/01/2022  21:35:08   \n",
      "3     1485696815081160000       en    False  24/01/2022  20:31:38   \n",
      "4     1485676215142920000       en    False  24/01/2022  19:09:46   \n",
      "...                   ...      ...      ...         ...       ...   \n",
      "1995   576616860638158000       en    False  14/03/2015  06:32:27   \n",
      "1996   576378534635155000       en    False  13/03/2015  14:45:25   \n",
      "1997   576323800913997000       en    False  13/03/2015  11:07:56   \n",
      "1998   576027220013031000       en    False  12/03/2015  15:29:25   \n",
      "1999   576003023455068000       en    False  12/03/2015  13:53:17   \n",
      "\n",
      "                                                  tweet  \\\n",
      "0     just sliced an acorn squash and it wasnt even ...   \n",
      "1     Acorn squash, lacinato kale, parsnip and duck ...   \n",
      "2     @SmrtAleks Sounds great Aleks. I love sweet po...   \n",
      "3       and i’m gonna roast an acorn squash to go w it!   \n",
      "4                        Stuffed acorn squash tonight 🥰   \n",
      "...                                                 ...   \n",
      "1995  Bacon Burgers and Cheese Fries.  http://t.co/X...   \n",
      "1996  Friday the 13th might be an unlucky day, but w...   \n",
      "1997                        I prefer your love to bacon   \n",
      "1998                      Is it possible to marry bacon   \n",
      "1999  Bacon Burgers and Cheese Fries. ^  http://t.co...   \n",
      "\n",
      "                                               mentions  \\\n",
      "0                                                    []   \n",
      "1     [{'screen_name': 'farmfreshtoyou', 'name': 'fa...   \n",
      "2                                                    []   \n",
      "3                                                    []   \n",
      "4                                                    []   \n",
      "...                                                 ...   \n",
      "1995                                                 []   \n",
      "1996                                                 []   \n",
      "1997                                                 []   \n",
      "1998                                                 []   \n",
      "1999                                                 []   \n",
      "\n",
      "                                                   urls  \\\n",
      "0                                                    []   \n",
      "1     ['https://www.instagram.com/p/CZIJpF8vpWl/?utm...   \n",
      "2                                                    []   \n",
      "3                                                    []   \n",
      "4                                                    []   \n",
      "...                                                 ...   \n",
      "1995                                                 []   \n",
      "1996                                                 []   \n",
      "1997                                                 []   \n",
      "1998                                                 []   \n",
      "1999                                                 []   \n",
      "\n",
      "                                                 photos hashtags quote_url  \\\n",
      "0                                                    []       []       NaN   \n",
      "1                                                    []       []       NaN   \n",
      "2                                                    []       []       NaN   \n",
      "3                                                    []       []       NaN   \n",
      "4                                                    []       []       NaN   \n",
      "...                                                 ...      ...       ...   \n",
      "1995  ['https://pbs.twimg.com/media/CACN-soWMAABWO0....       []       NaN   \n",
      "1996                                                 []       []       NaN   \n",
      "1997                                                 []       []       NaN   \n",
      "1998                                                 []       []       NaN   \n",
      "1999  ['https://pbs.twimg.com/media/Bz2LzKuIEAEEO69....       []       NaN   \n",
      "\n",
      "      video  replies_count  likes_count  retweets_count  \n",
      "0         0              0            5               0  \n",
      "1         0              1            1               0  \n",
      "2         0              1            1               0  \n",
      "3         0              0            2               0  \n",
      "4         0              0            0               0  \n",
      "...     ...            ...          ...             ...  \n",
      "1995      1             94         2166            2765  \n",
      "1996      0             14         2796            1773  \n",
      "1997      0            292         5009            3194  \n",
      "1998      0            401         3219            1290  \n",
      "1999      1            109         2517            3268  \n",
      "\n",
      "[2000 rows x 15 columns]\n"
     ]
    }
   ],
   "source": [
    "import matplotlib.pyplot as mpl\n",
    "import numpy as np\n",
    "import pandas as pd\n",
    "df = pd.read_csv(r'C:\\Users\\loren\\Documents\\GitHub\\intro2ml_2021_final_project\\Data\\dataset_2k.csv')\n",
    "print(df)"
   ]
  },
  {
   "cell_type": "code",
   "execution_count": 2,
   "id": "f88e5e61-ea67-4a37-b554-682f1463fd99",
   "metadata": {},
   "outputs": [],
   "source": [
    "texts = df[\"tweet\"]\n",
    "lunghezze = [0 for x in texts]\n",
    "for i in range(len(texts)):\n",
    "    lunghezze[i]=len(texts[i])"
   ]
  },
  {
   "cell_type": "code",
   "execution_count": 3,
   "id": "a09ad055-0fd5-4502-95e0-62db7ec88f65",
   "metadata": {},
   "outputs": [],
   "source": [
    "rt = df[\"retweets_count\"]\n",
    "retweets = [np.int64(0) for x in rt]\n",
    "for i in range(len(rt)):\n",
    "    retweets[i] = rt[i]"
   ]
  },
  {
   "cell_type": "code",
   "execution_count": 4,
   "id": "062bb23c-a696-468a-9302-b42a0135cace",
   "metadata": {},
   "outputs": [
    {
     "name": "stdout",
     "output_type": "stream",
     "text": [
      "[[0]\n",
      " [0]\n",
      " [0]\n",
      " ...\n",
      " [1]\n",
      " [1]\n",
      " [1]]\n"
     ]
    },
    {
     "data": {
      "text/plain": [
       "numpy.ndarray"
      ]
     },
     "execution_count": 4,
     "metadata": {},
     "output_type": "execute_result"
    }
   ],
   "source": [
    "popular = np.zeros((len(lunghezze),1),dtype=np.int32)\n",
    "for i in range(len(lunghezze)):\n",
    "    if retweets[i]>=1000:\n",
    "        popular[i]=1\n",
    "print(popular)\n",
    "type(popular)"
   ]
  },
  {
   "cell_type": "code",
   "execution_count": 5,
   "id": "acd028d6-059b-4030-b4ef-4e63ece8610a",
   "metadata": {},
   "outputs": [],
   "source": [
    "photos = df[\"photos\"]\n",
    "numphoto = np.zeros((len(photos),1),dtype=np.int32)\n",
    "for i in range(len(photos)):\n",
    "    if(photos[i]!=photos[0]):\n",
    "        numphoto[i]=len(photos[i].split(','))"
   ]
  },
  {
   "cell_type": "code",
   "execution_count": 6,
   "id": "f5067e7c-bf8b-44f4-bbb8-0a63706649a2",
   "metadata": {},
   "outputs": [
    {
     "name": "stdout",
     "output_type": "stream",
     "text": [
      "[[0]\n",
      " [0]\n",
      " [0]\n",
      " ...\n",
      " [0]\n",
      " [0]\n",
      " [0]]\n"
     ]
    }
   ],
   "source": [
    "ht = df[\"hashtags\"]\n",
    "nhash = np.zeros((len(ht),1),dtype=np.int32)\n",
    "for i in range(len(ht)):\n",
    "    if(ht[i]!=ht[0]):\n",
    "        nhash[i]=len(ht[i].split(','))\n",
    "print(nhash)"
   ]
  },
  {
   "cell_type": "code",
   "execution_count": 7,
   "id": "41a8784a-6d83-4ba6-9420-1c8687e9a2b4",
   "metadata": {},
   "outputs": [
    {
     "name": "stdout",
     "output_type": "stream",
     "text": [
      "[[0]\n",
      " [0]\n",
      " [0]\n",
      " ...\n",
      " [0]\n",
      " [0]\n",
      " [1]]\n"
     ]
    }
   ],
   "source": [
    "vt = df[\"video\"]\n",
    "nvideo = np.zeros((len(vt),1),dtype=np.int32)\n",
    "for i in range(len(vt)):\n",
    "    if(vt[i]!=ht[0]):\n",
    "        nvideo[i]=vt[i]\n",
    "print(nvideo)"
   ]
  },
  {
   "cell_type": "code",
   "execution_count": 9,
   "id": "cba8a49f-fb09-4e45-8dc1-f984535963c2",
   "metadata": {},
   "outputs": [
    {
     "name": "stdout",
     "output_type": "stream",
     "text": [
      "      Unnamed: 0  anger  anticipation  disgust  fear  joy  sadness  surprise  \\\n",
      "0              1      0             2        0     0    0        0         0   \n",
      "1              2      0             0        0     0    0        0         0   \n",
      "2              3      0             2        0     0    3        0         2   \n",
      "3              4      0             0        0     0    0        0         0   \n",
      "4              5      0             0        0     0    0        0         0   \n",
      "...          ...    ...           ...      ...   ...  ...      ...       ...   \n",
      "1995        1996      0             0        0     0    0        0         0   \n",
      "1996        1997      1             0        1     1    1        1         1   \n",
      "1997        1998      0             0        0     0    1        0         0   \n",
      "1998        1999      0             1        0     1    1        0         1   \n",
      "1999        2000      0             0        0     0    0        0         0   \n",
      "\n",
      "      trust  negative  positive  \n",
      "0         0         0         0  \n",
      "1         0         0         0  \n",
      "2         2         0         3  \n",
      "3         0         0         0  \n",
      "4         0         0         0  \n",
      "...     ...       ...       ...  \n",
      "1995      0         0         0  \n",
      "1996      0         1         2  \n",
      "1997      1         0         2  \n",
      "1998      1         0         1  \n",
      "1999      0         0         0  \n",
      "\n",
      "[2000 rows x 11 columns]\n"
     ]
    }
   ],
   "source": [
    "sf = pd.read_csv(r'C:\\Users\\loren\\Documents\\GitHub\\intro2ml_2021_final_project\\Data\\sentiment_by_sentence.csv')\n",
    "print(sf)"
   ]
  },
  {
   "cell_type": "code",
   "execution_count": 10,
   "id": "b6bbcdab-99e3-4df6-b791-07fb8e9a0c4b",
   "metadata": {},
   "outputs": [
    {
     "name": "stdout",
     "output_type": "stream",
     "text": [
      "[[ 85   0   0 ...   0   0   0]\n",
      " [160   0   0 ...   0   0   0]\n",
      " [126   0   0 ...   2   0   3]\n",
      " ...\n",
      " [ 27   0   0 ...   1   0   2]\n",
      " [ 29   0   0 ...   1   0   1]\n",
      " [ 57   0   1 ...   0   0   0]]\n"
     ]
    }
   ],
   "source": [
    "X = np.zeros((len(lunghezze),14),dtype=np.int32)\n",
    "for i in range(len(lunghezze)):\n",
    "    X[i][0]=lunghezze[i]\n",
    "    X[i][1]=nhash[i]\n",
    "    X[i][2]=numphoto[i]\n",
    "    X[i][3]=nvideo[i]\n",
    "    X[i][4]=sf[\"anger\"][i]\n",
    "    X[i][5]=sf[\"anticipation\"][i]\n",
    "    X[i][6]=sf[\"disgust\"][i]\n",
    "    X[i][7]=sf[\"fear\"][i]\n",
    "    X[i][8]=sf[\"joy\"][i]\n",
    "    X[i][9]=sf[\"sadness\"][i]\n",
    "    X[i][10]=sf[\"surprise\"][i]\n",
    "    X[i][11]=sf[\"trust\"][i]\n",
    "    X[i][12]=sf[\"negative\"][i]\n",
    "    X[i][13]=sf[\"positive\"][i]\n",
    "print(X)"
   ]
  },
  {
   "cell_type": "markdown",
   "id": "80c87c58-bac7-427c-a28b-166cb0ec0b60",
   "metadata": {},
   "source": [
    "######################################################################################################################################\n",
    "######################################################################################################################################\n",
    "######################################################################################################################################"
   ]
  },
  {
   "cell_type": "markdown",
   "id": "b9374b96-76b0-4da9-83c8-bfea573fd619",
   "metadata": {},
   "source": [
    "PROVA DELLA FUNZIONE CHE DIVIDE IN TEST E TRAIN PER UTILIZZARLA A RIPETIZIONE POI"
   ]
  },
  {
   "cell_type": "code",
   "execution_count": 11,
   "id": "013d9131-26e5-40a9-9223-f1b118837b62",
   "metadata": {},
   "outputs": [],
   "source": [
    "from sklearn.model_selection import train_test_split"
   ]
  },
  {
   "cell_type": "code",
   "execution_count": 15,
   "id": "cb4d7f7b-9563-4d8c-95a9-dd374bdcffb1",
   "metadata": {},
   "outputs": [],
   "source": [
    "y=popular.ravel()\n",
    "X_train,X_test,Y_train,Y_test=train_test_split(X, y, test_size=0.25, random_state=42)"
   ]
  },
  {
   "cell_type": "code",
   "execution_count": 14,
   "id": "2ad2a8dc-b7cd-47ec-a127-593fd7f51b0f",
   "metadata": {},
   "outputs": [],
   "source": [
    "from sklearn.ensemble import RandomForestClassifier\n",
    "from sklearn.datasets import make_regression"
   ]
  },
  {
   "cell_type": "code",
   "execution_count": 17,
   "id": "af006995-8bd8-4e5a-a6b7-057452a3c72a",
   "metadata": {},
   "outputs": [
    {
     "data": {
      "text/plain": [
       "RandomForestClassifier(max_depth=20, n_estimators=250, random_state=0)"
      ]
     },
     "execution_count": 17,
     "metadata": {},
     "output_type": "execute_result"
    }
   ],
   "source": [
    "regr = RandomForestClassifier(n_estimators=250,max_depth=20, random_state=0)\n",
    "regr.fit(X_train,Y_train)"
   ]
  },
  {
   "cell_type": "code",
   "execution_count": 19,
   "id": "71b8e4e8-c140-4fd6-a5ad-fd3ad437770d",
   "metadata": {},
   "outputs": [],
   "source": [
    "predpoints = np.zeros((len(X_test),1),dtype=np.int32)\n",
    "for i in range(len(X_test)):\n",
    "    predpoints[i] = regr.predict([[X_test[i][0],X_test[i][1],X_test[i][2],X_test[i][3],X_test[i][4],X_test[i][5],X_test[i][6],X_test[i][7],X_test[i][8],X_test[i][9],X_test[i][10],X_test[i][11],X_test[i][12],X_test[i][13]]])[0]"
   ]
  },
  {
   "cell_type": "code",
   "execution_count": 24,
   "id": "9bfc6cb8-82f3-46e3-b36f-e43bb51b3973",
   "metadata": {},
   "outputs": [],
   "source": [
    "def errs():\n",
    "    npop=0\n",
    "    for i in range(len(Y_test)):\n",
    "        if(Y_test[i]==1):\n",
    "            npop+=1\n",
    "    errori = np.zeros((len(X_test),1),dtype=np.int32)\n",
    "    count=0\n",
    "    for i in range(len(X_test)):\n",
    "        errori[i]=abs(Y_test[i]-predpoints[i])\n",
    "        if(errori[i]==1):\n",
    "            count+=1 \n",
    "    mpl.scatter(X_test[:,0],errori)\n",
    "    print(errori[0])\n",
    "    print(count)\n",
    "    print(count/len(X_test))\n",
    "    erroripop = np.zeros((len(X_test),1),dtype=np.int32)\n",
    "    count=0\n",
    "    for i in range(len(X_test)):\n",
    "        if(Y_test[i]==1):\n",
    "            erroripop[i]=abs(Y_test[i]-predpoints[i])+1\n",
    "            if(erroripop[i]==2):\n",
    "                count+=1\n",
    "    print(erroripop[0])\n",
    "    print(count)\n",
    "    print(count/npop)\n",
    "    mpl.scatter(X_test[:,0],erroripop)\n",
    "    errorinpop = np.zeros((len(X_test),1),dtype=np.int32)\n",
    "    count=0\n",
    "    for i in range(len(X_test)):\n",
    "        if(Y_test[i]==0):\n",
    "            errorinpop[i]=abs(Y_test[i]-predpoints[i])+1\n",
    "            if(errorinpop[i]==2):\n",
    "                count+=1\n",
    "    print(errorinpop[0])\n",
    "    print(count)\n",
    "    print(count/(len(Y_test)-npop))\n",
    "    mpl.scatter(X_test[:,0],errorinpop)"
   ]
  },
  {
   "cell_type": "code",
   "execution_count": 25,
   "id": "3b7b8029-ede3-4e4a-945f-0b91ef91ba17",
   "metadata": {},
   "outputs": [
    {
     "name": "stdout",
     "output_type": "stream",
     "text": [
      "[0]\n",
      "166\n",
      "0.332\n",
      "[1]\n",
      "78\n",
      "0.32098765432098764\n",
      "[0]\n",
      "88\n",
      "0.3424124513618677\n"
     ]
    },
    {
     "data": {
      "image/png": "[encoded data removed]",
      "text/plain": [
       "<Figure size 432x288 with 1 Axes>"
      ]
     },
     "metadata": {
      "needs_background": "light"
     },
     "output_type": "display_data"
    }
   ],
   "source": [
    "errs()"
   ]
  },
  {
   "cell_type": "markdown",
   "id": "1e655968-937a-4cde-8a15-dde3297635b7",
   "metadata": {},
   "source": [
    "##########################################################################################################################################"
   ]
  },
  {
   "cell_type": "markdown",
   "id": "7296e976-25df-43a5-82f6-aa926abc2880",
   "metadata": {},
   "source": [
    "PROVA RANDOM. NON E' UNA CROSSVALIDATION VERA E PROPRIA MA SI ITERA PIU' E PIU' VOLTE LA DIVISIONE PER VEDERE L'ERRORE MEDIO SUL CAMPIONE DI TEST"
   ]
  },
  {
   "cell_type": "code",
   "execution_count": 32,
   "id": "f367553f-9155-4f83-b003-e5cb9996fdc9",
   "metadata": {},
   "outputs": [],
   "source": [
    "N=100\n",
    "err=np.zeros((N,3))\n",
    "regr = RandomForestClassifier(n_estimators=250,max_depth=20, random_state=0)"
   ]
  },
  {
   "cell_type": "code",
   "execution_count": 33,
   "id": "c24df955-72ca-4d48-aa3d-0783c45b9ee7",
   "metadata": {},
   "outputs": [],
   "source": [
    "def errs(m):\n",
    "    npop=0\n",
    "    for i in range(len(Y_test)):\n",
    "        if(Y_test[i]==1):\n",
    "            npop+=1\n",
    "    errori = np.zeros((len(X_test),1),dtype=np.int32)\n",
    "    count=0\n",
    "    for i in range(len(X_test)):\n",
    "        errori[i]=abs(Y_test[i]-predpoints[i])\n",
    "        if(errori[i]==1):\n",
    "            count+=1 \n",
    "    err[m][0]=count/len(X_test)\n",
    "    erroripop = np.zeros((len(X_test),1),dtype=np.int32)\n",
    "    count=0\n",
    "    for i in range(len(X_test)):\n",
    "        if(Y_test[i]==1):\n",
    "            erroripop[i]=abs(Y_test[i]-predpoints[i])+1\n",
    "            if(erroripop[i]==2):\n",
    "                count+=1\n",
    "    err[m][1]=count/npop\n",
    "    errorinpop = np.zeros((len(X_test),1),dtype=np.int32)\n",
    "    count=0\n",
    "    for i in range(len(X_test)):\n",
    "        if(Y_test[i]==0):\n",
    "            errorinpop[i]=abs(Y_test[i]-predpoints[i])+1\n",
    "            if(errorinpop[i]==2):\n",
    "                count+=1\n",
    "    err[m][2]=count/(len(Y_test)-npop)"
   ]
  },
  {
   "cell_type": "code",
   "execution_count": 46,
   "id": "9c8fe544-42bd-489b-b6a0-b8e0af36485c",
   "metadata": {},
   "outputs": [],
   "source": [
    "for j in range(N):\n",
    "    X_train,X_test,Y_train,Y_test=train_test_split(X, y, test_size=0.1, random_state=j)\n",
    "    regr.fit(X_train,Y_train)\n",
    "    predpoints = np.zeros((len(X_test),1),dtype=np.int32)\n",
    "    for i in range(len(X_test)):\n",
    "        predpoints[i] = regr.predict([[X_test[i][0],X_test[i][1],X_test[i][2],X_test[i][3],X_test[i][4],X_test[i][5],X_test[i][6],X_test[i][7],X_test[i][8],X_test[i][9],X_test[i][10],X_test[i][11],X_test[i][12],X_test[i][13]]])[0]\n",
    "    errs(j)"
   ]
  },
  {
   "cell_type": "code",
   "execution_count": 47,
   "id": "539b723f-db7f-41db-a705-eac1b4ba5998",
   "metadata": {},
   "outputs": [
    {
     "name": "stdout",
     "output_type": "stream",
     "text": [
      "[[0.325      0.31683168 0.33333333]\n",
      " [0.455      0.49019608 0.41836735]\n",
      " [0.375      0.41818182 0.32222222]\n",
      " [0.295      0.27722772 0.31313131]\n",
      " [0.38       0.37894737 0.38095238]\n",
      " [0.34       0.37234043 0.31132075]\n",
      " [0.34       0.38888889 0.2826087 ]\n",
      " [0.4        0.42307692 0.375     ]\n",
      " [0.32       0.35714286 0.28431373]\n",
      " [0.345      0.37373737 0.31683168]\n",
      " [0.395      0.39805825 0.39175258]\n",
      " [0.325      0.34       0.31      ]\n",
      " [0.33       0.33684211 0.32380952]\n",
      " [0.39       0.38043478 0.39814815]\n",
      " [0.36       0.38834951 0.32989691]\n",
      " [0.37       0.44660194 0.28865979]\n",
      " [0.34       0.36734694 0.31372549]\n",
      " [0.405      0.42857143 0.38235294]\n",
      " [0.365      0.4040404  0.32673267]\n",
      " [0.395      0.42156863 0.36734694]\n",
      " [0.305      0.35789474 0.25714286]\n",
      " [0.37       0.34343434 0.3960396 ]\n",
      " [0.325      0.37113402 0.2815534 ]\n",
      " [0.38       0.36470588 0.39130435]\n",
      " [0.36       0.37142857 0.34736842]\n",
      " [0.305      0.36190476 0.24210526]\n",
      " [0.365      0.34       0.39      ]\n",
      " [0.365      0.43023256 0.31578947]\n",
      " [0.36       0.30188679 0.42553191]\n",
      " [0.33       0.28865979 0.36893204]\n",
      " [0.385      0.46551724 0.27380952]\n",
      " [0.295      0.33980583 0.24742268]\n",
      " [0.35       0.39622642 0.29787234]\n",
      " [0.305      0.31192661 0.2967033 ]\n",
      " [0.385      0.39130435 0.37962963]\n",
      " [0.34       0.35483871 0.3271028 ]\n",
      " [0.33       0.38297872 0.28301887]\n",
      " [0.365      0.3814433  0.34951456]\n",
      " [0.285      0.36       0.21      ]\n",
      " [0.365      0.36363636 0.36633663]\n",
      " [0.325      0.29059829 0.37349398]\n",
      " [0.335      0.31132075 0.36170213]\n",
      " [0.35       0.32673267 0.37373737]\n",
      " [0.34       0.36752137 0.30120482]\n",
      " [0.39       0.40566038 0.37234043]\n",
      " [0.365      0.43333333 0.30909091]\n",
      " [0.355      0.33333333 0.37272727]\n",
      " [0.295      0.32653061 0.26470588]\n",
      " [0.4        0.41284404 0.38461538]\n",
      " [0.385      0.44660194 0.31958763]\n",
      " [0.435      0.46464646 0.40594059]\n",
      " [0.37       0.39784946 0.34579439]\n",
      " [0.34       0.34653465 0.33333333]\n",
      " [0.31       0.37634409 0.25233645]\n",
      " [0.41       0.46315789 0.36190476]\n",
      " [0.325      0.38095238 0.26315789]\n",
      " [0.345      0.42574257 0.26262626]\n",
      " [0.37       0.37735849 0.36170213]\n",
      " [0.34       0.37234043 0.31132075]\n",
      " [0.345      0.28712871 0.4040404 ]\n",
      " [0.375      0.46728972 0.2688172 ]\n",
      " [0.31       0.29347826 0.32407407]\n",
      " [0.375      0.38297872 0.36792453]\n",
      " [0.365      0.33980583 0.39175258]\n",
      " [0.4        0.41935484 0.38317757]\n",
      " [0.325      0.33333333 0.31730769]\n",
      " [0.395      0.49438202 0.31531532]\n",
      " [0.295      0.26923077 0.32291667]\n",
      " [0.345      0.36263736 0.33027523]\n",
      " [0.37       0.42391304 0.32407407]\n",
      " [0.3        0.36734694 0.23529412]\n",
      " [0.31       0.37634409 0.25233645]\n",
      " [0.315      0.38235294 0.24489796]\n",
      " [0.305      0.31578947 0.2952381 ]\n",
      " [0.345      0.33980583 0.35051546]\n",
      " [0.355      0.3956044  0.32110092]\n",
      " [0.34       0.36538462 0.3125    ]\n",
      " [0.33       0.32673267 0.33333333]\n",
      " [0.36       0.41935484 0.30841121]\n",
      " [0.315      0.32110092 0.30769231]\n",
      " [0.345      0.37037037 0.31521739]\n",
      " [0.335      0.32       0.35      ]\n",
      " [0.345      0.38       0.31      ]\n",
      " [0.3        0.26666667 0.33684211]\n",
      " [0.37       0.37634409 0.36448598]\n",
      " [0.345      0.40776699 0.27835052]\n",
      " [0.335      0.36170213 0.31132075]\n",
      " [0.36       0.39449541 0.31868132]\n",
      " [0.33       0.45192308 0.19791667]\n",
      " [0.36       0.34343434 0.37623762]\n",
      " [0.37       0.4040404  0.33663366]\n",
      " [0.35       0.4        0.28888889]\n",
      " [0.325      0.24719101 0.38738739]\n",
      " [0.32       0.29473684 0.34285714]\n",
      " [0.385      0.39285714 0.375     ]\n",
      " [0.37       0.37864078 0.36082474]\n",
      " [0.34       0.36734694 0.31372549]\n",
      " [0.38       0.42574257 0.33333333]\n",
      " [0.355      0.37894737 0.33333333]\n",
      " [0.375      0.4        0.35      ]]\n"
     ]
    }
   ],
   "source": [
    "print(err)"
   ]
  },
  {
   "cell_type": "code",
   "execution_count": 48,
   "id": "d6151574-d3fe-4a70-ac9a-5151ac40b346",
   "metadata": {},
   "outputs": [],
   "source": [
    "import statistics as sts"
   ]
  },
  {
   "cell_type": "code",
   "execution_count": 49,
   "id": "1b8a6f29-3073-467e-b28f-90329c9b6516",
   "metadata": {},
   "outputs": [
    {
     "name": "stdout",
     "output_type": "stream",
     "text": [
      "0.35075\n",
      "0.3729230272966097\n",
      "0.32841038009918594\n"
     ]
    }
   ],
   "source": [
    "print(sts.mean(err[:,0]))\n",
    "print(sts.mean(err[:,1]))\n",
    "print(sts.mean(err[:,2]))"
   ]
  },
  {
   "cell_type": "markdown",
   "id": "398799e6-021a-48b1-b911-efd371aa1486",
   "metadata": {},
   "source": [
    "###############################################################################################################################################"
   ]
  },
  {
   "cell_type": "markdown",
   "id": "955606d9-1aa2-4b2e-b71b-da6765c345e0",
   "metadata": {},
   "source": [
    "PROVIAMO AD UTILIZZARE ORA UNA CV-SCORE PER STIMARE L'ACCURACY"
   ]
  },
  {
   "cell_type": "code",
   "execution_count": 50,
   "id": "aea50585-293c-4f1e-b0a2-5f03c259a0a2",
   "metadata": {},
   "outputs": [],
   "source": [
    "from sklearn.model_selection import cross_val_score"
   ]
  },
  {
   "cell_type": "code",
   "execution_count": 59,
   "id": "ba58184d-ecb3-4f05-90e8-c250dfda2d8a",
   "metadata": {},
   "outputs": [],
   "source": [
    "scores = cross_val_score(regr, X, y, cv=100)"
   ]
  },
  {
   "cell_type": "code",
   "execution_count": 60,
   "id": "ea37a883-df13-403a-94bf-fcb01efdc486",
   "metadata": {},
   "outputs": [
    {
     "data": {
      "text/plain": [
       "array([0.6 , 0.5 , 0.6 , 0.6 , 0.55, 0.25, 0.5 , 0.5 , 0.4 , 0.6 , 0.45,\n",
       "       0.7 , 0.5 , 0.4 , 0.8 , 0.7 , 0.7 , 0.75, 0.4 , 0.55, 0.7 , 0.6 ,\n",
       "       0.7 , 0.6 , 0.65, 0.65, 0.75, 0.55, 0.7 , 0.85, 0.6 , 0.8 , 0.65,\n",
       "       0.6 , 0.65, 0.75, 0.7 , 0.6 , 0.8 , 0.65, 0.55, 0.5 , 0.75, 0.75,\n",
       "       0.75, 0.7 , 0.65, 0.75, 0.65, 0.85, 0.6 , 0.65, 0.95, 0.65, 0.7 ,\n",
       "       0.65, 0.5 , 0.6 , 0.6 , 0.85, 0.65, 0.6 , 0.6 , 0.85, 0.5 , 0.85,\n",
       "       0.7 , 0.7 , 0.65, 0.7 , 0.9 , 0.7 , 0.9 , 0.6 , 0.85, 0.8 , 0.65,\n",
       "       0.9 , 0.6 , 0.85, 0.75, 0.65, 0.4 , 0.7 , 0.45, 0.8 , 0.65, 0.5 ,\n",
       "       0.6 , 0.75, 0.6 , 0.6 , 0.55, 0.55, 0.7 , 0.65, 0.55, 0.65, 0.5 ,\n",
       "       0.7 ])"
      ]
     },
     "execution_count": 60,
     "metadata": {},
     "output_type": "execute_result"
    }
   ],
   "source": [
    "scores"
   ]
  },
  {
   "cell_type": "code",
   "execution_count": 61,
   "id": "267cd248-96d8-4409-a614-564235cd7e1b",
   "metadata": {},
   "outputs": [
    {
     "name": "stdout",
     "output_type": "stream",
     "text": [
      "0.6510000000000001\n",
      "0.1268818347912734\n"
     ]
    }
   ],
   "source": [
    "print(scores.mean())\n",
    "print(scores.std())"
   ]
  },
  {
   "cell_type": "markdown",
   "id": "7c6e4320-a7d8-4902-b531-5e4cb337731e",
   "metadata": {},
   "source": [
    "SI NOTI COME OUT-OF-SAMPLE IL MECCANISMO DI PREVISIONE RISULTA ESSERE SENSIBILMENTE PEGGIORE CHE IN SAMPLE CON UNA MEDIA DELL'ACCURACY INTORNO AL 65% CHE E' POCO MENO DI DUE VOLTE SU TRE. ALTRIMENTI DETTO QUESTO E' POCO MENO EQUIVALENTE A TIRARE UN DADO E DIRE CHE E' POPOLARE SE FA 5 O 6. E' DUNQUE INTERESSANTE VEDERE SE LE COSE CAMBIANO CON UN CAMPIONE PIU' GRANDE"
   ]
  },
  {
   "cell_type": "markdown",
   "id": "a9d27c74-9afb-42d4-8d84-dbf2569794cb",
   "metadata": {},
   "source": [
    "#####################################################################################################################################\n",
    "#####################################################################################################################################\n",
    "#####################################################################################################################################"
   ]
  },
  {
   "cell_type": "code",
   "execution_count": 1,
   "id": "46ac7fbd-057b-45c2-a8cb-7a170b95f4e0",
   "metadata": {},
   "outputs": [
    {
     "name": "stdout",
     "output_type": "stream",
     "text": [
      "       weekday  hour  tweet_length  mentions_count  urls_count  photos_count  \\\n",
      "0       Monday    23            85               2           2             2   \n",
      "1       Monday    22           160             156          63             2   \n",
      "2       Monday    21           126               2           2             2   \n",
      "3       Monday    20            47               2           2             2   \n",
      "4       Monday    19            30               2           2             2   \n",
      "...        ...   ...           ...             ...         ...           ...   \n",
      "1995  Saturday     6            55               2           2            51   \n",
      "1996    Friday    14           140               2           2             2   \n",
      "1997    Friday    11            27               2           2             2   \n",
      "1998  Thursday    15            29               2           2             2   \n",
      "1999  Thursday    13            57               2           2            51   \n",
      "\n",
      "      hashtags_count  quote_url_count  video_count  retweets_count  anger  \\\n",
      "0                  2              NaN            0               0      0   \n",
      "1                  2              NaN            0               0      0   \n",
      "2                  2              NaN            0               0      0   \n",
      "3                  2              NaN            0               0      0   \n",
      "4                  2              NaN            0               0      0   \n",
      "...              ...              ...          ...             ...    ...   \n",
      "1995               2              NaN            1               1      0   \n",
      "1996               2              NaN            0               1      1   \n",
      "1997               2              NaN            0               1      0   \n",
      "1998               2              NaN            0               1      0   \n",
      "1999               2              NaN            1               1      0   \n",
      "\n",
      "      anticipation  disgust  fear  joy  sadness  surprise  trust  negative  \\\n",
      "0                2        0     0    0        0         0      0         0   \n",
      "1                0        0     0    0        0         0      0         0   \n",
      "2                2        0     0    3        0         2      2         0   \n",
      "3                0        0     0    0        0         0      0         0   \n",
      "4                0        0     0    0        0         0      0         0   \n",
      "...            ...      ...   ...  ...      ...       ...    ...       ...   \n",
      "1995             0        0     0    0        0         0      0         0   \n",
      "1996             0        1     1    1        1         1      0         1   \n",
      "1997             0        0     0    1        0         0      1         0   \n",
      "1998             1        0     1    1        0         1      1         0   \n",
      "1999             0        0     0    0        0         0      0         0   \n",
      "\n",
      "      positive  \n",
      "0            0  \n",
      "1            0  \n",
      "2            3  \n",
      "3            0  \n",
      "4            0  \n",
      "...        ...  \n",
      "1995         0  \n",
      "1996         2  \n",
      "1997         2  \n",
      "1998         1  \n",
      "1999         0  \n",
      "\n",
      "[2000 rows x 20 columns]\n"
     ]
    }
   ],
   "source": [
    "import matplotlib.pyplot as mpl\n",
    "import numpy as np\n",
    "import pandas as pd\n",
    "df = pd.read_csv(r'C:\\Users\\loren\\Documents\\GitHub\\intro2ml_2021_final_project\\Data\\2k_sample_processed.csv')\n",
    "print(df)"
   ]
  },
  {
   "cell_type": "code",
   "execution_count": 2,
   "id": "0d3cd6ec-101d-4fac-98d4-aa998a6f702d",
   "metadata": {},
   "outputs": [],
   "source": [
    "y = df[\"retweets_count\"]"
   ]
  },
  {
   "cell_type": "code",
   "execution_count": 3,
   "id": "b7f57101-3a07-42b5-b78a-190b2a50aad8",
   "metadata": {},
   "outputs": [],
   "source": [
    "def switch(day):\n",
    "    if(day==\"Monday\"):\n",
    "        return 1\n",
    "    if(day==\"Tuesday\"):\n",
    "        return 2\n",
    "    if(day==\"Wednesday\"):\n",
    "        return 3\n",
    "    if(day==\"Thursday\"):\n",
    "        return 4\n",
    "    if(day==\"Friday\"):\n",
    "        return 5\n",
    "    if(day==\"Saturday\"):\n",
    "        return 6\n",
    "    if(day==\"Sunday\"):\n",
    "        return 7\n",
    "    else:\n",
    "        print(\"ERRORE\")"
   ]
  },
  {
   "cell_type": "code",
   "execution_count": 4,
   "id": "bce86488-b305-4847-8a73-3328cb956b6e",
   "metadata": {},
   "outputs": [],
   "source": [
    "days=np.zeros((len(y),1),dtype=np.int32)\n",
    "for i in range(len(days)):\n",
    "    days[i]=switch(df[\"weekday\"][i])"
   ]
  },
  {
   "cell_type": "code",
   "execution_count": 5,
   "id": "258bd1e5-02e0-4d3c-94a3-b6f1dede8e8b",
   "metadata": {},
   "outputs": [],
   "source": [
    "X=np.zeros((len(y),18),dtype=np.int32)\n",
    "for i in range(len(X)):\n",
    "    X[i][0]=df[\"tweet_length\"][i]\n",
    "    X[i][1]=df[\"hour\"][i]\n",
    "    X[i][2]=days[i]\n",
    "    X[i][3]=df[\"mentions_count\"][i]\n",
    "    X[i][4]=df[\"urls_count\"][i]\n",
    "    X[i][5]=df[\"photos_count\"][i]\n",
    "    X[i][6]=df[\"hashtags_count\"][i]\n",
    "    X[i][7]=df[\"video_count\"][i]\n",
    "    X[i][8]=df[\"anger\"][i]\n",
    "    X[i][9]=df[\"anticipation\"][i]\n",
    "    X[i][10]=df[\"disgust\"][i]\n",
    "    X[i][11]=df[\"fear\"][i]\n",
    "    X[i][12]=df[\"joy\"][i]\n",
    "    X[i][13]=df[\"sadness\"][i]\n",
    "    X[i][14]=df[\"surprise\"][i]\n",
    "    X[i][15]=df[\"trust\"][i]\n",
    "    X[i][16]=df[\"positive\"][i]\n",
    "    X[i][17]=df[\"negative\"][i]"
   ]
  },
  {
   "cell_type": "code",
   "execution_count": 7,
   "id": "424fc678-66b2-418c-acae-7fded20a8884",
   "metadata": {},
   "outputs": [],
   "source": [
    "from sklearn.ensemble import RandomForestClassifier\n",
    "regr = RandomForestClassifier(n_estimators=250,max_depth=20, random_state=0)"
   ]
  },
  {
   "cell_type": "code",
   "execution_count": 8,
   "id": "33bc1b0e-cb89-41af-99f4-d9ab40473c64",
   "metadata": {},
   "outputs": [],
   "source": [
    "from sklearn.model_selection import cross_val_score"
   ]
  },
  {
   "cell_type": "code",
   "execution_count": 9,
   "id": "7f975995-b90b-462e-a338-ac33f93b29fe",
   "metadata": {},
   "outputs": [],
   "source": [
    "scores = cross_val_score(regr, X, y, cv=100)"
   ]
  },
  {
   "cell_type": "code",
   "execution_count": 10,
   "id": "ea36a187-0e11-4304-ad60-45c6eb2134cc",
   "metadata": {},
   "outputs": [
    {
     "name": "stdout",
     "output_type": "stream",
     "text": [
      "0.7075\n",
      "0.16528384676065594\n"
     ]
    }
   ],
   "source": [
    "print(scores.mean())\n",
    "print(scores.std())"
   ]
  }
 ],
 "metadata": {
  "kernelspec": {
   "display_name": "Python 3 (ipykernel)",
   "language": "python",
   "name": "python3"
  },
  "language_info": {
   "codemirror_mode": {
    "name": "ipython",
    "version": 3
   },
   "file_extension": ".py",
   "mimetype": "text/x-python",
   "name": "python",
   "nbconvert_exporter": "python",
   "pygments_lexer": "ipython3",
   "version": "3.9.7"
  }
 },
 "nbformat": 4,
 "nbformat_minor": 5
}
