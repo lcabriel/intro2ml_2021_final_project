{
 "cells": [
  {
   "cell_type": "code",
   "execution_count": 1,
   "id": "7682cf75-9c52-4a1f-b1b7-db1e545d2233",
   "metadata": {},
   "outputs": [
    {
     "name": "stdout",
     "output_type": "stream",
     "text": [
      "                       id language  retweet        date      time  \\\n",
      "0     1485744412172950000       en    False  24/01/2022  23:40:46   \n",
      "1     1485721208616270000       en    False  24/01/2022  22:08:34   \n",
      "2     1485712796457340000       en    False  24/01/2022  21:35:08   \n",
      "3     1485696815081160000       en    False  24/01/2022  20:31:38   \n",
      "4     1485676215142920000       en    False  24/01/2022  19:09:46   \n",
      "...                   ...      ...      ...         ...       ...   \n",
      "1995   576616860638158000       en    False  14/03/2015  06:32:27   \n",
      "1996   576378534635155000       en    False  13/03/2015  14:45:25   \n",
      "1997   576323800913997000       en    False  13/03/2015  11:07:56   \n",
      "1998   576027220013031000       en    False  12/03/2015  15:29:25   \n",
      "1999   576003023455068000       en    False  12/03/2015  13:53:17   \n",
      "\n",
      "                                                  tweet  \\\n",
      "0     just sliced an acorn squash and it wasnt even ...   \n",
      "1     Acorn squash, lacinato kale, parsnip and duck ...   \n",
      "2     @SmrtAleks Sounds great Aleks. I love sweet po...   \n",
      "3       and i’m gonna roast an acorn squash to go w it!   \n",
      "4                        Stuffed acorn squash tonight 🥰   \n",
      "...                                                 ...   \n",
      "1995  Bacon Burgers and Cheese Fries.  http://t.co/X...   \n",
      "1996  Friday the 13th might be an unlucky day, but w...   \n",
      "1997                        I prefer your love to bacon   \n",
      "1998                      Is it possible to marry bacon   \n",
      "1999  Bacon Burgers and Cheese Fries. ^  http://t.co...   \n",
      "\n",
      "                                               mentions  \\\n",
      "0                                                    []   \n",
      "1     [{'screen_name': 'farmfreshtoyou', 'name': 'fa...   \n",
      "2                                                    []   \n",
      "3                                                    []   \n",
      "4                                                    []   \n",
      "...                                                 ...   \n",
      "1995                                                 []   \n",
      "1996                                                 []   \n",
      "1997                                                 []   \n",
      "1998                                                 []   \n",
      "1999                                                 []   \n",
      "\n",
      "                                                   urls  \\\n",
      "0                                                    []   \n",
      "1     ['https://www.instagram.com/p/CZIJpF8vpWl/?utm...   \n",
      "2                                                    []   \n",
      "3                                                    []   \n",
      "4                                                    []   \n",
      "...                                                 ...   \n",
      "1995                                                 []   \n",
      "1996                                                 []   \n",
      "1997                                                 []   \n",
      "1998                                                 []   \n",
      "1999                                                 []   \n",
      "\n",
      "                                                 photos hashtags quote_url  \\\n",
      "0                                                    []       []       NaN   \n",
      "1                                                    []       []       NaN   \n",
      "2                                                    []       []       NaN   \n",
      "3                                                    []       []       NaN   \n",
      "4                                                    []       []       NaN   \n",
      "...                                                 ...      ...       ...   \n",
      "1995  ['https://pbs.twimg.com/media/CACN-soWMAABWO0....       []       NaN   \n",
      "1996                                                 []       []       NaN   \n",
      "1997                                                 []       []       NaN   \n",
      "1998                                                 []       []       NaN   \n",
      "1999  ['https://pbs.twimg.com/media/Bz2LzKuIEAEEO69....       []       NaN   \n",
      "\n",
      "      video  replies_count  likes_count  retweets_count  \n",
      "0         0              0            5               0  \n",
      "1         0              1            1               0  \n",
      "2         0              1            1               0  \n",
      "3         0              0            2               0  \n",
      "4         0              0            0               0  \n",
      "...     ...            ...          ...             ...  \n",
      "1995      1             94         2166            2765  \n",
      "1996      0             14         2796            1773  \n",
      "1997      0            292         5009            3194  \n",
      "1998      0            401         3219            1290  \n",
      "1999      1            109         2517            3268  \n",
      "\n",
      "[2000 rows x 15 columns]\n"
     ]
    }
   ],
   "source": [
    "import matplotlib.pyplot as mpl\n",
    "import numpy as np\n",
    "import pandas as pd\n",
    "df = pd.read_csv(r'C:\\Users\\loren\\Documents\\GitHub\\intro2ml_2021_final_project\\Data\\dataset_2k.csv')\n",
    "print(df)"
   ]
  },
  {
   "cell_type": "code",
   "execution_count": 2,
   "id": "327b85e1-0a64-4813-991b-cb9146bfa2b0",
   "metadata": {},
   "outputs": [],
   "source": [
    "texts = df[\"tweet\"]\n",
    "lunghezze = [0 for x in texts]\n",
    "for i in range(len(texts)):\n",
    "    lunghezze[i]=len(texts[i])"
   ]
  },
  {
   "cell_type": "code",
   "execution_count": 3,
   "id": "03022c94-c6ee-47cb-b7fa-3e2fcefa4c51",
   "metadata": {},
   "outputs": [
    {
     "data": {
      "text/plain": [
       "(array([ 12.,  37.,  46.,  79., 111.,  98., 112.,  86.,  88., 100.,  91.,\n",
       "         99.,  95., 106.,  46.,  58.,  56.,  43.,  54.,  39.,  37.,  45.,\n",
       "         37.,  75.,  69.,  66.,  87.,  30.,  84.,  14.]),\n",
       " array([  4.        ,  14.43333333,  24.86666667,  35.3       ,\n",
       "         45.73333333,  56.16666667,  66.6       ,  77.03333333,\n",
       "         87.46666667,  97.9       , 108.33333333, 118.76666667,\n",
       "        129.2       , 139.63333333, 150.06666667, 160.5       ,\n",
       "        170.93333333, 181.36666667, 191.8       , 202.23333333,\n",
       "        212.66666667, 223.1       , 233.53333333, 243.96666667,\n",
       "        254.4       , 264.83333333, 275.26666667, 285.7       ,\n",
       "        296.13333333, 306.56666667, 317.        ]),\n",
       " <BarContainer object of 30 artists>)"
      ]
     },
     "execution_count": 3,
     "metadata": {},
     "output_type": "execute_result"
    },
    {
     "data": {
      "image/png": "[encoded data removed]",
      "text/plain": [
       "<Figure size 432x288 with 1 Axes>"
      ]
     },
     "metadata": {
      "needs_background": "light"
     },
     "output_type": "display_data"
    }
   ],
   "source": [
    "n_bins=30\n",
    "fig, axs = mpl.subplots(1, 1, sharey=True, tight_layout=True)\n",
    "axs.hist(lunghezze, bins=n_bins)"
   ]
  },
  {
   "cell_type": "code",
   "execution_count": 4,
   "id": "d8a73397-6008-4064-8373-80cec654543a",
   "metadata": {},
   "outputs": [],
   "source": [
    "rt = df[\"retweets_count\"]\n",
    "retweets = [np.int64(0) for x in rt]\n",
    "for i in range(len(rt)):\n",
    "    retweets[i] = rt[i]"
   ]
  },
  {
   "cell_type": "code",
   "execution_count": 5,
   "id": "1496f9f1-6e18-4ea9-bdc9-6e4782a8c699",
   "metadata": {},
   "outputs": [
    {
     "data": {
      "text/plain": [
       "(array([1.89e+03, 5.70e+01, 2.40e+01, 1.40e+01, 6.00e+00, 4.00e+00,\n",
       "        0.00e+00, 0.00e+00, 1.00e+00, 1.00e+00, 0.00e+00, 1.00e+00,\n",
       "        0.00e+00, 0.00e+00, 0.00e+00, 1.00e+00, 0.00e+00, 0.00e+00,\n",
       "        0.00e+00, 0.00e+00, 0.00e+00, 0.00e+00, 0.00e+00, 0.00e+00,\n",
       "        0.00e+00, 0.00e+00, 0.00e+00, 0.00e+00, 0.00e+00, 1.00e+00]),\n",
       " array([     0.        ,  10750.26666667,  21500.53333333,  32250.8       ,\n",
       "         43001.06666667,  53751.33333333,  64501.6       ,  75251.86666667,\n",
       "         86002.13333333,  96752.4       , 107502.66666667, 118252.93333333,\n",
       "        129003.2       , 139753.46666667, 150503.73333333, 161254.        ,\n",
       "        172004.26666667, 182754.53333333, 193504.8       , 204255.06666667,\n",
       "        215005.33333333, 225755.6       , 236505.86666667, 247256.13333333,\n",
       "        258006.4       , 268756.66666667, 279506.93333333, 290257.2       ,\n",
       "        301007.46666667, 311757.73333333, 322508.        ]),\n",
       " <BarContainer object of 30 artists>)"
      ]
     },
     "execution_count": 5,
     "metadata": {},
     "output_type": "execute_result"
    },
    {
     "data": {
      "image/png": "[encoded data removed]",
      "text/plain": [
       "<Figure size 432x288 with 1 Axes>"
      ]
     },
     "metadata": {
      "needs_background": "light"
     },
     "output_type": "display_data"
    }
   ],
   "source": [
    "n_bins=30\n",
    "fig, axs = mpl.subplots(1, 1, sharey=True, tight_layout=True)\n",
    "axs.hist(retweets, bins=n_bins)"
   ]
  },
  {
   "cell_type": "code",
   "execution_count": 6,
   "id": "c4b43e49-22a9-4a8a-a683-5ea5703399f1",
   "metadata": {},
   "outputs": [
    {
     "data": {
      "text/plain": [
       "<matplotlib.collections.PathCollection at 0x278dabc2130>"
      ]
     },
     "execution_count": 6,
     "metadata": {},
     "output_type": "execute_result"
    },
    {
     "data": {
      "image/png": "[encoded data removed]",
      "text/plain": [
       "<Figure size 432x288 with 1 Axes>"
      ]
     },
     "metadata": {
      "needs_background": "light"
     },
     "output_type": "display_data"
    }
   ],
   "source": [
    "mpl.scatter(lunghezze,retweets)"
   ]
  },
  {
   "cell_type": "code",
   "execution_count": 7,
   "id": "74dd77f4-e1c3-4b17-b284-908559a22655",
   "metadata": {},
   "outputs": [
    {
     "name": "stdout",
     "output_type": "stream",
     "text": [
      "[[0]\n",
      " [0]\n",
      " [0]\n",
      " ...\n",
      " [1]\n",
      " [1]\n",
      " [1]]\n"
     ]
    },
    {
     "data": {
      "text/plain": [
       "numpy.ndarray"
      ]
     },
     "execution_count": 7,
     "metadata": {},
     "output_type": "execute_result"
    }
   ],
   "source": [
    "popular = np.zeros((len(lunghezze),1),dtype=np.int32)\n",
    "for i in range(len(lunghezze)):\n",
    "    if retweets[i]>=1000:\n",
    "        popular[i]=1\n",
    "print(popular)\n",
    "type(popular)"
   ]
  },
  {
   "cell_type": "code",
   "execution_count": 8,
   "id": "97a2984d-e2ac-4c14-8c90-ff895f4a1f48",
   "metadata": {},
   "outputs": [
    {
     "data": {
      "text/plain": [
       "<matplotlib.collections.PathCollection at 0x278de4bef70>"
      ]
     },
     "execution_count": 8,
     "metadata": {},
     "output_type": "execute_result"
    },
    {
     "data": {
      "image/png": "[encoded data removed]",
      "text/plain": [
       "<Figure size 432x288 with 1 Axes>"
      ]
     },
     "metadata": {
      "needs_background": "light"
     },
     "output_type": "display_data"
    }
   ],
   "source": [
    "mpl.scatter(lunghezze,popular)"
   ]
  },
  {
   "cell_type": "code",
   "execution_count": 9,
   "id": "50fddc22-baee-46eb-afad-f40d1b0c79a1",
   "metadata": {},
   "outputs": [],
   "source": [
    "from sklearn.ensemble import RandomForestClassifier\n",
    "from sklearn.datasets import make_regression"
   ]
  },
  {
   "cell_type": "code",
   "execution_count": 10,
   "id": "ca8e817d-8d82-4143-b63a-c2ff51253e6e",
   "metadata": {},
   "outputs": [],
   "source": [
    "lung2D = np.zeros((len(lunghezze),2),dtype=np.int32)\n",
    "for i in range(len(lunghezze)):\n",
    "    lung2D[i][0]=lunghezze[i]"
   ]
  },
  {
   "cell_type": "code",
   "execution_count": 11,
   "id": "7d6d3625-1c47-4cda-9d56-b36d8dfbd417",
   "metadata": {},
   "outputs": [
    {
     "name": "stdout",
     "output_type": "stream",
     "text": [
      "4\n",
      "317\n",
      "0\n",
      "322508\n"
     ]
    },
    {
     "data": {
      "text/plain": [
       "RandomForestClassifier(max_depth=20, n_estimators=1000, random_state=0)"
      ]
     },
     "execution_count": 11,
     "metadata": {},
     "output_type": "execute_result"
    }
   ],
   "source": [
    "print(min(lunghezze))\n",
    "print(max(lunghezze))\n",
    "print(min(retweets))\n",
    "print(max(retweets))\n",
    "\n",
    "regr = RandomForestClassifier(n_estimators=1000,max_depth=20, random_state=0)\n",
    "regr.fit(lung2D,popular.ravel())"
   ]
  },
  {
   "cell_type": "code",
   "execution_count": 12,
   "id": "382f5c0b-a7dc-4931-8092-2af603824000",
   "metadata": {},
   "outputs": [
    {
     "data": {
      "text/plain": [
       "1"
      ]
     },
     "execution_count": 12,
     "metadata": {},
     "output_type": "execute_result"
    }
   ],
   "source": [
    "regr.predict([[70,0]])[0]"
   ]
  },
  {
   "cell_type": "code",
   "execution_count": 13,
   "id": "2acd0d62-b1c7-4e6d-8ae7-f5375fd7beed",
   "metadata": {},
   "outputs": [
    {
     "data": {
      "text/plain": [
       "<matplotlib.collections.PathCollection at 0x278e2f4de20>"
      ]
     },
     "execution_count": 13,
     "metadata": {},
     "output_type": "execute_result"
    },
    {
     "data": {
      "image/png": "[encoded data removed]",
      "text/plain": [
       "<Figure size 432x288 with 1 Axes>"
      ]
     },
     "metadata": {
      "needs_background": "light"
     },
     "output_type": "display_data"
    }
   ],
   "source": [
    "predpoints = np.zeros((len(lunghezze),1),dtype=np.int32)\n",
    "for i in range(len(lunghezze)):\n",
    "    predpoints[i] = regr.predict([[lunghezze[i],0]])[0]\n",
    "mpl.scatter(lunghezze,predpoints)"
   ]
  },
  {
   "cell_type": "code",
   "execution_count": 14,
   "id": "79bc90d0-9afa-4b96-87ef-4f958db5231b",
   "metadata": {},
   "outputs": [
    {
     "name": "stdout",
     "output_type": "stream",
     "text": [
      "[0]\n",
      "622\n",
      "0.311\n"
     ]
    },
    {
     "data": {
      "image/png": "[encoded data removed]",
      "text/plain": [
       "<Figure size 432x288 with 1 Axes>"
      ]
     },
     "metadata": {
      "needs_background": "light"
     },
     "output_type": "display_data"
    }
   ],
   "source": [
    "errori = np.zeros((len(lunghezze),1),dtype=np.int32)\n",
    "count=0\n",
    "for i in range(len(lunghezze)):\n",
    "    errori[i]=abs(popular[i]-predpoints[i])\n",
    "    if(errori[i]==1):\n",
    "        count+=1 \n",
    "mpl.scatter(lunghezze,errori)\n",
    "print(errori[0])\n",
    "print(count)\n",
    "print(count/len(lunghezze))"
   ]
  },
  {
   "cell_type": "code",
   "execution_count": 15,
   "id": "e4a868d9-a938-4de5-b413-6e25b57cd584",
   "metadata": {},
   "outputs": [
    {
     "name": "stdout",
     "output_type": "stream",
     "text": [
      "[0]\n",
      "292\n",
      "0.292\n"
     ]
    },
    {
     "data": {
      "text/plain": [
       "<matplotlib.collections.PathCollection at 0x278e3ff17f0>"
      ]
     },
     "execution_count": 15,
     "metadata": {},
     "output_type": "execute_result"
    },
    {
     "data": {
      "image/png": "[encoded data removed]",
      "text/plain": [
       "<Figure size 432x288 with 1 Axes>"
      ]
     },
     "metadata": {
      "needs_background": "light"
     },
     "output_type": "display_data"
    }
   ],
   "source": [
    "erroripop = np.zeros((len(lunghezze),1),dtype=np.int32)\n",
    "count=0\n",
    "for i in range(len(lunghezze)):\n",
    "    if(popular[i]==1):\n",
    "        erroripop[i]=abs(popular[i]-predpoints[i])+1\n",
    "        if(erroripop[i]==2):\n",
    "            count+=1\n",
    "print(erroripop[0])\n",
    "print(count)\n",
    "print(count/1000)\n",
    "mpl.scatter(lunghezze,erroripop)"
   ]
  },
  {
   "cell_type": "code",
   "execution_count": 16,
   "id": "478eb9c8-925e-4c47-9a3e-2ce63af8e915",
   "metadata": {},
   "outputs": [
    {
     "name": "stdout",
     "output_type": "stream",
     "text": [
      "[1]\n",
      "330\n",
      "0.33\n"
     ]
    },
    {
     "data": {
      "text/plain": [
       "<matplotlib.collections.PathCollection at 0x278e3f9d940>"
      ]
     },
     "execution_count": 16,
     "metadata": {},
     "output_type": "execute_result"
    },
    {
     "data": {
      "image/png": "[encoded data removed]",
      "text/plain": [
       "<Figure size 432x288 with 1 Axes>"
      ]
     },
     "metadata": {
      "needs_background": "light"
     },
     "output_type": "display_data"
    }
   ],
   "source": [
    "errorinpop = np.zeros((len(lunghezze),1),dtype=np.int32)\n",
    "count=0\n",
    "for i in range(len(lunghezze)):\n",
    "    if(popular[i]==0):\n",
    "        errorinpop[i]=abs(popular[i]-predpoints[i])+1\n",
    "        if(errorinpop[i]==2):\n",
    "            count+=1\n",
    "print(errorinpop[0])\n",
    "print(count)\n",
    "print(count/1000)\n",
    "mpl.scatter(lunghezze,errorinpop)"
   ]
  },
  {
   "cell_type": "markdown",
   "id": "553b210e-758f-44e6-b730-cdaa4c748f09",
   "metadata": {},
   "source": [
    "##############################################################################################################################################################\n",
    "E' DUNQUE DA NOTARE CHE LA RANDOM FOREST  USANDO COME UNICO PREDITTORE LA LUNGHEZZA HA UN ERRORE DEL 30% C.A. NELLE PREDIZIONI CON UNA LEGGERISSIMA TENDENZA A FAVORIRE I FALSI NON POPOLARI RISPETTO A I FALSI POPOLARI. ALL'AUMENTARE DEL NUMERO DI ALBERI L'ERRORE INIZIA FLUTTUARE LOCALMENTE MA SEMPRE INTORNO AL 30% CON TALVOLTA\n",
    "MIGLIORAMENTI NEI FALSI POPOLARI O NEI FALSI NON POPOLARI.\n",
    "##############################################################################################################################################################"
   ]
  },
  {
   "cell_type": "code",
   "execution_count": 17,
   "id": "bef1e046-7f4b-4f7c-9c23-6679d0f9cc76",
   "metadata": {},
   "outputs": [],
   "source": [
    "photos = df[\"photos\"]"
   ]
  },
  {
   "cell_type": "code",
   "execution_count": 18,
   "id": "95ba4962-8d1a-41b7-9412-7ed9ea347ec7",
   "metadata": {},
   "outputs": [
    {
     "data": {
      "text/plain": [
       "'[]'"
      ]
     },
     "execution_count": 18,
     "metadata": {},
     "output_type": "execute_result"
    }
   ],
   "source": [
    "photos[0]"
   ]
  },
  {
   "cell_type": "code",
   "execution_count": 19,
   "id": "7c1da754-5857-4557-8310-cc805737f576",
   "metadata": {},
   "outputs": [],
   "source": [
    "numphoto = np.zeros((len(photos),1),dtype=np.int32)\n",
    "for i in range(len(photos)):\n",
    "    if(photos[i]!=photos[0]):\n",
    "        numphoto[i]=len(photos[i].split(','))"
   ]
  },
  {
   "cell_type": "code",
   "execution_count": 20,
   "id": "7414e4c3-942b-470a-8a0f-9a1f6ea3b86d",
   "metadata": {},
   "outputs": [
    {
     "name": "stdout",
     "output_type": "stream",
     "text": [
      "[[ 85   0]\n",
      " [160   0]\n",
      " [126   0]\n",
      " ...\n",
      " [ 27   0]\n",
      " [ 29   0]\n",
      " [ 57   1]]\n"
     ]
    }
   ],
   "source": [
    "X = np.zeros((len(lunghezze),2),dtype=np.int32)\n",
    "for i in range(len(lunghezze)):\n",
    "    X[i][0]=lunghezze[i]\n",
    "    X[i][1]=numphoto[i]\n",
    "print(X)"
   ]
  },
  {
   "cell_type": "code",
   "execution_count": 21,
   "id": "853a2815-a6ef-4dec-8bd1-f83669372edc",
   "metadata": {},
   "outputs": [
    {
     "data": {
      "text/plain": [
       "RandomForestClassifier(max_depth=20, n_estimators=500, random_state=0)"
      ]
     },
     "execution_count": 21,
     "metadata": {},
     "output_type": "execute_result"
    }
   ],
   "source": [
    "regr = RandomForestClassifier(n_estimators=500,max_depth=20, random_state=0)\n",
    "regr.fit(X,popular.ravel())"
   ]
  },
  {
   "cell_type": "code",
   "execution_count": 22,
   "id": "83d75e03-2e15-485c-a456-9dd124750766",
   "metadata": {},
   "outputs": [
    {
     "data": {
      "text/plain": [
       "1"
      ]
     },
     "execution_count": 22,
     "metadata": {},
     "output_type": "execute_result"
    }
   ],
   "source": [
    "regr.predict([[70,1]])[0]"
   ]
  },
  {
   "cell_type": "code",
   "execution_count": 23,
   "id": "a2b5de6a-e51c-4dd3-94a1-1a137462c1fc",
   "metadata": {},
   "outputs": [
    {
     "data": {
      "text/plain": [
       "<matplotlib.collections.PathCollection at 0x278e3f25b80>"
      ]
     },
     "execution_count": 23,
     "metadata": {},
     "output_type": "execute_result"
    },
    {
     "data": {
      "image/png": "[encoded data removed]",
      "text/plain": [
       "<Figure size 432x288 with 1 Axes>"
      ]
     },
     "metadata": {
      "needs_background": "light"
     },
     "output_type": "display_data"
    }
   ],
   "source": [
    "predpoints = np.zeros((len(lunghezze),1),dtype=np.int32)\n",
    "for i in range(len(lunghezze)):\n",
    "    predpoints[i] = regr.predict([[lunghezze[i],numphoto[i]]])[0]\n",
    "mpl.scatter(lunghezze,predpoints)"
   ]
  },
  {
   "cell_type": "code",
   "execution_count": 24,
   "id": "d9713f28-31db-4ca3-87be-0f92cdb3a3d5",
   "metadata": {},
   "outputs": [
    {
     "data": {
      "text/plain": [
       "<matplotlib.collections.PathCollection at 0x278e3f77b20>"
      ]
     },
     "execution_count": 24,
     "metadata": {},
     "output_type": "execute_result"
    },
    {
     "data": {
      "image/png": "[encoded data removed]",
      "text/plain": [
       "<Figure size 432x288 with 1 Axes>"
      ]
     },
     "metadata": {
      "needs_background": "light"
     },
     "output_type": "display_data"
    }
   ],
   "source": [
    "mpl.scatter(numphoto,predpoints)"
   ]
  },
  {
   "cell_type": "code",
   "execution_count": 25,
   "id": "856cc83b-1a55-4141-8fea-c18ba95919dd",
   "metadata": {},
   "outputs": [
    {
     "name": "stdout",
     "output_type": "stream",
     "text": [
      "[0]\n",
      "495\n",
      "0.2475\n"
     ]
    },
    {
     "data": {
      "image/png": "[encoded data removed]",
      "text/plain": [
       "<Figure size 432x288 with 1 Axes>"
      ]
     },
     "metadata": {
      "needs_background": "light"
     },
     "output_type": "display_data"
    }
   ],
   "source": [
    "errori = np.zeros((len(lunghezze),1),dtype=np.int32)\n",
    "count=0\n",
    "for i in range(len(lunghezze)):\n",
    "    errori[i]=abs(popular[i]-predpoints[i])\n",
    "    if(errori[i]==1):\n",
    "        count+=1 \n",
    "mpl.scatter(lunghezze,errori)\n",
    "print(errori[0])\n",
    "print(count)\n",
    "print(count/len(lunghezze))"
   ]
  },
  {
   "cell_type": "code",
   "execution_count": 26,
   "id": "5415f5db-36ea-426a-9e91-8be87e0f1a7f",
   "metadata": {},
   "outputs": [
    {
     "name": "stdout",
     "output_type": "stream",
     "text": [
      "[0]\n",
      "244\n",
      "0.244\n"
     ]
    },
    {
     "data": {
      "text/plain": [
       "<matplotlib.collections.PathCollection at 0x278e61a36d0>"
      ]
     },
     "execution_count": 26,
     "metadata": {},
     "output_type": "execute_result"
    },
    {
     "data": {
      "image/png": "[encoded data removed]",
      "text/plain": [
       "<Figure size 432x288 with 1 Axes>"
      ]
     },
     "metadata": {
      "needs_background": "light"
     },
     "output_type": "display_data"
    }
   ],
   "source": [
    "erroripop = np.zeros((len(lunghezze),1),dtype=np.int32)\n",
    "count=0\n",
    "for i in range(len(lunghezze)):\n",
    "    if(popular[i]==1):\n",
    "        erroripop[i]=abs(popular[i]-predpoints[i])+1\n",
    "        if(erroripop[i]==2):\n",
    "            count+=1\n",
    "print(erroripop[0])\n",
    "print(count)\n",
    "print(count/1000)\n",
    "mpl.scatter(lunghezze,erroripop)"
   ]
  },
  {
   "cell_type": "code",
   "execution_count": 27,
   "id": "77a2443d-0a84-4a24-beff-1a6449f1a612",
   "metadata": {},
   "outputs": [
    {
     "name": "stdout",
     "output_type": "stream",
     "text": [
      "[1]\n",
      "251\n",
      "0.251\n"
     ]
    },
    {
     "data": {
      "text/plain": [
       "<matplotlib.collections.PathCollection at 0x278e5111f70>"
      ]
     },
     "execution_count": 27,
     "metadata": {},
     "output_type": "execute_result"
    },
    {
     "data": {
      "image/png": "[encoded data removed]",
      "text/plain": [
       "<Figure size 432x288 with 1 Axes>"
      ]
     },
     "metadata": {
      "needs_background": "light"
     },
     "output_type": "display_data"
    }
   ],
   "source": [
    "errorinpop = np.zeros((len(lunghezze),1),dtype=np.int32)\n",
    "count=0\n",
    "for i in range(len(lunghezze)):\n",
    "    if(popular[i]==0):\n",
    "        errorinpop[i]=abs(popular[i]-predpoints[i])+1\n",
    "        if(errorinpop[i]==2):\n",
    "            count+=1\n",
    "print(errorinpop[0])\n",
    "print(count)\n",
    "print(count/1000)\n",
    "mpl.scatter(lunghezze,errorinpop)"
   ]
  },
  {
   "cell_type": "markdown",
   "id": "963a2dea-82e2-472d-b531-03e9f5a7d8da",
   "metadata": {},
   "source": [
    "######################################################################################################################################################\n",
    "IMPLEMENTANDO ANCHE IL NUMERO DI FOTO IL RISULTATO SEMBRA MIGLIORARE CON UN ERRORE DEL 25% CIRCA. ANCHE QUI I FALSI POPOLARI E I FALSI NON POPOLARI\n",
    "COINCIDONO CIRCA IN NUMERO. DI NUOVO AL DI SOPRA DEI 250 PREDITTORI NON SEMBRANO ESSERCI GRANDI CAMBIAMENTI.\n",
    "######################################################################################################################################################"
   ]
  },
  {
   "cell_type": "code",
   "execution_count": 28,
   "id": "f991893e-c0e1-4409-9a8e-4c8f17c6863c",
   "metadata": {},
   "outputs": [],
   "source": [
    "ht = df[\"hashtags\"]"
   ]
  },
  {
   "cell_type": "code",
   "execution_count": 29,
   "id": "3e42b71b-2202-46ed-9a90-53521df9310c",
   "metadata": {},
   "outputs": [
    {
     "name": "stdout",
     "output_type": "stream",
     "text": [
      "[[0]\n",
      " [0]\n",
      " [0]\n",
      " ...\n",
      " [0]\n",
      " [0]\n",
      " [0]]\n"
     ]
    }
   ],
   "source": [
    "nhash = np.zeros((len(ht),1),dtype=np.int32)\n",
    "for i in range(len(ht)):\n",
    "    if(ht[i]!=ht[0]):\n",
    "        nhash[i]=len(ht[i].split(','))\n",
    "print(nhash)"
   ]
  },
  {
   "cell_type": "markdown",
   "id": "b9c0362d-2fe1-422f-b2d7-e397f3fe6a44",
   "metadata": {},
   "source": [
    "################################### PROVA UTILIZZANDO SOLO HASHTAG E LUNGHEZZE ########################################################################"
   ]
  },
  {
   "cell_type": "code",
   "execution_count": 30,
   "id": "4aa54d2e-ae9f-4b23-886d-3cffeee2e928",
   "metadata": {},
   "outputs": [
    {
     "name": "stdout",
     "output_type": "stream",
     "text": [
      "[[ 85   0]\n",
      " [160   0]\n",
      " [126   0]\n",
      " ...\n",
      " [ 27   0]\n",
      " [ 29   0]\n",
      " [ 57   0]]\n"
     ]
    }
   ],
   "source": [
    "X = np.zeros((len(lunghezze),2),dtype=np.int32)\n",
    "for i in range(len(lunghezze)):\n",
    "    X[i][0]=lunghezze[i]\n",
    "    X[i][1]=nhash[i]\n",
    "print(X)"
   ]
  },
  {
   "cell_type": "markdown",
   "id": "49cb37cc-a57d-42e7-b085-c5eb28aa858b",
   "metadata": {},
   "source": [
    "######################################## PROVA UTILIZZANDO SOLO HASHTAG E NUMERO DI FOTO ###########################################################"
   ]
  },
  {
   "cell_type": "code",
   "execution_count": 31,
   "id": "69155c29-087b-419c-b934-81066e89da2d",
   "metadata": {},
   "outputs": [
    {
     "name": "stdout",
     "output_type": "stream",
     "text": [
      "[[0 0]\n",
      " [0 0]\n",
      " [0 0]\n",
      " ...\n",
      " [0 0]\n",
      " [0 0]\n",
      " [1 0]]\n"
     ]
    }
   ],
   "source": [
    "X = np.zeros((len(lunghezze),2),dtype=np.int32)\n",
    "for i in range(len(lunghezze)):\n",
    "    X[i][0]=numphoto[i]\n",
    "    X[i][1]=nhash[i]\n",
    "print(X)"
   ]
  },
  {
   "cell_type": "markdown",
   "id": "313fc583-8bb4-4848-9e6d-fcef7112c005",
   "metadata": {},
   "source": [
    "############################################ PROVA UTILIZZANDO TUTTI E TRE #########################################################################"
   ]
  },
  {
   "cell_type": "code",
   "execution_count": 32,
   "id": "d61a9fc3-52e6-4856-a72f-9aab91e8c78e",
   "metadata": {},
   "outputs": [
    {
     "name": "stdout",
     "output_type": "stream",
     "text": [
      "[[ 85   0   0]\n",
      " [160   0   0]\n",
      " [126   0   0]\n",
      " ...\n",
      " [ 27   0   0]\n",
      " [ 29   0   0]\n",
      " [ 57   0   1]]\n"
     ]
    }
   ],
   "source": [
    "X = np.zeros((len(lunghezze),3),dtype=np.int32)\n",
    "for i in range(len(lunghezze)):\n",
    "    X[i][0]=lunghezze[i]\n",
    "    X[i][1]=nhash[i]\n",
    "    X[i][2]=numphoto[i]\n",
    "print(X)"
   ]
  },
  {
   "cell_type": "markdown",
   "id": "7070516f-9d65-482e-a81b-cfa6567a15a2",
   "metadata": {},
   "source": [
    "######################################## OUTPUT ##################################################################################################"
   ]
  },
  {
   "cell_type": "code",
   "execution_count": 33,
   "id": "4b55a0b2-fa3a-415c-9aa0-d4f37a6b7977",
   "metadata": {},
   "outputs": [
    {
     "data": {
      "text/plain": [
       "RandomForestClassifier(max_depth=20, n_estimators=1000, random_state=0)"
      ]
     },
     "execution_count": 33,
     "metadata": {},
     "output_type": "execute_result"
    }
   ],
   "source": [
    "regr = RandomForestClassifier(n_estimators=1000,max_depth=20, random_state=0)\n",
    "regr.fit(X,popular.ravel())"
   ]
  },
  {
   "cell_type": "code",
   "execution_count": 34,
   "id": "20fe2e74-618d-43cf-ae64-7d41efb42a5b",
   "metadata": {},
   "outputs": [
    {
     "data": {
      "text/plain": [
       "1"
      ]
     },
     "execution_count": 34,
     "metadata": {},
     "output_type": "execute_result"
    }
   ],
   "source": [
    "regr.predict([[70,1,1]])[0]"
   ]
  },
  {
   "cell_type": "code",
   "execution_count": 35,
   "id": "4e939768-c8a0-4c76-b22f-9996861609b1",
   "metadata": {},
   "outputs": [
    {
     "data": {
      "text/plain": [
       "<matplotlib.collections.PathCollection at 0x278e4091ca0>"
      ]
     },
     "execution_count": 35,
     "metadata": {},
     "output_type": "execute_result"
    },
    {
     "data": {
      "image/png": "[encoded data removed]",
      "text/plain": [
       "<Figure size 432x288 with 1 Axes>"
      ]
     },
     "metadata": {
      "needs_background": "light"
     },
     "output_type": "display_data"
    }
   ],
   "source": [
    "predpoints = np.zeros((len(lunghezze),1),dtype=np.int32)\n",
    "for i in range(len(lunghezze)):\n",
    "    predpoints[i] = regr.predict([[X[i][0],X[i][1],X[i][2]]])[0]\n",
    "mpl.scatter(X[:,0],predpoints)"
   ]
  },
  {
   "cell_type": "code",
   "execution_count": 36,
   "id": "0d2f9832-794a-4994-8f03-98fcdc31efde",
   "metadata": {},
   "outputs": [
    {
     "data": {
      "text/plain": [
       "<matplotlib.collections.PathCollection at 0x278e623cc40>"
      ]
     },
     "execution_count": 36,
     "metadata": {},
     "output_type": "execute_result"
    },
    {
     "data": {
      "image/png": "[encoded data removed]",
      "text/plain": [
       "<Figure size 432x288 with 1 Axes>"
      ]
     },
     "metadata": {
      "needs_background": "light"
     },
     "output_type": "display_data"
    }
   ],
   "source": [
    "mpl.scatter(X[:,1],predpoints)"
   ]
  },
  {
   "cell_type": "code",
   "execution_count": 37,
   "id": "e76d9ef9-4b33-4d9e-9df0-3cdf5684fb80",
   "metadata": {},
   "outputs": [
    {
     "name": "stdout",
     "output_type": "stream",
     "text": [
      "[0]\n",
      "449\n",
      "0.2245\n"
     ]
    },
    {
     "data": {
      "image/png": "[encoded data removed]",
      "text/plain": [
       "<Figure size 432x288 with 1 Axes>"
      ]
     },
     "metadata": {
      "needs_background": "light"
     },
     "output_type": "display_data"
    }
   ],
   "source": [
    "errori = np.zeros((len(lunghezze),1),dtype=np.int32)\n",
    "count=0\n",
    "for i in range(len(lunghezze)):\n",
    "    errori[i]=abs(popular[i]-predpoints[i])\n",
    "    if(errori[i]==1):\n",
    "        count+=1 \n",
    "mpl.scatter(X[:,0],errori)\n",
    "print(errori[0])\n",
    "print(count)\n",
    "print(count/len(lunghezze))"
   ]
  },
  {
   "cell_type": "code",
   "execution_count": 38,
   "id": "e9d13b6e-ad64-4dc4-979c-9f63f38810e2",
   "metadata": {},
   "outputs": [
    {
     "name": "stdout",
     "output_type": "stream",
     "text": [
      "[0]\n",
      "221\n",
      "0.221\n"
     ]
    },
    {
     "data": {
      "text/plain": [
       "<matplotlib.collections.PathCollection at 0x278e9321a90>"
      ]
     },
     "execution_count": 38,
     "metadata": {},
     "output_type": "execute_result"
    },
    {
     "data": {
      "image/png": "[encoded data removed]",
      "text/plain": [
       "<Figure size 432x288 with 1 Axes>"
      ]
     },
     "metadata": {
      "needs_background": "light"
     },
     "output_type": "display_data"
    }
   ],
   "source": [
    "erroripop = np.zeros((len(lunghezze),1),dtype=np.int32)\n",
    "count=0\n",
    "for i in range(len(lunghezze)):\n",
    "    if(popular[i]==1):\n",
    "        erroripop[i]=abs(popular[i]-predpoints[i])+1\n",
    "        if(erroripop[i]==2):\n",
    "            count+=1\n",
    "print(erroripop[0])\n",
    "print(count)\n",
    "print(count/1000)\n",
    "mpl.scatter(X[:,0],erroripop)"
   ]
  },
  {
   "cell_type": "code",
   "execution_count": 39,
   "id": "c3747a7b-c9bd-4599-8f71-0fcfb0ce11d9",
   "metadata": {},
   "outputs": [
    {
     "name": "stdout",
     "output_type": "stream",
     "text": [
      "[1]\n",
      "228\n",
      "0.228\n"
     ]
    },
    {
     "data": {
      "text/plain": [
       "<matplotlib.collections.PathCollection at 0x278e938cf70>"
      ]
     },
     "execution_count": 39,
     "metadata": {},
     "output_type": "execute_result"
    },
    {
     "data": {
      "image/png": "[encoded data removed]",
      "text/plain": [
       "<Figure size 432x288 with 1 Axes>"
      ]
     },
     "metadata": {
      "needs_background": "light"
     },
     "output_type": "display_data"
    }
   ],
   "source": [
    "errorinpop = np.zeros((len(lunghezze),1),dtype=np.int32)\n",
    "count=0\n",
    "for i in range(len(lunghezze)):\n",
    "    if(popular[i]==0):\n",
    "        errorinpop[i]=abs(popular[i]-predpoints[i])+1\n",
    "        if(errorinpop[i]==2):\n",
    "            count+=1\n",
    "print(errorinpop[0])\n",
    "print(count)\n",
    "print(count/1000)\n",
    "mpl.scatter(X[:,0],errorinpop)"
   ]
  },
  {
   "cell_type": "markdown",
   "id": "960abd36-9526-45cd-bb80-7165e9d8c361",
   "metadata": {},
   "source": [
    "####################################################################################################################################################\n",
    "RINCONTROLLARE I VALOR DEI FALSI PERCHE FORSE ALCUNI SONO INVERTITI\n",
    "\n",
    "CASO1: Hashtag e Lunghezze. Errore del 28% c.a. con favoritismi verso i falsi popolari (33%) rispetto ai falsi non popolari (23%)\n",
    "CASO2: Hashtag e Foto. Errore del 44% c.a. con falsi non popolari pari a 17% ma falsi popolari pari a 70%\n",
    "CASO3: Lunghezze Hashtag e Foto: Errore del 22% c.a. con falsi non popolari pari a 21% c.a. e falsi popolari pari a 24% c.a.\n",
    "####################################################################################################################################################"
   ]
  },
  {
   "cell_type": "code",
   "execution_count": 40,
   "id": "85bcd663-f8a9-4d04-a4c0-5abe47888a5e",
   "metadata": {},
   "outputs": [
    {
     "name": "stdout",
     "output_type": "stream",
     "text": [
      "[[0]\n",
      " [0]\n",
      " [0]\n",
      " ...\n",
      " [0]\n",
      " [0]\n",
      " [1]]\n"
     ]
    }
   ],
   "source": [
    "vt = df[\"video\"]\n",
    "nvideo = np.zeros((len(vt),1),dtype=np.int32)\n",
    "for i in range(len(vt)):\n",
    "    if(vt[i]!=ht[0]):\n",
    "        nvideo[i]=vt[i]\n",
    "print(nvideo)"
   ]
  },
  {
   "cell_type": "code",
   "execution_count": 41,
   "id": "984b3c29-d5e3-4695-a29e-4d2db8a51930",
   "metadata": {},
   "outputs": [
    {
     "name": "stdout",
     "output_type": "stream",
     "text": [
      "[[ 85   0   0   0]\n",
      " [160   0   0   0]\n",
      " [126   0   0   0]\n",
      " ...\n",
      " [ 27   0   0   0]\n",
      " [ 29   0   0   0]\n",
      " [ 57   0   1   1]]\n"
     ]
    },
    {
     "data": {
      "text/plain": [
       "<matplotlib.collections.PathCollection at 0x278e942aac0>"
      ]
     },
     "execution_count": 41,
     "metadata": {},
     "output_type": "execute_result"
    },
    {
     "data": {
      "image/png": "[encoded data removed]",
      "text/plain": [
       "<Figure size 432x288 with 1 Axes>"
      ]
     },
     "metadata": {
      "needs_background": "light"
     },
     "output_type": "display_data"
    }
   ],
   "source": [
    "X = np.zeros((len(lunghezze),4),dtype=np.int32)\n",
    "for i in range(len(lunghezze)):\n",
    "    X[i][0]=lunghezze[i]\n",
    "    X[i][1]=nhash[i]\n",
    "    X[i][2]=numphoto[i]\n",
    "    X[i][3]=nvideo[i]\n",
    "print(X)\n",
    "regr = RandomForestClassifier(n_estimators=1000,max_depth=20, random_state=0)\n",
    "regr.fit(X,popular.ravel())\n",
    "predpoints = np.zeros((len(lunghezze),1),dtype=np.int32)\n",
    "for i in range(len(lunghezze)):\n",
    "    predpoints[i] = regr.predict([[X[i][0],X[i][1],X[i][2],X[i][3]]])[0]\n",
    "mpl.scatter(X[:,0],predpoints)\n",
    "mpl.scatter(X[:,1],predpoints)"
   ]
  },
  {
   "cell_type": "code",
   "execution_count": 42,
   "id": "ce6cfa13-09c2-4cf7-8dc1-c80b78fca968",
   "metadata": {},
   "outputs": [],
   "source": [
    "def errs():\n",
    "    errori = np.zeros((len(lunghezze),1),dtype=np.int32)\n",
    "    count=0\n",
    "    for i in range(len(lunghezze)):\n",
    "        errori[i]=abs(popular[i]-predpoints[i])\n",
    "        if(errori[i]==1):\n",
    "            count+=1 \n",
    "    mpl.scatter(X[:,0],errori)\n",
    "    print(errori[0])\n",
    "    print(count)\n",
    "    print(count/len(lunghezze))\n",
    "    erroripop = np.zeros((len(lunghezze),1),dtype=np.int32)\n",
    "    count=0\n",
    "    for i in range(len(lunghezze)):\n",
    "        if(popular[i]==1):\n",
    "            erroripop[i]=abs(popular[i]-predpoints[i])+1\n",
    "            if(erroripop[i]==2):\n",
    "                count+=1\n",
    "    print(erroripop[0])\n",
    "    print(count)\n",
    "    print(count/1000)\n",
    "    mpl.scatter(X[:,0],erroripop)\n",
    "    errorinpop = np.zeros((len(lunghezze),1),dtype=np.int32)\n",
    "    count=0\n",
    "    for i in range(len(lunghezze)):\n",
    "        if(popular[i]==0):\n",
    "            errorinpop[i]=abs(popular[i]-predpoints[i])+1\n",
    "            if(errorinpop[i]==2):\n",
    "                count+=1\n",
    "    print(errorinpop[0])\n",
    "    print(count)\n",
    "    print(count/1000)\n",
    "    mpl.scatter(X[:,0],errorinpop)"
   ]
  },
  {
   "cell_type": "code",
   "execution_count": 43,
   "id": "bfc0b12d-50f8-4c78-ac39-64f791d5fa40",
   "metadata": {},
   "outputs": [
    {
     "name": "stdout",
     "output_type": "stream",
     "text": [
      "[0]\n",
      "426\n",
      "0.213\n",
      "[0]\n",
      "232\n",
      "0.232\n",
      "[1]\n",
      "194\n",
      "0.194\n"
     ]
    },
    {
     "data": {
      "image/png": "[encoded data removed]",
      "text/plain": [
       "<Figure size 432x288 with 1 Axes>"
      ]
     },
     "metadata": {
      "needs_background": "light"
     },
     "output_type": "display_data"
    }
   ],
   "source": [
    "errs()"
   ]
  },
  {
   "cell_type": "markdown",
   "id": "1ece1168-c315-4d69-b677-3698678dae44",
   "metadata": {},
   "source": [
    "############################################################################################################################################\n",
    "AGGIUNGENDO IL NUMERO DI VIDEO IL FIT E' MIGLIORATO ULTERIORMENTE SUL DATA SET ARRIVANDO A UN ERRORE MEDIO DEL 21%\n",
    "############################################################################################################################################"
   ]
  },
  {
   "cell_type": "code",
   "execution_count": 44,
   "id": "f71fbf36-84f4-4141-aa88-7f68a564a3d0",
   "metadata": {},
   "outputs": [
    {
     "name": "stdout",
     "output_type": "stream",
     "text": [
      "      Unnamed: 0  anger  anticipation  disgust  fear  joy  sadness  surprise  \\\n",
      "0              1      0             2        0     0    0        0         0   \n",
      "1              2      0             0        0     0    0        0         0   \n",
      "2              3      0             2        0     0    3        0         2   \n",
      "3              4      0             0        0     0    0        0         0   \n",
      "4              5      0             0        0     0    0        0         0   \n",
      "...          ...    ...           ...      ...   ...  ...      ...       ...   \n",
      "1995        1996      0             0        0     0    0        0         0   \n",
      "1996        1997      1             0        1     1    1        1         1   \n",
      "1997        1998      0             0        0     0    1        0         0   \n",
      "1998        1999      0             1        0     1    1        0         1   \n",
      "1999        2000      0             0        0     0    0        0         0   \n",
      "\n",
      "      trust  negative  positive  \n",
      "0         0         0         0  \n",
      "1         0         0         0  \n",
      "2         2         0         3  \n",
      "3         0         0         0  \n",
      "4         0         0         0  \n",
      "...     ...       ...       ...  \n",
      "1995      0         0         0  \n",
      "1996      0         1         2  \n",
      "1997      1         0         2  \n",
      "1998      1         0         1  \n",
      "1999      0         0         0  \n",
      "\n",
      "[2000 rows x 11 columns]\n"
     ]
    }
   ],
   "source": [
    "sf = pd.read_csv(r'C:\\Users\\loren\\Documents\\GitHub\\intro2ml_2021_final_project\\Data\\sentiment_by_sentence.csv')\n",
    "print(sf)"
   ]
  },
  {
   "cell_type": "code",
   "execution_count": 45,
   "id": "ddd049f0-f95b-492c-9fa5-1e3779dc10bb",
   "metadata": {},
   "outputs": [
    {
     "name": "stdout",
     "output_type": "stream",
     "text": [
      "[[ 85   0   0 ...   0   0   0]\n",
      " [160   0   0 ...   0   0   0]\n",
      " [126   0   0 ...   2   0   3]\n",
      " ...\n",
      " [ 27   0   0 ...   1   0   2]\n",
      " [ 29   0   0 ...   1   0   1]\n",
      " [ 57   0   1 ...   0   0   0]]\n"
     ]
    }
   ],
   "source": [
    "X = np.zeros((len(lunghezze),14),dtype=np.int32)\n",
    "for i in range(len(lunghezze)):\n",
    "    X[i][0]=lunghezze[i]\n",
    "    X[i][1]=nhash[i]\n",
    "    X[i][2]=numphoto[i]\n",
    "    X[i][3]=nvideo[i]\n",
    "    X[i][4]=sf[\"anger\"][i]\n",
    "    X[i][5]=sf[\"anticipation\"][i]\n",
    "    X[i][6]=sf[\"disgust\"][i]\n",
    "    X[i][7]=sf[\"fear\"][i]\n",
    "    X[i][8]=sf[\"joy\"][i]\n",
    "    X[i][9]=sf[\"sadness\"][i]\n",
    "    X[i][10]=sf[\"surprise\"][i]\n",
    "    X[i][11]=sf[\"trust\"][i]\n",
    "    X[i][12]=sf[\"negative\"][i]\n",
    "    X[i][13]=sf[\"positive\"][i]\n",
    "print(X)\n",
    "regr = RandomForestClassifier(n_estimators=500,max_depth=20, random_state=0)\n",
    "regr.fit(X,popular.ravel())\n",
    "predpoints = np.zeros((len(lunghezze),1),dtype=np.int32)\n",
    "for i in range(len(lunghezze)):\n",
    "    predpoints[i] = regr.predict([[X[i][0],X[i][1],X[i][2],X[i][3],X[i][4],X[i][5],X[i][6],X[i][7],X[i][8],X[i][9],X[i][10],X[i][11],X[i][12],X[i][13]]])[0]"
   ]
  },
  {
   "cell_type": "code",
   "execution_count": 46,
   "id": "25c667a4-9acc-41fc-a3e9-eb9e169de711",
   "metadata": {},
   "outputs": [
    {
     "name": "stdout",
     "output_type": "stream",
     "text": [
      "[0]\n",
      "89\n",
      "0.0445\n",
      "[0]\n",
      "53\n",
      "0.053\n",
      "[1]\n",
      "36\n",
      "0.036\n"
     ]
    },
    {
     "data": {
      "image/png": "[encoded data removed]",
      "text/plain": [
       "<Figure size 432x288 with 1 Axes>"
      ]
     },
     "metadata": {
      "needs_background": "light"
     },
     "output_type": "display_data"
    }
   ],
   "source": [
    "errs()"
   ]
  },
  {
   "cell_type": "markdown",
   "id": "b7261b13-f186-4b9f-a4a9-1cfc4df29589",
   "metadata": {},
   "source": [
    "#####################################################################################################################################\n",
    "INSERENDO LE EMOZIONI L'ERRORE SEMBRA CROLLARE AL 4.5%\n",
    "#####################################################################################################################################"
   ]
  },
  {
   "cell_type": "code",
   "execution_count": null,
   "id": "45edca12-2707-4a9e-af2e-bff3ca619725",
   "metadata": {},
   "outputs": [],
   "source": []
  }
 ],
 "metadata": {
  "kernelspec": {
   "display_name": "Python 3 (ipykernel)",
   "language": "python",
   "name": "python3"
  },
  "language_info": {
   "codemirror_mode": {
    "name": "ipython",
    "version": 3
   },
   "file_extension": ".py",
   "mimetype": "text/x-python",
   "name": "python",
   "nbconvert_exporter": "python",
   "pygments_lexer": "ipython3",
   "version": "3.9.7"
  }
 },
 "nbformat": 4,
 "nbformat_minor": 5
}
