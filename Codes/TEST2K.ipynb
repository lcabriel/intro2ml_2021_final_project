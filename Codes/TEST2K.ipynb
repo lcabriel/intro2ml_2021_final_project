{
 "cells": [
  {
   "cell_type": "code",
   "execution_count": 1,
   "id": "7682cf75-9c52-4a1f-b1b7-db1e545d2233",
   "metadata": {},
   "outputs": [
    {
     "name": "stdout",
     "output_type": "stream",
     "text": [
      "                       id language  retweet        date      time  \\\n",
      "0     1485744412172950000       en    False  24/01/2022  23:40:46   \n",
      "1     1485721208616270000       en    False  24/01/2022  22:08:34   \n",
      "2     1485712796457340000       en    False  24/01/2022  21:35:08   \n",
      "3     1485696815081160000       en    False  24/01/2022  20:31:38   \n",
      "4     1485676215142920000       en    False  24/01/2022  19:09:46   \n",
      "...                   ...      ...      ...         ...       ...   \n",
      "1995   576616860638158000       en    False  14/03/2015  06:32:27   \n",
      "1996   576378534635155000       en    False  13/03/2015  14:45:25   \n",
      "1997   576323800913997000       en    False  13/03/2015  11:07:56   \n",
      "1998   576027220013031000       en    False  12/03/2015  15:29:25   \n",
      "1999   576003023455068000       en    False  12/03/2015  13:53:17   \n",
      "\n",
      "                                                  tweet  \\\n",
      "0     just sliced an acorn squash and it wasnt even ...   \n",
      "1     Acorn squash, lacinato kale, parsnip and duck ...   \n",
      "2     @SmrtAleks Sounds great Aleks. I love sweet po...   \n",
      "3       and i’m gonna roast an acorn squash to go w it!   \n",
      "4                        Stuffed acorn squash tonight 🥰   \n",
      "...                                                 ...   \n",
      "1995  Bacon Burgers and Cheese Fries.  http://t.co/X...   \n",
      "1996  Friday the 13th might be an unlucky day, but w...   \n",
      "1997                        I prefer your love to bacon   \n",
      "1998                      Is it possible to marry bacon   \n",
      "1999  Bacon Burgers and Cheese Fries. ^  http://t.co...   \n",
      "\n",
      "                                               mentions  \\\n",
      "0                                                    []   \n",
      "1     [{'screen_name': 'farmfreshtoyou', 'name': 'fa...   \n",
      "2                                                    []   \n",
      "3                                                    []   \n",
      "4                                                    []   \n",
      "...                                                 ...   \n",
      "1995                                                 []   \n",
      "1996                                                 []   \n",
      "1997                                                 []   \n",
      "1998                                                 []   \n",
      "1999                                                 []   \n",
      "\n",
      "                                                   urls  \\\n",
      "0                                                    []   \n",
      "1     ['https://www.instagram.com/p/CZIJpF8vpWl/?utm...   \n",
      "2                                                    []   \n",
      "3                                                    []   \n",
      "4                                                    []   \n",
      "...                                                 ...   \n",
      "1995                                                 []   \n",
      "1996                                                 []   \n",
      "1997                                                 []   \n",
      "1998                                                 []   \n",
      "1999                                                 []   \n",
      "\n",
      "                                                 photos hashtags quote_url  \\\n",
      "0                                                    []       []       NaN   \n",
      "1                                                    []       []       NaN   \n",
      "2                                                    []       []       NaN   \n",
      "3                                                    []       []       NaN   \n",
      "4                                                    []       []       NaN   \n",
      "...                                                 ...      ...       ...   \n",
      "1995  ['https://pbs.twimg.com/media/CACN-soWMAABWO0....       []       NaN   \n",
      "1996                                                 []       []       NaN   \n",
      "1997                                                 []       []       NaN   \n",
      "1998                                                 []       []       NaN   \n",
      "1999  ['https://pbs.twimg.com/media/Bz2LzKuIEAEEO69....       []       NaN   \n",
      "\n",
      "      video  replies_count  likes_count  retweets_count  \n",
      "0         0              0            5               0  \n",
      "1         0              1            1               0  \n",
      "2         0              1            1               0  \n",
      "3         0              0            2               0  \n",
      "4         0              0            0               0  \n",
      "...     ...            ...          ...             ...  \n",
      "1995      1             94         2166            2765  \n",
      "1996      0             14         2796            1773  \n",
      "1997      0            292         5009            3194  \n",
      "1998      0            401         3219            1290  \n",
      "1999      1            109         2517            3268  \n",
      "\n",
      "[2000 rows x 15 columns]\n"
     ]
    }
   ],
   "source": [
    "import matplotlib.pyplot as mpl\n",
    "import numpy as np\n",
    "import pandas as pd\n",
    "df = pd.read_csv(r'C:\\Users\\loren\\Documents\\GitHub\\intro2ml_2021_final_project\\Data\\dataset_2k.csv')\n",
    "print(df)"
   ]
  },
  {
   "cell_type": "code",
   "execution_count": 3,
   "id": "327b85e1-0a64-4813-991b-cb9146bfa2b0",
   "metadata": {},
   "outputs": [],
   "source": [
    "texts = df[\"tweet\"]\n",
    "lunghezze = [0 for x in texts]\n",
    "for i in range(len(texts)):\n",
    "    lunghezze[i]=len(texts[i])"
   ]
  },
  {
   "cell_type": "code",
   "execution_count": 6,
   "id": "03022c94-c6ee-47cb-b7fa-3e2fcefa4c51",
   "metadata": {},
   "outputs": [
    {
     "data": {
      "text/plain": [
       "(array([ 12.,  37.,  46.,  79., 111.,  98., 112.,  86.,  88., 100.,  91.,\n",
       "         99.,  95., 106.,  46.,  58.,  56.,  43.,  54.,  39.,  37.,  45.,\n",
       "         37.,  75.,  69.,  66.,  87.,  30.,  84.,  14.]),\n",
       " array([  4.        ,  14.43333333,  24.86666667,  35.3       ,\n",
       "         45.73333333,  56.16666667,  66.6       ,  77.03333333,\n",
       "         87.46666667,  97.9       , 108.33333333, 118.76666667,\n",
       "        129.2       , 139.63333333, 150.06666667, 160.5       ,\n",
       "        170.93333333, 181.36666667, 191.8       , 202.23333333,\n",
       "        212.66666667, 223.1       , 233.53333333, 243.96666667,\n",
       "        254.4       , 264.83333333, 275.26666667, 285.7       ,\n",
       "        296.13333333, 306.56666667, 317.        ]),\n",
       " <BarContainer object of 30 artists>)"
      ]
     },
     "execution_count": 6,
     "metadata": {},
     "output_type": "execute_result"
    },
    {
     "data": {
      "image/png": "[encoded data removed]",
      "text/plain": [
       "<Figure size 432x288 with 1 Axes>"
      ]
     },
     "metadata": {
      "needs_background": "light"
     },
     "output_type": "display_data"
    }
   ],
   "source": [
    "n_bins=30\n",
    "fig, axs = mpl.subplots(1, 1, sharey=True, tight_layout=True)\n",
    "axs.hist(lunghezze, bins=n_bins)"
   ]
  },
  {
   "cell_type": "code",
   "execution_count": 7,
   "id": "d8a73397-6008-4064-8373-80cec654543a",
   "metadata": {},
   "outputs": [],
   "source": [
    "rt = df[\"retweets_count\"]\n",
    "retweets = [np.int64(0) for x in rt]\n",
    "for i in range(len(rt)):\n",
    "    retweets[i] = rt[i]"
   ]
  },
  {
   "cell_type": "code",
   "execution_count": 9,
   "id": "1496f9f1-6e18-4ea9-bdc9-6e4782a8c699",
   "metadata": {},
   "outputs": [
    {
     "data": {
      "text/plain": [
       "(array([1.89e+03, 5.70e+01, 2.40e+01, 1.40e+01, 6.00e+00, 4.00e+00,\n",
       "        0.00e+00, 0.00e+00, 1.00e+00, 1.00e+00, 0.00e+00, 1.00e+00,\n",
       "        0.00e+00, 0.00e+00, 0.00e+00, 1.00e+00, 0.00e+00, 0.00e+00,\n",
       "        0.00e+00, 0.00e+00, 0.00e+00, 0.00e+00, 0.00e+00, 0.00e+00,\n",
       "        0.00e+00, 0.00e+00, 0.00e+00, 0.00e+00, 0.00e+00, 1.00e+00]),\n",
       " array([     0.        ,  10750.26666667,  21500.53333333,  32250.8       ,\n",
       "         43001.06666667,  53751.33333333,  64501.6       ,  75251.86666667,\n",
       "         86002.13333333,  96752.4       , 107502.66666667, 118252.93333333,\n",
       "        129003.2       , 139753.46666667, 150503.73333333, 161254.        ,\n",
       "        172004.26666667, 182754.53333333, 193504.8       , 204255.06666667,\n",
       "        215005.33333333, 225755.6       , 236505.86666667, 247256.13333333,\n",
       "        258006.4       , 268756.66666667, 279506.93333333, 290257.2       ,\n",
       "        301007.46666667, 311757.73333333, 322508.        ]),\n",
       " <BarContainer object of 30 artists>)"
      ]
     },
     "execution_count": 9,
     "metadata": {},
     "output_type": "execute_result"
    },
    {
     "data": {
      "image/png": "[encoded data removed]",
      "text/plain": [
       "<Figure size 432x288 with 1 Axes>"
      ]
     },
     "metadata": {
      "needs_background": "light"
     },
     "output_type": "display_data"
    }
   ],
   "source": [
    "n_bins=30\n",
    "fig, axs = mpl.subplots(1, 1, sharey=True, tight_layout=True)\n",
    "axs.hist(retweets, bins=n_bins)"
   ]
  },
  {
   "cell_type": "code",
   "execution_count": 10,
   "id": "c4b43e49-22a9-4a8a-a683-5ea5703399f1",
   "metadata": {},
   "outputs": [
    {
     "data": {
      "text/plain": [
       "<matplotlib.collections.PathCollection at 0x23430a44280>"
      ]
     },
     "execution_count": 10,
     "metadata": {},
     "output_type": "execute_result"
    },
    {
     "data": {
      "image/png": "[encoded data removed]",
      "text/plain": [
       "<Figure size 432x288 with 1 Axes>"
      ]
     },
     "metadata": {
      "needs_background": "light"
     },
     "output_type": "display_data"
    }
   ],
   "source": [
    "mpl.scatter(lunghezze,retweets)"
   ]
  },
  {
   "cell_type": "code",
   "execution_count": 22,
   "id": "74dd77f4-e1c3-4b17-b284-908559a22655",
   "metadata": {},
   "outputs": [
    {
     "name": "stdout",
     "output_type": "stream",
     "text": [
      "[[0]\n",
      " [0]\n",
      " [0]\n",
      " ...\n",
      " [1]\n",
      " [1]\n",
      " [1]]\n"
     ]
    },
    {
     "data": {
      "text/plain": [
       "numpy.ndarray"
      ]
     },
     "execution_count": 22,
     "metadata": {},
     "output_type": "execute_result"
    }
   ],
   "source": [
    "popular = np.zeros((len(lunghezze),1),dtype=np.int32)\n",
    "for i in range(len(lunghezze)):\n",
    "    if retweets[i]>=1000:\n",
    "        popular[i]=1\n",
    "print(popular)\n",
    "type(popular)"
   ]
  },
  {
   "cell_type": "code",
   "execution_count": 23,
   "id": "97a2984d-e2ac-4c14-8c90-ff895f4a1f48",
   "metadata": {},
   "outputs": [
    {
     "data": {
      "text/plain": [
       "<matplotlib.collections.PathCollection at 0x2342cfbc610>"
      ]
     },
     "execution_count": 23,
     "metadata": {},
     "output_type": "execute_result"
    },
    {
     "data": {
      "image/png": "[encoded data removed]",
      "text/plain": [
       "<Figure size 432x288 with 1 Axes>"
      ]
     },
     "metadata": {
      "needs_background": "light"
     },
     "output_type": "display_data"
    }
   ],
   "source": [
    "mpl.scatter(lunghezze,popular)"
   ]
  },
  {
   "cell_type": "code",
   "execution_count": 24,
   "id": "50fddc22-baee-46eb-afad-f40d1b0c79a1",
   "metadata": {},
   "outputs": [],
   "source": [
    "from sklearn.ensemble import RandomForestClassifier\n",
    "from sklearn.datasets import make_regression"
   ]
  },
  {
   "cell_type": "code",
   "execution_count": 25,
   "id": "ca8e817d-8d82-4143-b63a-c2ff51253e6e",
   "metadata": {},
   "outputs": [],
   "source": [
    "lung2D = np.zeros((len(lunghezze),2),dtype=np.int32)\n",
    "for i in range(len(lunghezze)):\n",
    "    lung2D[i][0]=lunghezze[i]"
   ]
  },
  {
   "cell_type": "code",
   "execution_count": 50,
   "id": "7d6d3625-1c47-4cda-9d56-b36d8dfbd417",
   "metadata": {},
   "outputs": [
    {
     "name": "stdout",
     "output_type": "stream",
     "text": [
      "4\n",
      "317\n",
      "0\n",
      "322508\n"
     ]
    },
    {
     "data": {
      "text/plain": [
       "RandomForestClassifier(max_depth=20, n_estimators=1000, random_state=0)"
      ]
     },
     "execution_count": 50,
     "metadata": {},
     "output_type": "execute_result"
    }
   ],
   "source": [
    "print(min(lunghezze))\n",
    "print(max(lunghezze))\n",
    "print(min(retweets))\n",
    "print(max(retweets))\n",
    "\n",
    "regr = RandomForestClassifier(n_estimators=1000,max_depth=20, random_state=0)\n",
    "regr.fit(lung2D,popular.ravel())"
   ]
  },
  {
   "cell_type": "code",
   "execution_count": 51,
   "id": "382f5c0b-a7dc-4931-8092-2af603824000",
   "metadata": {},
   "outputs": [
    {
     "data": {
      "text/plain": [
       "1"
      ]
     },
     "execution_count": 51,
     "metadata": {},
     "output_type": "execute_result"
    }
   ],
   "source": [
    "regr.predict([[70,0]])[0]"
   ]
  },
  {
   "cell_type": "code",
   "execution_count": 52,
   "id": "2acd0d62-b1c7-4e6d-8ae7-f5375fd7beed",
   "metadata": {},
   "outputs": [
    {
     "data": {
      "text/plain": [
       "<matplotlib.collections.PathCollection at 0x23413f76760>"
      ]
     },
     "execution_count": 52,
     "metadata": {},
     "output_type": "execute_result"
    },
    {
     "data": {
      "image/png": "[encoded data removed]",
      "text/plain": [
       "<Figure size 432x288 with 1 Axes>"
      ]
     },
     "metadata": {
      "needs_background": "light"
     },
     "output_type": "display_data"
    }
   ],
   "source": [
    "predpoints = np.zeros((len(lunghezze),1),dtype=np.int32)\n",
    "for i in range(len(lunghezze)):\n",
    "    predpoints[i] = regr.predict([[lunghezze[i],0]])[0]\n",
    "mpl.scatter(lunghezze,predpoints)"
   ]
  },
  {
   "cell_type": "code",
   "execution_count": 53,
   "id": "79bc90d0-9afa-4b96-87ef-4f958db5231b",
   "metadata": {},
   "outputs": [
    {
     "name": "stdout",
     "output_type": "stream",
     "text": [
      "[0]\n",
      "622\n",
      "0.311\n"
     ]
    },
    {
     "data": {
      "image/png": "[encoded data removed]",
      "text/plain": [
       "<Figure size 432x288 with 1 Axes>"
      ]
     },
     "metadata": {
      "needs_background": "light"
     },
     "output_type": "display_data"
    }
   ],
   "source": [
    "errori = np.zeros((len(lunghezze),1),dtype=np.int32)\n",
    "count=0\n",
    "for i in range(len(lunghezze)):\n",
    "    errori[i]=abs(popular[i]-predpoints[i])\n",
    "    if(errori[i]==1):\n",
    "        count+=1 \n",
    "mpl.scatter(lunghezze,errori)\n",
    "print(errori[0])\n",
    "print(count)\n",
    "print(count/len(lunghezze))"
   ]
  },
  {
   "cell_type": "code",
   "execution_count": 54,
   "id": "e4a868d9-a938-4de5-b413-6e25b57cd584",
   "metadata": {},
   "outputs": [
    {
     "name": "stdout",
     "output_type": "stream",
     "text": [
      "[0]\n",
      "292\n",
      "0.292\n"
     ]
    },
    {
     "data": {
      "text/plain": [
       "<matplotlib.collections.PathCollection at 0x23414021b50>"
      ]
     },
     "execution_count": 54,
     "metadata": {},
     "output_type": "execute_result"
    },
    {
     "data": {
      "image/png": "[encoded data removed]",
      "text/plain": [
       "<Figure size 432x288 with 1 Axes>"
      ]
     },
     "metadata": {
      "needs_background": "light"
     },
     "output_type": "display_data"
    }
   ],
   "source": [
    "erroripop = np.zeros((len(lunghezze),1),dtype=np.int32)\n",
    "count=0\n",
    "for i in range(len(lunghezze)):\n",
    "    if(popular[i]==1):\n",
    "        erroripop[i]=abs(popular[i]-predpoints[i])+1\n",
    "        if(erroripop[i]==2):\n",
    "            count+=1\n",
    "print(erroripop[0])\n",
    "print(count)\n",
    "print(count/1000)\n",
    "mpl.scatter(lunghezze,erroripop)"
   ]
  },
  {
   "cell_type": "code",
   "execution_count": 55,
   "id": "478eb9c8-925e-4c47-9a3e-2ce63af8e915",
   "metadata": {},
   "outputs": [
    {
     "name": "stdout",
     "output_type": "stream",
     "text": [
      "[1]\n",
      "330\n",
      "0.33\n"
     ]
    },
    {
     "data": {
      "text/plain": [
       "<matplotlib.collections.PathCollection at 0x23427598430>"
      ]
     },
     "execution_count": 55,
     "metadata": {},
     "output_type": "execute_result"
    },
    {
     "data": {
      "image/png": "[encoded data removed]",
      "text/plain": [
       "<Figure size 432x288 with 1 Axes>"
      ]
     },
     "metadata": {
      "needs_background": "light"
     },
     "output_type": "display_data"
    }
   ],
   "source": [
    "errorinpop = np.zeros((len(lunghezze),1),dtype=np.int32)\n",
    "count=0\n",
    "for i in range(len(lunghezze)):\n",
    "    if(popular[i]==0):\n",
    "        errorinpop[i]=abs(popular[i]-predpoints[i])+1\n",
    "        if(errorinpop[i]==2):\n",
    "            count+=1\n",
    "print(errorinpop[0])\n",
    "print(count)\n",
    "print(count/1000)\n",
    "mpl.scatter(lunghezze,errorinpop)"
   ]
  },
  {
   "cell_type": "markdown",
   "id": "553b210e-758f-44e6-b730-cdaa4c748f09",
   "metadata": {},
   "source": [
    "##############################################################################################################################################################\n",
    "E' DUNQUE DA NOTARE CHE LA RANDOM FOREST  USANDO COME UNICO PREDITTORE LA LUNGHEZZA HA UN ERRORE DEL 30% C.A. NELLE PREDIZIONI CON UNA LEGGERISSIMA TENDENZA A FAVORIRE I FALSI NON POPOLARI RISPETTO A I FALSI POPOLARI. ALL'AUMENTARE DEL NUMERO DI ALBERI L'ERRORE INIZIA FLUTTUARE LOCALMENTE MA SEMPRE INTORNO AL 30% CON TALVOLTA\n",
    "MIGLIORAMENTI NEI FALSI POPOLARI O NEI FALSI NON POPOLARI.\n",
    "##############################################################################################################################################################"
   ]
  },
  {
   "cell_type": "code",
   "execution_count": null,
   "id": "bef1e046-7f4b-4f7c-9c23-6679d0f9cc76",
   "metadata": {},
   "outputs": [],
   "source": []
  }
 ],
 "metadata": {
  "kernelspec": {
   "display_name": "Python 3 (ipykernel)",
   "language": "python",
   "name": "python3"
  },
  "language_info": {
   "codemirror_mode": {
    "name": "ipython",
    "version": 3
   },
   "file_extension": ".py",
   "mimetype": "text/x-python",
   "name": "python",
   "nbconvert_exporter": "python",
   "pygments_lexer": "ipython3",
   "version": "3.9.7"
  }
 },
 "nbformat": 4,
 "nbformat_minor": 5
}
